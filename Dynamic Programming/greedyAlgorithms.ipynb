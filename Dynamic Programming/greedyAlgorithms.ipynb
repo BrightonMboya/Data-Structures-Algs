{
 "cells": [
  {
   "cell_type": "markdown",
   "source": [
    "## Minimum waiting time\r\n",
    "\r\n",
    "You are given a non-empty array of positive integers representing the amounts of time that specific queries take to execute. Only one query can be executed at a time, but the queries can be executed in any order.\r\n",
    "\r\n",
    "A query's waiting time is defined as the amount of time that it must wait before its executions starts. In other words, if a query is executed second, then its waiting time is the duration of the first query; if a query is executed third, then its waiting time is the sum of the durations of the first two queries.\r\n",
    "\r\n",
    "Write a function that returns the minimum amount of total waiting time for all of the queries.\r\n"
   ],
   "metadata": {}
  },
  {
   "cell_type": "code",
   "execution_count": 1,
   "source": [
    "def minimumWaitingTime(queries):\r\n",
    "\t# Write your code here.\r\n",
    "\tqueries.sort()\r\n",
    "\twaitingTime = 0\r\n",
    "\ti = 0\r\n",
    "\tfor idx, duration in enumerate(queries):\r\n",
    "\t\ttasksLeft = (len(queries)-1) - idx\r\n",
    "\t\twaitingTime += duration * tasksLeft\r\n",
    "\treturn waitingTime"
   ],
   "outputs": [],
   "metadata": {}
  },
  {
   "cell_type": "markdown",
   "source": [
    "# ClassPhotos\r\n",
    "\r\n",
    "It's photo day at the local school, and you're the photographer assigned\r\n",
    "to take class photos. The class that you'll be photographing has an even\r\n",
    "\r\n",
    "number of students, and all these students are wearing red or blue shirts. \r\n",
    "In fact, exactly half of the class is wearing red shirts, and the other half \r\n",
    "is wearing blue shirts. You're responsible for arranging the students in two \r\n",
    "rows before taking the photo. Each row should contain the same number of the \r\n",
    "students and should adhere to the following guidelines:\r\n",
    "\r\n",
    "All students wearing red shirts must be in the same row.\r\n",
    "All students wearing blue shirts must be in the same row.\r\n",
    "Each student in the back row must be strictly taller than the student\r\n",
    "directly in front of them in the front row.\r\n",
    "You're given two input arrays: one containing the heights of all the students\r\n",
    "with red shirts and another one containing the heights of all the students\r\n",
    "with blue shirts. These arrays will always have the same length, and each \r\n",
    "height will be a positive integer. Write a function that returns whether\r\n",
    "or not a class photo that follows the stated guidelines can be taken.\r\n",
    "\r\n",
    "Note: you can assume that each class has at least 2 students.\r\n"
   ],
   "metadata": {}
  },
  {
   "cell_type": "code",
   "execution_count": 1,
   "source": [
    "def classPhotos(red, blue):\r\n",
    "    # Write your code here.\r\n",
    "\tred.sort()\r\n",
    "\tblue.sort()\r\n",
    "\t\r\n",
    "\tif red[0] > blue[0]:\r\n",
    "\t\treturn classPhotosHelper(red, blue)\r\n",
    "\telse:\r\n",
    "\t\treturn classPhotosHelper(blue, red)\r\n",
    "\t\t\r\n",
    "def classPhotosHelper(firstRow, secondRow):\r\n",
    "\tpointer = range(len(firstRow))\r\n",
    "\tfor student in pointer:\r\n",
    "\t\tif firstRow[student] <= secondRow[student]:\r\n",
    "\t\t\treturn False\r\n",
    "\treturn True\r\n"
   ],
   "outputs": [],
   "metadata": {}
  },
  {
   "cell_type": "code",
   "execution_count": null,
   "source": [],
   "outputs": [],
   "metadata": {}
  }
 ],
 "metadata": {
  "orig_nbformat": 4,
  "language_info": {
   "name": "python",
   "version": "3.8.10",
   "mimetype": "text/x-python",
   "codemirror_mode": {
    "name": "ipython",
    "version": 3
   },
   "pygments_lexer": "ipython3",
   "nbconvert_exporter": "python",
   "file_extension": ".py"
  },
  "kernelspec": {
   "name": "python3",
   "display_name": "Python 3.8.10 64-bit ('Tony_ml': conda)"
  },
  "interpreter": {
   "hash": "cde3ec76907d9d896e943ab917179e131da7cf4b500ea9b151f784767f25e879"
  }
 },
 "nbformat": 4,
 "nbformat_minor": 2
}