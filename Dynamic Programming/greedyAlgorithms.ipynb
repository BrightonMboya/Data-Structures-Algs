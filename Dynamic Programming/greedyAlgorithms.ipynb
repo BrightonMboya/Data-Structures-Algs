{
 "cells": [
  {
   "cell_type": "markdown",
   "source": [
    "## Minimum waiting time\r\n",
    "\r\n",
    "You are given a non-empty array of positive integers representing the amounts of time that specific queries take to execute. Only one query can be executed at a time, but the queries can be executed in any order.\r\n",
    "\r\n",
    "A query's waiting time is defined as the amount of time that it must wait before its executions starts. In other words, if a query is executed second, then its waiting time is the duration of the first query; if a query is executed third, then its waiting time is the sum of the durations of the first two queries.\r\n",
    "\r\n",
    "Write a function that returns the minimum amount of total waiting time for all of the queries.\r\n"
   ],
   "metadata": {}
  },
  {
   "cell_type": "code",
   "execution_count": 1,
   "source": [
    "def minimumWaitingTime(queries):\r\n",
    "\t# Write your code here.\r\n",
    "\tqueries.sort()\r\n",
    "\twaitingTime = 0\r\n",
    "\ti = 0\r\n",
    "\tfor idx, duration in enumerate(queries):\r\n",
    "\t\ttasksLeft = (len(queries)-1) - idx\r\n",
    "\t\twaitingTime += duration * tasksLeft\r\n",
    "\treturn waitingTime"
   ],
   "outputs": [],
   "metadata": {}
  },
  {
   "cell_type": "code",
   "execution_count": null,
   "source": [],
   "outputs": [],
   "metadata": {}
  }
 ],
 "metadata": {
  "orig_nbformat": 4,
  "language_info": {
   "name": "python",
   "version": "3.8.10",
   "mimetype": "text/x-python",
   "codemirror_mode": {
    "name": "ipython",
    "version": 3
   },
   "pygments_lexer": "ipython3",
   "nbconvert_exporter": "python",
   "file_extension": ".py"
  },
  "kernelspec": {
   "name": "python3",
   "display_name": "Python 3.8.10 64-bit ('Tony_ml': conda)"
  },
  "interpreter": {
   "hash": "cde3ec76907d9d896e943ab917179e131da7cf4b500ea9b151f784767f25e879"
  }
 },
 "nbformat": 4,
 "nbformat_minor": 2
}