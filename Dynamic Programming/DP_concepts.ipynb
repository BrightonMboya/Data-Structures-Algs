{
 "cells": [
  {
   "cell_type": "markdown",
   "metadata": {},
   "source": [
    "## Implementing Fibonacci using Recursion And DP\n",
    "\n"
   ]
  },
  {
   "cell_type": "code",
   "execution_count": 1,
   "metadata": {},
   "outputs": [],
   "source": [
    "def fib(n):\n",
    "    if n <= 2:\n",
    "        return 1\n",
    "    else:\n",
    "        return fib(n-1) + fib(n-2)"
   ]
  },
  {
   "cell_type": "markdown",
   "metadata": {},
   "source": [
    "The Time complexity of this algorithm is O(2**n). Which is going to be a problem for a number like fib(50).\n",
    "\n",
    "To solve the above problem, then we need to use memoization. We keep track of the previous nodes so that we check if n is already in memory and if it then it should return its value."
   ]
  },
  {
   "cell_type": "code",
   "execution_count": 41,
   "metadata": {},
   "outputs": [],
   "source": [
    "def fib(n, memo= {}):\n",
    "    if n in memo:\n",
    "        return memo[n]\n",
    "    elif n <= 2:\n",
    "        return 1\n",
    "    else:\n",
    "        result = fib(n-1, memo) + fib(n-2, memo)\n",
    "        memo[n] = result\n",
    "        return result"
   ]
  },
  {
   "cell_type": "code",
   "execution_count": 42,
   "metadata": {},
   "outputs": [
    {
     "name": "stdout",
     "output_type": "stream",
     "text": [
      "5\n",
      "12586269025\n",
      "354224848179261915075\n"
     ]
    }
   ],
   "source": [
    "print(fib(5))\n",
    "print(fib(50))\n",
    "print(fib(100))"
   ]
  },
  {
   "cell_type": "markdown",
   "metadata": {},
   "source": [
    "## Traveller Problem\n",
    "\n",
    "Say that you are a traveller on a 2D grid. You begin in the top-left corner and your goal is to travel to the bottom-right corner. You may only move down or right.\n",
    "\n",
    "In how many ways can you travel to the goal in a grid with dimensions m*n\n",
    "\n",
    "Write a function `gridTraveler(m,n)` that calculates this."
   ]
  },
  {
   "cell_type": "code",
   "execution_count": 13,
   "metadata": {},
   "outputs": [],
   "source": [
    "## Solving iteratively:\n",
    "def gridTraveler(m,n):\n",
    "    if (m == 1 or n == 1):\n",
    "        return 1\n",
    "    elif (m == 0 or n == 0):\n",
    "        return 0\n",
    "    else:\n",
    "        return gridTraveler(m-1, n) + gridTraveler(m, n-1)"
   ]
  },
  {
   "cell_type": "markdown",
   "metadata": {},
   "source": [
    "The Time Complexity is O(2**(n+m))\n",
    "\n",
    "The space complexity is O(n+m)"
   ]
  },
  {
   "cell_type": "code",
   "execution_count": 15,
   "metadata": {},
   "outputs": [
    {
     "name": "stdout",
     "output_type": "stream",
     "text": [
      "1\n",
      "3\n",
      "3\n"
     ]
    }
   ],
   "source": [
    "print(gridTraveler(1,0))\n",
    "print(gridTraveler(2,3))\n",
    "print(gridTraveler(3,2))\n",
    "#print(gridTraveler(18,18))"
   ]
  },
  {
   "cell_type": "code",
   "execution_count": 24,
   "metadata": {},
   "outputs": [],
   "source": [
    "def gridTraveller(m, n, memo= {}):\n",
    "    key = str(m) + ',' + str(n)\n",
    "    if key in memo:\n",
    "        return memo[key]\n",
    "    elif m ==1 and n == 1:\n",
    "        return 1\n",
    "    elif m == 0 or n == 0:\n",
    "        return 0\n",
    "    else:\n",
    "        memo[key] = gridTraveller(m-1, n, memo) + gridTraveller(m, n-1, memo)\n",
    "        return memo[key]\n"
   ]
  },
  {
   "cell_type": "code",
   "execution_count": 25,
   "metadata": {},
   "outputs": [
    {
     "name": "stdout",
     "output_type": "stream",
     "text": [
      "0\n",
      "3\n",
      "3\n",
      "2333606220\n"
     ]
    }
   ],
   "source": [
    "print(gridTraveller(1,0))\n",
    "print(gridTraveller(2,3))\n",
    "print(gridTraveller(3,2))\n",
    "print(gridTraveller(18,18))"
   ]
  },
  {
   "cell_type": "markdown",
   "metadata": {},
   "source": [
    "Time complexity of the above alg is O(m*n)\n",
    "\n",
    "Space Complexity is O(m+n)"
   ]
  },
  {
   "cell_type": "markdown",
   "metadata": {},
   "source": [
    "## Memoization Recipe\n",
    "\n",
    "1. Make it work --> even if its slow and iteratively\n",
    "* Visualize the problem as a tree with nodes\n",
    "* Implement the tree using recursion\n",
    "* Test it --> test ur soln implemented above though will be slow for large inputs\n",
    "\n",
    "\n",
    "2. Make it efficient\n",
    "* add a memo object, it should have a key which is an argument of the fn\n",
    "* make sure this object is passed down to every recursion  calls\n",
    "* add a base case to return memo values --> some sort of memo catching object\n",
    "* store return values into the memo"
   ]
  },
  {
   "cell_type": "markdown",
   "metadata": {},
   "source": [
    "## CanSum\n",
    "\n",
    "Write a function `canSum(targetSum, numbers)` that takes in a targetSum and an array of numbers as arguments.\n",
    "\n",
    "The function should return a boolean indicating whether or not it is possible to generate the targetSum using numbers from the array\n",
    "\n",
    "You may use an element of the array as many times as needed.\n",
    "\n",
    "You may assume that all input numbers are nonnegative.\n"
   ]
  },
  {
   "cell_type": "code",
   "execution_count": 6,
   "metadata": {},
   "outputs": [],
   "source": [
    "#iterative soln\n",
    "\n",
    "def canSum(targetSum, numbers):\n",
    "    if targetSum < 0:\n",
    "        return False\n",
    "    if targetSum == 0:\n",
    "        return True\n",
    "    for num in numbers:\n",
    "        remainder = targetSum - num\n",
    "        if canSum(remainder, numbers) == True:\n",
    "            return True\n",
    "    return False"
   ]
  },
  {
   "cell_type": "code",
   "execution_count": 7,
   "metadata": {},
   "outputs": [
    {
     "name": "stdout",
     "output_type": "stream",
     "text": [
      "True\n",
      "True\n",
      "False\n"
     ]
    }
   ],
   "source": [
    "print(canSum(5, [2,3]))\n",
    "print(canSum(7, [5,3,4,7]))\n",
    "print(canSum(7, [2,4]))\n",
    "#print(canSum(300, [7,14]))"
   ]
  },
  {
   "cell_type": "markdown",
   "metadata": {},
   "source": [
    "The Time complexity is O(n<sup>m</sup>)\n",
    "\n",
    "The space Complexity is O(n)"
   ]
  },
  {
   "cell_type": "code",
   "execution_count": 8,
   "metadata": {},
   "outputs": [],
   "source": [
    "# using memoization\n",
    "\n",
    "def canSum(targetSum, numbers, memo= {}):\n",
    "    if targetSum in memo:\n",
    "        return memo[targetSum]\n",
    "    if targetSum < 0:\n",
    "        return False\n",
    "    if targetSum == 0:\n",
    "        return True\n",
    "    for num in numbers:\n",
    "        remainder = targetSum - num\n",
    "        if canSum(remainder, numbers, memo) == True:\n",
    "            memo[targetSum] = True\n",
    "            return True\n",
    "    memo[targetSum] = False\n",
    "    return False"
   ]
  },
  {
   "cell_type": "code",
   "execution_count": 9,
   "metadata": {},
   "outputs": [
    {
     "name": "stdout",
     "output_type": "stream",
     "text": [
      "True\n",
      "True\n",
      "True\n",
      "False\n"
     ]
    }
   ],
   "source": [
    "print(canSum(5, [2,3]))\n",
    "print(canSum(7, [5,3,4,7]))\n",
    "print(canSum(7, [2,4]))\n",
    "print(canSum(300, [7,14]))"
   ]
  },
  {
   "cell_type": "code",
   "execution_count": null,
   "metadata": {},
   "outputs": [],
   "source": []
  },
  {
   "cell_type": "markdown",
   "metadata": {},
   "source": [
    "Time Complexity is O(m*n) time\n",
    "Space complexity is O(m) space"
   ]
  },
  {
   "cell_type": "markdown",
   "metadata": {},
   "source": [
    "## howSum\n",
    "\n",
    "Write a function `howSum(targetSum, numbers)` that takes in a targetSum and an array of numbers as arguments.\n",
    "\n",
    "The function should return an array containing any combination of elements that add up to exactly the targetSum. If there is no combination that adds up to the targetSum, then return null "
   ]
  },
  {
   "cell_type": "code",
   "execution_count": 21,
   "metadata": {},
   "outputs": [],
   "source": [
    "def howSum(targetSum, numbers):\n",
    "    if targetSum == 0:\n",
    "        return []\n",
    "    if targetSum < 0:\n",
    "        return None\n",
    "    for num in numbers:\n",
    "        remainder = targetSum - num\n",
    "        remainderResult= howSum(remainder, numbers)\n",
    "        if remainderResult != None:\n",
    "            # use the spread operator\n",
    "            return [*remainderResult, num]\n",
    "    return None\n"
   ]
  },
  {
   "cell_type": "code",
   "execution_count": 22,
   "metadata": {},
   "outputs": [
    {
     "name": "stdout",
     "output_type": "stream",
     "text": [
      "[3, 2, 2]\n",
      "[4, 3]\n",
      "None\n",
      "[2, 2, 2, 2]\n"
     ]
    }
   ],
   "source": [
    "print(howSum(7, [2,3]))\n",
    "print(howSum(7, [5,3,4]))\n",
    "print(howSum(7, [2,4]))\n",
    "print(howSum(8, [2, 3, 5]))\n",
    "#print(howSum(300, [7,14]))"
   ]
  },
  {
   "cell_type": "markdown",
   "metadata": {},
   "source": [
    "Let m =  target sum\n",
    "\n",
    "let n = numbers.length\n",
    "\n",
    "\n",
    "Time Complexity is O(n<sup>m*n</sup>)\n",
    "\n",
    "Space complexity is O(n)\n",
    "\n"
   ]
  },
  {
   "cell_type": "code",
   "execution_count": 29,
   "metadata": {},
   "outputs": [],
   "source": [
    "def howSum(targetSum, numbers, memo= {}):\n",
    "    if targetSum in memo:\n",
    "        return memo[targetSum]\n",
    "    if targetSum == 0:\n",
    "        return []\n",
    "    if targetSum < 0:\n",
    "        return None\n",
    "    for num in numbers:\n",
    "        remainder = targetSum - num\n",
    "        remainderResult= howSum(remainder, numbers, memo)\n",
    "        if remainderResult != None:\n",
    "            # use the spread operator\n",
    "            memo[targetSum]= [*remainderResult, num]\n",
    "            return memo[targetSum]\n",
    "    memo[targetSum] = None\n",
    "    return None\n"
   ]
  },
  {
   "cell_type": "code",
   "execution_count": 30,
   "metadata": {},
   "outputs": [
    {
     "name": "stdout",
     "output_type": "stream",
     "text": [
      "[3, 2, 2]\n",
      "[3, 2, 2]\n",
      "[3, 2, 2]\n",
      "[2, 2, 2, 2]\n",
      "[3, 7, 7, 7, 7, 7, 7, 7, 7, 7, 7, 7, 7, 7, 7, 7, 7, 7, 7, 7, 7, 7, 7, 7, 7, 7, 7, 7, 7, 7, 7, 7, 7, 7, 7, 7, 7, 7, 7, 7, 7, 7, 7, 7, 7, 7, 7, 7, 7, 7, 7, 7, 7, 7, 7, 7, 7, 7, 7, 7, 7, 7, 7, 7, 7, 7, 7, 7, 7, 7, 7, 7]\n"
     ]
    }
   ],
   "source": [
    "print(howSum(7, [2,3]))\n",
    "print(howSum(7, [5,3,4]))\n",
    "print(howSum(7, [2,4]))\n",
    "print(howSum(8, [2, 3, 5]))\n",
    "print(howSum(500, [7,14]))"
   ]
  },
  {
   "cell_type": "markdown",
   "metadata": {},
   "source": [
    "Time Complexity is O(n*m<sup>2</sup>)\n",
    "\n",
    "\n",
    "Space Complexity is O(m<sup>2</sup>)"
   ]
  },
  {
   "cell_type": "markdown",
   "metadata": {},
   "source": [
    "## bestSum\n",
    "\n",
    "Write a function `bestSum(targetSum, numbers)` that takes in a targetSum and an array of numbers as an argument.\n",
    "\n",
    "The function should return an array containing the `shortest` combination of numbers that add up to exactly the targetSum.\n",
    "\n",
    "If there is a tie for the shortest combination, you may return any of the shortest"
   ]
  },
  {
   "cell_type": "code",
   "execution_count": 51,
   "metadata": {},
   "outputs": [],
   "source": [
    "def bestSum(targetSum, numbers, memo = {}):\n",
    "    if targetSum in memo: return memo[targetSum]\n",
    "    if targetSum == 0: return []\n",
    "    if targetSum < 0: return None\n",
    "    \n",
    "    shortestCombination = None\n",
    "    for num in numbers:\n",
    "        remainder = targetSum - num\n",
    "        remainderCombination = bestSum(remainder, numbers, memo)\n",
    "        \n",
    "        if remainderCombination is not None:\n",
    "            remainderCombination.append(num) \n",
    "            if shortestCombination is None or len(remainderCombination) < len(shortestCombination):                \n",
    "                shortestCombination = remainderCombination.copy()\n",
    "            \n",
    "    memo[targetSum] = shortestCombination\n",
    "    return shortestCombination\n",
    "    "
   ]
  },
  {
   "cell_type": "code",
   "execution_count": 52,
   "metadata": {},
   "outputs": [
    {
     "name": "stdout",
     "output_type": "stream",
     "text": [
      "[7]\n",
      "[5, 3]\n",
      "[5, 3]\n",
      "[25, 1, 2, 5, 25, 1, 2, 5, 25, 1, 2, 5, 25]\n"
     ]
    }
   ],
   "source": [
    "print(bestSum(7, [5,3,4,7]))\n",
    "print(bestSum(8, [2,3,5]))\n",
    "print(bestSum(8, [1,4,5]))\n",
    "print(bestSum(100, [1,2,5,25]))\n"
   ]
  },
  {
   "cell_type": "markdown",
   "metadata": {},
   "source": [
    "Write a function `canConstruct(target, wordBank)` that accepts a target string and an array of strings.\n",
    "\n",
    "\n",
    "The funcion should return a boolean indicating whether or not the `target` can be constructed by concatenating elements of the `wordBank` array.\n",
    "\n",
    "\n",
    "You may reuse elements of `wordBank` as many times as needed."
   ]
  },
  {
   "cell_type": "code",
   "execution_count": 3,
   "metadata": {},
   "outputs": [],
   "source": [
    "def canConstruct(target, wordBank):\n",
    "    if target == '':\n",
    "        return True\n",
    "    for word in wordBank:\n",
    "        try:\n",
    "            if target.index(word) == 0:\n",
    "                #const suffix = target.slice(word.length)\n",
    "                suffix = target[len(word):]\n",
    "                if canConstruct(suffix, wordBank) == True:\n",
    "                    return True\n",
    "        except ValueError:\n",
    "            pass\n",
    "    return False\n",
    "\n",
    "     "
   ]
  },
  {
   "cell_type": "code",
   "execution_count": 4,
   "metadata": {},
   "outputs": [
    {
     "name": "stdout",
     "output_type": "stream",
     "text": [
      "True\n"
     ]
    }
   ],
   "source": [
    "print(canConstruct('abcdef', ['ab', 'abc', 'cd', 'def', 'abcd']))"
   ]
  },
  {
   "cell_type": "code",
   "execution_count": 4,
   "metadata": {},
   "outputs": [
    {
     "name": "stdout",
     "output_type": "stream",
     "text": [
      "True\n",
      "True\n",
      "True\n",
      "True\n",
      "True\n",
      "True\n",
      "True\n",
      "True\n",
      "True\n",
      "True\n"
     ]
    }
   ],
   "source": [
    "string = 'leetcode'\n",
    "wordDict = ['leet', 'code']\n",
    "for i in range(len(string)-1, -1, -1):\n",
    "    for word in wordDict:\n",
    "        if (i+ len(word) <= len(string)):\n",
    "            print(True)"
   ]
  },
  {
   "cell_type": "markdown",
   "metadata": {},
   "source": [
    "## Max Subset Sum No Adjacent\n",
    "\n",
    "Write a function that takes in an array of positive integers and returns the maximum sum of non-adjacent elements in the array.\n",
    "\n",
    "If the input array is empty, the fuction should return `0`."
   ]
  },
  {
   "cell_type": "code",
   "execution_count": 1,
   "metadata": {},
   "outputs": [],
   "source": [
    "def maxSubsetSumNoAdjacent(array):\n",
    "\t# Write your code here.\n",
    "\tif len(array) == 0:\n",
    "\t\treturn 0\n",
    "\telif len(array) == 1:\n",
    "\t\treturn array[0]\n",
    "\tsecond = array[0]\n",
    "\tfirst = max(array[0], array[1])\n",
    "\tfor i in range(2, len(array)):\n",
    "\t\tcurrent = max(first, second + array[i])\n",
    "\t\tsecond = first\n",
    "\t\tfirst = current\n",
    "\treturn first"
   ]
  },
  {
   "cell_type": "code",
   "execution_count": null,
   "metadata": {},
   "outputs": [],
   "source": []
  }
 ],
 "metadata": {
  "interpreter": {
   "hash": "cde3ec76907d9d896e943ab917179e131da7cf4b500ea9b151f784767f25e879"
  },
  "kernelspec": {
   "display_name": "Python 3.8.12 64-bit ('Tony_ml': conda)",
   "name": "python3"
  },
  "language_info": {
   "codemirror_mode": {
    "name": "ipython",
    "version": 3
   },
   "file_extension": ".py",
   "mimetype": "text/x-python",
   "name": "python",
   "nbconvert_exporter": "python",
   "pygments_lexer": "ipython3",
   "version": "3.8.12"
  },
  "orig_nbformat": 4
 },
 "nbformat": 4,
 "nbformat_minor": 2
}
