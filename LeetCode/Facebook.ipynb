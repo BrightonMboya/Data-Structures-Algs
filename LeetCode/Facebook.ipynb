{
 "cells": [
  {
   "cell_type": "markdown",
   "metadata": {},
   "source": [
    "## Verifying Alien Dictionary LC 953\n",
    "\n",
    "In an alien language, surprisingly, they also use English lowercase letters, but possibly in a different order. The order of the alphabet is some permutation of lowercase letters.\n",
    "\n",
    "Given a sequence of words written in the alien language, and the order of the alphabet, return true if and only if the given words are sorted lexicographically in this alien language.\n",
    "\n",
    " \n",
    "\n",
    "Example 1:\n",
    "\n",
    "Input: words = [\"hello\",\"leetcode\"], order = \"hlabcdefgijkmnopqrstuvwxyz\"\n",
    "\n",
    "\n",
    "Output: true\n",
    "\n",
    "Explanation: As 'h' comes before 'l' in this language, then the sequence is sorted."
   ]
  },
  {
   "cell_type": "code",
   "execution_count": 2,
   "metadata": {},
   "outputs": [],
   "source": [
    "def isAlienSorted(words, order):\n",
    "        wordDict = {}\n",
    "        for inx, char in enumerate(order):\n",
    "            wordDict[char] = inx\n",
    "        \n",
    "        for i in range(len(words) -1):\n",
    "            w1, w2 = words[i], words[i +1]\n",
    "            \n",
    "            for j in range(len(w1)):\n",
    "                if j == len(w2):\n",
    "                    return False\n",
    "                \n",
    "                if w1[j] != w2[j]:\n",
    "                    if wordDict[w1[j]] > wordDict[w2[j]]:\n",
    "                        return False\n",
    "                    break\n",
    "        return True"
   ]
  },
  {
   "cell_type": "markdown",
   "metadata": {},
   "source": [
    "## Merge Sorted array LC 88\n",
    "\n",
    "You are given two integer arrays nums1 and nums2, sorted in non-decreasing order, and two integers m and n, representing the number of elements in nums1 and nums2 respectively.\n",
    "\n",
    "Merge nums1 and nums2 into a single array sorted in non-decreasing order.\n",
    "\n",
    "The final sorted array should not be returned by the function, but instead be stored inside the array nums1. To accommodate this, nums1 has a length of m + n, where the first m elements denote the elements that should be merged, and the last n elements are set to 0 and should be ignored. nums2 has a length of n.\n",
    "\n",
    " \n",
    "\n",
    "Example 1:\n",
    "\n",
    "Input: nums1 = [1,2,3,0,0,0], m = 3, nums2 = [2,5,6], n = 3\n",
    "\n",
    "\n",
    "Output: [1,2,2,3,5,6]\n",
    "\n",
    "\n",
    "Explanation: The arrays we are merging are [1,2,3] and [2,5,6].\n",
    "\n",
    "\n",
    "The result of the merge is [1,2,2,3,5,6] with the underlined elements coming from nums1."
   ]
  },
  {
   "cell_type": "code",
   "execution_count": 3,
   "metadata": {},
   "outputs": [],
   "source": [
    "def merge(nums1, m, nums2, n):\n",
    "        \"\"\"\n",
    "        Do not return anything, modify nums1 in-place instead.\n",
    "        \"\"\"\n",
    "        last = m + n -1\n",
    "        while m > 0 and n > 0:\n",
    "            if nums1[m-1] > nums2[n-1]:\n",
    "                nums1[last] = nums1[m-1]\n",
    "                m -= 1\n",
    "            else:\n",
    "                nums1[last] = nums2[n-1]\n",
    "                n -= 1\n",
    "            last -= 1\n",
    "        while n > 0:\n",
    "            nums1[last] = nums2[n-1]\n",
    "            last -= 1\n",
    "            n -= 1\n",
    "        return nums1"
   ]
  },
  {
   "cell_type": "code",
   "execution_count": 4,
   "metadata": {},
   "outputs": [],
   "source": [
    "def wordBreak(s, wordDict):\n",
    "    hashDict = {}\n",
    "    for word in wordDict:\n",
    "        for item in word:\n",
    "            if item in hashDict:\n",
    "                hashDict[item] += 1\n",
    "            else:\n",
    "                hashDict[item] = 1\n",
    "    for char in s:\n",
    "        if char not in hashDict or hashDict[char] == 0:\n",
    "            return False\n",
    "        else:\n",
    "            hashDict[char] -= 1\n",
    "    \n",
    "    return True"
   ]
  },
  {
   "cell_type": "code",
   "execution_count": 5,
   "metadata": {},
   "outputs": [
    {
     "data": {
      "text/plain": [
       "True"
      ]
     },
     "execution_count": 5,
     "metadata": {},
     "output_type": "execute_result"
    }
   ],
   "source": [
    "wordBreak(\"leetcode\", ['leet', 'code'])"
   ]
  },
  {
   "cell_type": "markdown",
   "metadata": {},
   "source": [
    "## Kth Largest Element in an array LC 215\n",
    "\n",
    "Given an integer array nums and an integer k, return the kth largest element in the array.\n",
    "\n",
    "Note that it is the kth largest element in the sorted order, not the kth distinct element.\n",
    "\n",
    " \n",
    "\n",
    "Example 1:\n",
    "\n",
    "Input: nums = [3,2,1,5,6,4], k = 2\n",
    "\n",
    "Output: 5\n",
    "\n",
    "Example 2:\n",
    "\n",
    "Input: nums = [3,2,3,1,2,4,5,5,6], k = 4\n",
    "\n",
    "Output: 4"
   ]
  },
  {
   "cell_type": "code",
   "execution_count": 7,
   "metadata": {},
   "outputs": [],
   "source": [
    "def findKthLargest(nums, k):\n",
    "    position  = len(nums) - k\n",
    "    \n",
    "    \n",
    "    def quickSelect(startInx, endInx, position):\n",
    "        pivot, pointer = nums[endInx], startInx\n",
    "        \n",
    "        for i in range(startInx, endInx):\n",
    "            if nums[i] <= pivot:\n",
    "                nums[i], nums[pointer] = nums[pointer], nums[i]\n",
    "                pointer += 1\n",
    "        nums[pointer], nums[endInx] = nums[endInx], nums[pointer]\n",
    "        \n",
    "        if pointer > position:\n",
    "            return quickSelect(startInx, pointer -1, position)\n",
    "        elif pointer < position:\n",
    "            return quickSelect(pointer + 1, endInx, position)\n",
    "        else:\n",
    "            return nums[position]\n",
    "        \n",
    "    return quickSelect(0, len(nums)-1, position)\n"
   ]
  },
  {
   "cell_type": "markdown",
   "metadata": {},
   "source": [
    "## 268. Missing Number\n",
    "\n",
    "Given an array nums containing n distinct numbers in the range [0, n], return the only number in the range that is missing from the array.\n",
    "\n",
    " \n",
    "\n",
    "Example 1:\n",
    "\n",
    "Input: nums = [3,0,1]\n",
    "\n",
    "\n",
    "Output: 2\n",
    "\n",
    "Explanation: n = 3 since there are 3 numbers, so all numbers are in the range [0,3]. 2 is the missing number in the range since it does not appear in nums."
   ]
  },
  {
   "cell_type": "code",
   "execution_count": 8,
   "metadata": {},
   "outputs": [],
   "source": [
    "def missingNumber(nums):\n",
    "    missing = 0\n",
    "    nums.sort()\n",
    "    for num in nums:\n",
    "        if num != missing:\n",
    "            return missing\n",
    "        else:\n",
    "            missing += 1\n",
    "    return missing\n"
   ]
  },
  {
   "cell_type": "markdown",
   "metadata": {},
   "source": [
    "## 680 Valid Palindrome II\n",
    "\n",
    "Given a string s, return true if the s can be palindrome after deleting at most one character from it.\n",
    "\n",
    " \n",
    "\n",
    "Example 1:\n",
    "\n",
    "Input: s = \"aba\"\n",
    "\n",
    "Output: true\n",
    "\n",
    "Example 2:\n",
    "\n",
    "Input: s = \"abca\"\n",
    "\n",
    "Output: true\n",
    "\n",
    "Explanation: You could delete the character 'c'."
   ]
  },
  {
   "cell_type": "code",
   "execution_count": 9,
   "metadata": {},
   "outputs": [],
   "source": [
    "def ValidPalindrome(string):\n",
    "    \n",
    "    def isPalindrome(string, left, right, deleted):\n",
    "        while left < right:\n",
    "            if string[left] != string[right]:\n",
    "                if deleted:\n",
    "                    return False\n",
    "                else:\n",
    "                    return isPalindrome(string, left + 1, right, True) or isPalindrome(string, left, right-1, True)\n",
    "            \n",
    "            else:\n",
    "                left += 1\n",
    "                right -= 1\n",
    "        return True\n",
    "    return isPalindrome(string, 0, len(string)-1, False)"
   ]
  },
  {
   "cell_type": "markdown",
   "metadata": {},
   "source": [
    "## 119 Remove Nth Node from the end of the list\n",
    "\n",
    "Given the head of a linked list, remove the nth node from the end of the list and return its head.\n",
    "\n",
    "Input: head = [1,2,3,4,5], n = 2\n",
    "\n",
    "Output: [1,2,3,5]\n"
   ]
  },
  {
   "cell_type": "code",
   "execution_count": 10,
   "metadata": {},
   "outputs": [],
   "source": [
    "def removeNthFromEnd(head, n):\n",
    "    first = head\n",
    "    second = head\n",
    "    counter = 0\n",
    "    while counter <= n-1:\n",
    "        second = second.next\n",
    "        counter += 1\n",
    "    \n",
    "    if second is None:\n",
    "        if head.next is None:\n",
    "            return\n",
    "        else:\n",
    "            head.val = head.next.val\n",
    "            head.next = head.next.next\n",
    "    \n",
    "    while second.next is not None:\n",
    "        first = first.next\n",
    "        second = second.next\n",
    "    first.next = first.next.next\n",
    "\n",
    "    return head"
   ]
  },
  {
   "cell_type": "markdown",
   "metadata": {},
   "source": [
    "## 139 Word Break\n",
    "\n",
    "Given a string s and a dictionary of strings wordDict, return true if s can be segmented into a space-separated sequence of one or more dictionary words.\n",
    "\n",
    "Note that the same word in the dictionary may be reused multiple times in the segmentation.\n",
    "\n",
    " \n",
    "\n",
    "Example 1:\n",
    "\n",
    "Input: s = \"leetcode\", wordDict = [\"leet\",\"code\"]\n",
    "\n",
    "Output: true\n",
    "\n",
    "Explanation: Return true because \"leetcode\" can be segmented as \"leet code\"."
   ]
  },
  {
   "cell_type": "code",
   "execution_count": 11,
   "metadata": {},
   "outputs": [],
   "source": [
    "def wordBreak(s, wordDict, memo={}):\n",
    "    if s in memo:\n",
    "        return memo[s]\n",
    "    if s == '':\n",
    "        return True\n",
    "    \n",
    "    for word in wordDict:\n",
    "        try:\n",
    "            if s.index(word) == 0:\n",
    "                newString = s[len(word):]\n",
    "                if wordBreak(newString, wordDict) == True:\n",
    "                    memo[s] = True\n",
    "                    return True\n",
    "        except ValueError:\n",
    "            pass\n",
    "    memo[s] = False\n",
    "    return False\n",
    "    "
   ]
  },
  {
   "cell_type": "markdown",
   "metadata": {},
   "source": [
    "## 46 Permutations\n",
    "\n",
    "Given an array nums of distinct integers, return all the possible permutations. You can return the answer in any order.\n",
    "\n",
    " \n",
    "\n",
    "Example 1:\n",
    "\n",
    "Input: nums = [1,2,3]\n",
    "\n",
    "\n",
    "Output: [[1,2,3],[1,3,2],[2,1,3],[2,3,1],[3,1,2],[3,2,1]]"
   ]
  },
  {
   "cell_type": "code",
   "execution_count": 13,
   "metadata": {},
   "outputs": [],
   "source": [
    "def permute(nums):\n",
    "    def getPermutations(nums, perm= [], res=[]):\n",
    "        if not nums:\n",
    "            res.append(perm)\n",
    "        \n",
    "        for i in range(len(nums)):\n",
    "            newNums = nums[:i] + nums[i+1:]\n",
    "            newPerm = perm + [nums[i]]\n",
    "            getPermutations(newNums, newPerm, res)\n",
    "        return res\n",
    "    \n",
    "    return getPermutations(nums)"
   ]
  },
  {
   "cell_type": "markdown",
   "metadata": {},
   "source": [
    "## 3. Longest Substring Without Repeating Characters\n",
    "\n",
    "Given a string s, find the length of the longest substring without repeating characters.\n",
    "\n",
    " \n",
    "\n",
    "Example 1:\n",
    "\n",
    "Input: s = \"abcabcbb\"\n",
    "\n",
    "Output: 3\n",
    "\n",
    "Explanation: The answer is \"abc\", with the length of 3."
   ]
  },
  {
   "cell_type": "code",
   "execution_count": 14,
   "metadata": {},
   "outputs": [],
   "source": [
    "def lengthOfLongestSubstring(string):\n",
    "    lastSeen = {}\n",
    "    longest = [0,1]\n",
    "    startInx = 0\n",
    "    for i, char in enumerate(string):\n",
    "        if char in lastSeen:\n",
    "            startInx = max(startInx, lastSeen[char] + 1)\n",
    "        \n",
    "        if longest[1] - longest[0] < i + 1 - startInx:\n",
    "            longest = [startInx, i+1]\n",
    "        \n",
    "        lastSeen[char] = i\n",
    "    return len(string[longest[0]: longest[1]])"
   ]
  },
  {
   "cell_type": "markdown",
   "metadata": {},
   "source": [
    "## 238 Product of Array Except Self\n",
    "\n",
    "Given an integer array nums, return an array answer such that answer[i] is equal to the product of all the elements of nums except nums[i].\n",
    "\n",
    "The product of any prefix or suffix of nums is guaranteed to fit in a 32-bit integer.\n",
    "\n",
    "You must write an algorithm that runs in O(n) time and without using the division operation.\n",
    "\n",
    " \n",
    "\n",
    "Example 1:\n",
    "\n",
    "Input: nums = [1,2,3,4]\n",
    "\n",
    "Output: [24,12,8,6]\n",
    "\n",
    "Example 2:\n",
    "\n",
    "Input: nums = [-1,1,0,-3,3]\n",
    "\n",
    "Output: [0,0,9,0,0]"
   ]
  },
  {
   "cell_type": "code",
   "execution_count": 15,
   "metadata": {},
   "outputs": [],
   "source": [
    "def productOfArrayExceptSelf(array):\n",
    "    leftProducts = [1 for _ in range(len(array))]\n",
    "    rightProducts = [1 for _ in range(len(array))]\n",
    "    products = [1 for _ in range(len(array))]\n",
    "\n",
    "    leftRunningProduct = 1\n",
    "    for i in range(len(array)):\n",
    "        leftProducts[i] = leftRunningProduct\n",
    "        leftRunningProduct *= array[i]\n",
    "    \n",
    "    rightRunningProduct = 1\n",
    "    for i in reversed(range(len(array))):\n",
    "        rightProducts[i] = rightRunningProduct\n",
    "        rightRunningProduct *= array[i]\n",
    "    \n",
    "    for i in range(len(array)):\n",
    "        products[i] = leftProducts[i] * rightProducts[i]\n",
    "    return products"
   ]
  },
  {
   "cell_type": "markdown",
   "metadata": {},
   "source": [
    "## 283 Move Zeroes\n",
    "\n",
    "Given an integer array nums, move all 0's to the end of it while maintaining the relative order of the non-zero elements.\n",
    "\n",
    "Note that you must do this in-place without making a copy of the array.\n",
    "\n",
    "Example 1:\n",
    "\n",
    "Input: nums = [0,1,0,3,12]\n",
    "\n",
    "Output: [1,3,12,0,0]"
   ]
  },
  {
   "cell_type": "code",
   "execution_count": 16,
   "metadata": {},
   "outputs": [],
   "source": [
    "def moveZeroes(nums):\n",
    "    left = 0\n",
    "    for i in range(len(nums)):\n",
    "        if nums != 0:\n",
    "            nums[left], nums[i] = nums[i], nums[left]\n",
    "            left += 1\n",
    "    return nums"
   ]
  },
  {
   "cell_type": "markdown",
   "metadata": {},
   "source": [
    "## 203. Remove Linked List Elements\n",
    "Given the head of a linked list and an integer val, remove all the nodes of the linked list that has Node.val == val, and return the new head.\n",
    "\n",
    "E.g\n",
    "\n",
    "Input: head = [1,2,6,3,4,5,6], val = 6\n",
    "\n",
    "Output: [1,2,3,4,5]"
   ]
  },
  {
   "cell_type": "code",
   "execution_count": 17,
   "metadata": {},
   "outputs": [],
   "source": [
    "class ListNode:\n",
    "    def __init__(self, val=0, next=None):\n",
    "        self.val = val\n",
    "        self.next = next\n",
    "\n",
    "def removeElements(head, val):\n",
    "    dummy = ListNode(-1)\n",
    "    dummy.next = head\n",
    "    curr = dummy\n",
    "    while curr.next:\n",
    "        nextNode = curr.next\n",
    "        if nextNode.val == val:\n",
    "            curr.next = curr.next.next\n",
    "        else:\n",
    "            curr = curr.next\n",
    "    return dummy.next"
   ]
  },
  {
   "cell_type": "markdown",
   "metadata": {},
   "source": [
    "## 169. Majority Element\n",
    "Given an array nums of size n, return the majority element.\n",
    "\n",
    "The majority element is the element that appears more than ⌊n / 2⌋ times. You may assume that the majority element always exists in the array.\n",
    "\n",
    " \n",
    "\n",
    "Example 1:\n",
    "\n",
    "Input: nums = [3,2,3]\n",
    "\n",
    "Output: 3"
   ]
  },
  {
   "cell_type": "code",
   "execution_count": 18,
   "metadata": {},
   "outputs": [],
   "source": [
    "def majorityElement(nums):\n",
    "    count = {}\n",
    "    majorNums = nums[0]\n",
    "    for num in nums:\n",
    "        if num in count:\n",
    "            count[num] += 1\n",
    "            if count[num] > count[majorNum]:\n",
    "                majorNum = num\n",
    "        else:\n",
    "            count[num] = 1\n",
    "    return majorNum"
   ]
  },
  {
   "cell_type": "markdown",
   "metadata": {},
   "source": [
    "## 322 Coin Change\n",
    "\n",
    "You are given an integer array coins representing coins of different denominations and an integer amount representing a total amount of money.\n",
    "\n",
    "Return the fewest number of coins that you need to make up that amount. If that amount of money cannot be made up by any combination of the coins, return -1.\n",
    "\n",
    "You may assume that you have an infinite number of each kind of coin.\n",
    "\n",
    " \n",
    "\n",
    "Example 1:\n",
    "\n",
    "Input: coins = [1,2,5], amount = 11\n",
    "\n",
    "Output: 3\n",
    "\n",
    "Explanation: 11 = 5 + 5 + 1"
   ]
  },
  {
   "cell_type": "code",
   "execution_count": 19,
   "metadata": {},
   "outputs": [],
   "source": [
    "def coinChange(coins, amount):\n",
    "    numOfCoins= [float('inf') for money in range(amount + 1)]\n",
    "    numOfCoins[0] = 0\n",
    "\n",
    "    for coin in coins:\n",
    "        for money in range(len(numOfCoins)):\n",
    "            if coin <= money:\n",
    "                numOfCoins[money] = min(numOfCoins[money], 1 + numOfCoins[money - coin])\n",
    "    return numOfCoins[amount] if numOfCoins[amount] !=  float('inf') else -1"
   ]
  },
  {
   "cell_type": "markdown",
   "metadata": {},
   "source": [
    "## 136 Single Number\n",
    "\n",
    "Given a non-empty array of integers nums, every element appears twice except for one. Find that single one.\n",
    "\n",
    "You must implement a solution with a linear runtime complexity and use only constant extra space.\n",
    "\n",
    " \n",
    "\n",
    "Example 1:\n",
    "\n",
    "Input: nums = [2,2,1]\n",
    "\n",
    "Output: 1"
   ]
  },
  {
   "cell_type": "code",
   "execution_count": 20,
   "metadata": {},
   "outputs": [],
   "source": [
    "def singleNumber(nums):\n",
    "    singleNum = 0\n",
    "    for num in nums:\n",
    "        singleNum ^= num\n",
    "    return singleNum"
   ]
  },
  {
   "cell_type": "markdown",
   "metadata": {},
   "source": [
    "## 98 Validate Binary Search Tree\n",
    "\n",
    "Given the root of a binary tree, determine if it is a valid binary search tree (BST).\n",
    "\n",
    "A valid BST is defined as follows:\n",
    "\n",
    "The left subtree of a node contains only nodes with keys less than the node's key.\n",
    "The right subtree of a node contains only nodes with keys greater than the node's key.\n",
    "Both the left and right subtrees must also be binary search trees."
   ]
  },
  {
   "cell_type": "code",
   "execution_count": 21,
   "metadata": {},
   "outputs": [],
   "source": [
    "def isValidBST(tree):\n",
    "    return isValidBSTHelper(tree, float('-inf'), float('inf'))\n",
    "\n",
    "def isValidBSTHelper(tree, left, right):\n",
    "    if tree is None:\n",
    "        return True\n",
    "    \n",
    "    if tree.val < left or tree.val >= right:\n",
    "        return False\n",
    "    else:\n",
    "        return isValidBSTHelper(tree.left, left, tree.val) and isValidBSTHelper(tree.right, tree.val, right)\n",
    "        "
   ]
  },
  {
   "cell_type": "markdown",
   "metadata": {},
   "source": [
    "## 540. Single Element in a sorted array\n",
    "\n",
    "You are given a sorted array consisting of only integers where every element appears exactly twice, except for one element which appears exactly once.\n",
    "\n",
    "Return the single element that appears only once.\n",
    "\n",
    "Your solution must run in O(log n) time and O(1) space.\n",
    "\n",
    " \n",
    "\n",
    "Example 1:\n",
    "\n",
    "Input: nums = [1,1,2,3,3,4,4,8,8]\n",
    "\n",
    "Output: 2"
   ]
  },
  {
   "cell_type": "code",
   "execution_count": 2,
   "metadata": {},
   "outputs": [],
   "source": [
    "def singleNonDuplicate(nums):\n",
    "    low = 0\n",
    "    high = len(nums)-1\n",
    "    while low < high:\n",
    "        mid = 2 * ((low + high) // 2)\n",
    "        if nums[mid] == nums[mid+1]:\n",
    "            low = mid + 2\n",
    "        else:\n",
    "            high = mid\n",
    "    return nums[low]"
   ]
  },
  {
   "cell_type": "markdown",
   "metadata": {},
   "source": [
    "## 153 Find Minimum in Rotated Sorted Array\n",
    "\n",
    "Suppose an array of length n sorted in ascending order is rotated between 1 and n times. For example, the array nums = [0,1,2,4,5,6,7] might become:\n",
    "\n",
    "[4,5,6,7,0,1,2] if it was rotated 4 times.\n",
    "[0,1,2,4,5,6,7] if it was rotated 7 times.\n",
    "Notice that rotating an array [a[0], a[1], a[2], ..., a[n-1]] 1 time results in the array [a[n-1], a[0], a[1], a[2], ..., a[n-2]].\n",
    "\n",
    "Given the sorted rotated array nums of unique elements, return the minimum element of this array.\n",
    "\n",
    "You must write an algorithm that runs in O(log n) time.\n",
    "\n",
    " \n",
    "\n",
    "Example 1:\n",
    "\n",
    "Input: nums = [3,4,5,1,2]\n",
    "\n",
    "Output: 1\n",
    "\n",
    "Explanation: The original array was [1,2,3,4,5] rotated 3 times."
   ]
  },
  {
   "cell_type": "code",
   "execution_count": 1,
   "metadata": {},
   "outputs": [],
   "source": [
    "def findMin(nums):\n",
    "    if len(nums) == 1:\n",
    "        return nums[0]\n",
    "    \n",
    "    left = 0\n",
    "    right = len(nums) - 1\n",
    "\n",
    "    if nums[0] < nums[right]:\n",
    "        return nums[0]\n",
    "    \n",
    "    while right >= left:\n",
    "        mid = (left + right) //2\n",
    "        \n",
    "        if nums[mid] > nums[mid+1]:\n",
    "            return nums[mid + 1]\n",
    "        if nums[mid-1] > nums[mid]:\n",
    "            return nums[mid]\n",
    "        \n",
    "        if nums[mid] > nums[0]:\n",
    "            left = mid + 1\n",
    "        else:\n",
    "            right = mid -1"
   ]
  },
  {
   "cell_type": "markdown",
   "metadata": {},
   "source": [
    "## 189. Rotate Array\n",
    "\n",
    "Given an array, rotate the array to the right by k steps, where k is non-negative.\n",
    "\n",
    " \n",
    "\n",
    "Example 1:\n",
    "\n",
    "Input: nums = [1,2,3,4,5,6,7], k = 3\n",
    "\n",
    "Output: [5,6,7,1,2,3,4]\n",
    "\n",
    "Explanation:\n",
    "\n",
    "rotate 1 steps to the right: [7,1,2,3,4,5,6]\n",
    "\n",
    "rotate 2 steps to the right: [6,7,1,2,3,4,5]\n",
    "\n",
    "rotate 3 steps to the right: [5,6,7,1,2,3,4]\n"
   ]
  },
  {
   "cell_type": "code",
   "execution_count": 26,
   "metadata": {},
   "outputs": [],
   "source": [
    "def rotate(nums, k):\n",
    "    def reverse(i,j):\n",
    "        while i <= j:\n",
    "            nums[i], nums[j] = nums[j], nums[i]\n",
    "\n",
    "    n = len(nums)\n",
    "    k %= n\n",
    "    reverse(0, n-k-1) # reverse until the element before k times\n",
    "    reverse(n-k-1, n-1)  # reverse the rest of the array\n",
    "    reverse(0, n-1) # reverse the whole array"
   ]
  },
  {
   "cell_type": "markdown",
   "metadata": {},
   "source": [
    "## Intersection of Two Linked Lists\n",
    "\n",
    "Given the heads of two singly linked-lists headA and headB, return the node at which the two lists intersect. If the two linked lists have no intersection at all, return null.\n",
    "\n",
    "Note write an algo which runs at O(n+m) Time and O(1) space"
   ]
  },
  {
   "cell_type": "code",
   "execution_count": 27,
   "metadata": {},
   "outputs": [],
   "source": [
    "def getIntersectionNode(headA, headB):\n",
    "    l1, l2 = headA, headB\n",
    "    while l1 != l2:\n",
    "        l1 = l1.next if l1 else headB\n",
    "        l2 = l2.next if l2 else headA\n",
    "    return l1"
   ]
  },
  {
   "cell_type": "markdown",
   "metadata": {},
   "source": [
    "## 75 Sort Colors\n",
    "\n",
    "Given an array nums with n objects colored red, white, or blue, sort them in-place so that objects of the same color are adjacent, with the colors in the order red, white, and blue.\n",
    "\n",
    "We will use the integers 0, 1, and 2 to represent the color red, white, and blue, respectively.\n",
    "\n",
    "You must solve this problem without using the library's sort function.\n",
    "\n",
    " \n",
    "\n",
    "Example 1:\n",
    "\n",
    "Input: nums = [2,0,2,1,1,0]\n",
    "\n",
    "Output: [0,0,1,1,2,2]"
   ]
  },
  {
   "cell_type": "code",
   "execution_count": 31,
   "metadata": {},
   "outputs": [],
   "source": [
    "def sortColors(nums):\n",
    "    left, right = 0, len(nums)-1\n",
    "    i = 0\n",
    "    while i <= right:\n",
    "        if nums[i] == 0:\n",
    "            swap(left, i, nums)\n",
    "\n",
    "        elif nums[i] == 2:\n",
    "            swap(i, right, nums)\n",
    "            i -= 1\n",
    "        i += 1\n",
    "def swap(i, j, nums):\n",
    "    nums[i], nums[j] = nums[j], nums[i]"
   ]
  },
  {
   "cell_type": "markdown",
   "metadata": {},
   "source": [
    "## 78. Subset\n",
    "\n",
    "Given an integer array nums of unique elements, return all possible subsets (the power set).\n",
    "\n",
    "The solution set must not contain duplicate subsets. Return the solution in any order.\n",
    "\n",
    " \n",
    "\n",
    "Example 1:\n",
    "\n",
    "Input: nums = [1,2,3]\n",
    "\n",
    "Output: [[],[1],[2],[1,2],[3],[1,3],[2,3],[1,2,3]]"
   ]
  },
  {
   "cell_type": "code",
   "execution_count": 1,
   "metadata": {},
   "outputs": [],
   "source": [
    "def powerset(array):\n",
    "\t# Write your code here.\n",
    "\tres = []\n",
    "\tsubset = []\n",
    "\t\n",
    "\tdef dfs(i):\n",
    "\t\t#base case when i is out of bounce\n",
    "\t\tif i >= len(array):\n",
    "\t\t\tres.append(subset.copy())\n",
    "\t\t\treturn\n",
    "\t\t\n",
    "\t\t#choice to include array[i] on the subset\n",
    "\t\tsubset.append(array[i])\n",
    "\t\tdfs(i+1)\n",
    "\t\t\n",
    "\t\t#choice not to include array[i]\n",
    "\t\tsubset.pop()\n",
    "\t\tdfs(i+1)\n",
    "\tdfs(0)\n",
    "\treturn res\n"
   ]
  },
  {
   "cell_type": "code",
   "execution_count": null,
   "metadata": {},
   "outputs": [],
   "source": []
  }
 ],
 "metadata": {
  "interpreter": {
   "hash": "d421f7e0be82773f79ff071f6681b3a26ad583fa2b319fe248c43945bdde9151"
  },
  "kernelspec": {
   "display_name": "Python 3.8.5 64-bit ('Hp': virtualenv)",
   "name": "python3"
  },
  "language_info": {
   "codemirror_mode": {
    "name": "ipython",
    "version": 3
   },
   "file_extension": ".py",
   "mimetype": "text/x-python",
   "name": "python",
   "nbconvert_exporter": "python",
   "pygments_lexer": "ipython3",
   "version": "3.8.5"
  },
  "orig_nbformat": 4
 },
 "nbformat": 4,
 "nbformat_minor": 2
}
