{
 "cells": [
  {
   "cell_type": "markdown",
   "metadata": {},
   "source": [
    "## LRU Cache 146\n",
    "\n",
    "Design a data structure that follows the constraints of a Least Recently Used (LRU) cache.\n",
    "\n",
    "Implement the LRUCache class:\n",
    "\n",
    "LRUCache(int capacity) Initialize the LRU cache with positive size capacity.\n",
    "int get(int key) Return the value of the key if the key exists, otherwise return -1.\n",
    "void put(int key, int value) Update the value of the key if the key exists. Otherwise, add the key-value pair to the cache. If the number of keys exceeds the capacity from this operation, evict the least recently used key.\n",
    "The functions get and put must each run in O(1) average time complexity."
   ]
  },
  {
   "cell_type": "code",
   "execution_count": 1,
   "metadata": {},
   "outputs": [],
   "source": [
    "class Node:\n",
    "    def __init__(self, key, val):\n",
    "        self.key, self.val = key, val\n",
    "        self.prev, self.next = None, None\n",
    "\n",
    "class LRUCache:\n",
    "\n",
    "    def __init__(self, capacity: int):\n",
    "        self.cap = capacity\n",
    "        self.cache = {} # for mapping key to node\n",
    "        #left = LRU right = most reecnt\n",
    "        self.left, self.right = Node(0,0), Node(0,0)\n",
    "        self.left.next, self.right.prev = self.right, self.left\n",
    "        \n",
    "    \n",
    "    def remove(self, node):\n",
    "        #remove the node from the linked list\n",
    "        prev, nxt = node.prev, node.next\n",
    "        prev.next, nxt.prev = nxt, prev\n",
    "        \n",
    "    def insert(self, node):\n",
    "        #inserts the node at the right of the linked list\n",
    "        prev, nxt = self.right.prev, self.right\n",
    "        prev.next = nxt.prev = node\n",
    "        node.next, node.prev = nxt, prev\n",
    "        \n",
    "    def get(self, key: int) -> int:\n",
    "        if key in self.cache:\n",
    "            self.remove(self.cache[key])\n",
    "            self.insert(self.cache[key])\n",
    "            return self.cache[key].val\n",
    "        return -1\n",
    "\n",
    "    def put(self, key: int, value: int) -> None:\n",
    "        if key in self.cache:\n",
    "            self.remove(self.cache[key])\n",
    "        self.cache[key] = Node(key, value)\n",
    "        self.insert(self.cache[key])\n",
    "        \n",
    "        #handle the case when the capacity has exceeded\n",
    "        if len(self.cache) > self.cap:\n",
    "            lru = self.left.next\n",
    "            self.remove(lru)\n",
    "            del self.cache[lru.key]\n",
    "        \n",
    "\n",
    "\n",
    "# Your LRUCache object will be instantiated and called as such:\n",
    "# obj = LRUCache(capacity)\n",
    "# param_1 = obj.get(key)\n",
    "# obj.put(key,value)"
   ]
  },
  {
   "cell_type": "markdown",
   "metadata": {},
   "source": [
    "## 143 Reorder List\n",
    "\n",
    "You are given the head of a singly linked-list. The list can be represented as:\n",
    "\n",
    "L0 → L1 → … → Ln - 1 → Ln\n",
    "\n",
    "\n",
    "Reorder the list to be on the following form:\n",
    "\n",
    "L0 → Ln → L1 → Ln - 1 → L2 → Ln - 2 → …\n",
    "\n",
    "\n",
    "You may not modify the values in the list's nodes. Only nodes themselves may be changed.\n",
    "\n",
    " "
   ]
  },
  {
   "cell_type": "code",
   "execution_count": 2,
   "metadata": {},
   "outputs": [],
   "source": [
    "# This is an input class. Do not edit.\n",
    "class LinkedList:\n",
    "    def __init__(self, value):\n",
    "        self.value = value\n",
    "        self.next = None\n",
    "\n",
    "\n",
    "def zipLinkedList(linkedList):\n",
    "    # Write your code here.\n",
    "    #find the middle of the list\n",
    "\tslow, fast = linkedList, linkedList.next\n",
    "\twhile fast and fast.next:\n",
    "\t\tslow = slow.next\n",
    "\t\tfast = fast.next.next\n",
    "\t\n",
    "\t#reverse the second half\n",
    "\tsecond = slow.next\n",
    "\tprev = slow.next = None\n",
    "\twhile second:\n",
    "\t\ttemp = second.next\n",
    "\t\tsecond.next = prev\n",
    "\t\tprev = second\n",
    "\t\tsecond = temp\n",
    "\t\n",
    "\t# merge the two halves\n",
    "\tfirst, second = linkedList, prev\n",
    "\twhile second:\n",
    "\t\ttemp1, temp2 = first.next, second.next\n",
    "\t\tfirst.next = second\n",
    "\t\tsecond.next = temp1\n",
    "\t\tfirst, second = temp1, temp2\n",
    "\treturn linkedList"
   ]
  },
  {
   "cell_type": "markdown",
   "metadata": {},
   "source": [
    "## 300 Longest Increasing Subsequence\n",
    "\n",
    "Given an integer array nums, return the length of the longest strictly increasing subsequence.\n",
    "\n",
    "A subsequence is a sequence that can be derived from an array by deleting some or no elements without changing the order of the remaining elements. For example, [3,6,2,7] is a subsequence of the array [0,3,1,6,2,2,7].\n",
    "\n",
    " \n",
    "\n",
    "Example 1:\n",
    "\n",
    "Input: nums = [10,9,2,5,3,7,101,18]\n",
    "\n",
    "Output: 4\n",
    "\n",
    "Explanation: The longest increasing subsequence is [2,3,7,101], therefore the length is 4."
   ]
  },
  {
   "cell_type": "code",
   "execution_count": 3,
   "metadata": {},
   "outputs": [
    {
     "data": {
      "text/plain": [
       "4"
      ]
     },
     "execution_count": 3,
     "metadata": {},
     "output_type": "execute_result"
    }
   ],
   "source": [
    "def lengthOfLIS(nums):\n",
    "    LIS = [1] * len(nums)\n",
    "\n",
    "    for i in range(len(nums)-1, -1, -1):\n",
    "        for j in range(i + 1, len(nums)):\n",
    "            if nums[i] < nums[j]:\n",
    "                LIS[i] = max(LIS[i], 1 + LIS[j])\n",
    "    return max(LIS)\n",
    "\n",
    "lengthOfLIS([10,9,2,5,3,7,101,18])"
   ]
  },
  {
   "cell_type": "code",
   "execution_count": 5,
   "metadata": {},
   "outputs": [
    {
     "data": {
      "text/plain": [
       "[2, 3, 7, 18]"
      ]
     },
     "execution_count": 5,
     "metadata": {},
     "output_type": "execute_result"
    }
   ],
   "source": [
    "## if you want to return the longest Increasing subsequence\n",
    "\n",
    "def longIncreasingSub(nums):\n",
    "    length = [1] * len(nums) #stores the length of the lis at i\n",
    "    sequences = [None] * len(nums) #stores the inx of the previous num that is on LIS\n",
    "    maxLengthIdx = 0\n",
    "    for i in range(len(nums)):\n",
    "        currentNum = nums[i]\n",
    "        for j in range(0, i):\n",
    "            otherNum = nums[j]\n",
    "            if otherNum < currentNum and length[j] +1 >= length[i]:\n",
    "                length[i] = length[j] + 1\n",
    "                sequences[i] = j\n",
    "        if length[i] >= length[maxLengthIdx]:\n",
    "            maxLengthIdx = i\n",
    "    return buildSequence(nums, sequences, maxLengthIdx)\n",
    "\n",
    "def buildSequence(nums, sequences, currentIdx):\n",
    "    sequence = []\n",
    "    while currentIdx is not None:\n",
    "        sequence.append(nums[currentIdx])\n",
    "        currentIdx = sequences[currentIdx]\n",
    "    return list(reversed(sequence))\n",
    "\n",
    "longIncreasingSub([10,9,2,5,3,7,101,18])"
   ]
  },
  {
   "cell_type": "code",
   "execution_count": null,
   "metadata": {},
   "outputs": [],
   "source": []
  }
 ],
 "metadata": {
  "interpreter": {
   "hash": "d421f7e0be82773f79ff071f6681b3a26ad583fa2b319fe248c43945bdde9151"
  },
  "kernelspec": {
   "display_name": "Python 3.8.5 64-bit (conda)",
   "name": "python3"
  },
  "language_info": {
   "codemirror_mode": {
    "name": "ipython",
    "version": 3
   },
   "file_extension": ".py",
   "mimetype": "text/x-python",
   "name": "python",
   "nbconvert_exporter": "python",
   "pygments_lexer": "ipython3",
   "version": "3.8.5"
  },
  "orig_nbformat": 4
 },
 "nbformat": 4,
 "nbformat_minor": 2
}
