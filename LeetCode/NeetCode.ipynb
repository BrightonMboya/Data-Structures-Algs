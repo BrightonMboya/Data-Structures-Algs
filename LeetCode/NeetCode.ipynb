{
 "cells": [
  {
   "cell_type": "markdown",
   "metadata": {},
   "source": [
    "## Two Sum II LeetCode 167\n",
    "\n",
    "Given a 1-indexed array of integers numbers that is already sorted in non-decreasing order, find two numbers such that they add up to a specific target number. Let these two numbers be numbers[index1] and numbers[index2] where 1 <= index1 < index2 <= numbers.length.\n",
    "\n",
    "Return the indices of the two numbers, index1 and index2, added by one as an integer array [index1, index2] of length 2.\n",
    "\n",
    "The tests are generated such that there is exactly one solution. You may not use the same element twice.\n",
    "\n",
    "Input: numbers = [2,7,11,15], target = 9\n",
    "\n",
    "\n",
    "Output: [1,2]\n",
    "\n",
    "\n",
    "Explanation: The sum of 2 and 7 is 9. Therefore, index1 = 1, index2 = 2. We return [1, 2]."
   ]
  },
  {
   "cell_type": "code",
   "execution_count": 1,
   "metadata": {},
   "outputs": [],
   "source": [
    "def twoSum(numbers, target):\n",
    "    i = 0\n",
    "    j = len(numbers) -1\n",
    "    while i < j:\n",
    "        firstNum = numbers[i]\n",
    "        secondNum = numbers[j]\n",
    "        numSum = firstNum + secondNum\n",
    "        if numSum == target:\n",
    "            return [i+1, j+1]\n",
    "        elif numSum < target:\n",
    "            i += 1\n",
    "        elif numSum > target:\n",
    "            j -= 1"
   ]
  },
  {
   "cell_type": "markdown",
   "metadata": {},
   "source": [
    "## House Robber LeetCode 198\n",
    "\n",
    "You are a professional robber planning to rob houses along a street. Each house has a certain amount of money stashed, the only constraint stopping you from robbing each of them is that adjacent houses have security systems connected and it will automatically contact the police if two adjacent houses were broken into on the same night.\n",
    "\n",
    "Given an integer array nums representing the amount of money of each house, return the maximum amount of money you can rob tonight without alerting the police.\n",
    "\n",
    "Input: nums = [1,2,3,1]\n",
    "\n",
    "Output: 4\n",
    "\n",
    "Explanation: Rob house 1 (money = 1) and then rob house 3 (money = 3).\n",
    "\n",
    "Total amount you can rob = 1 + 3 = 4.\n",
    "\n",
    "Input: nums = [2,7,9,3,1]\n",
    "\n",
    "\n",
    "Output: 12\n",
    "\n",
    "\n",
    "Explanation: Rob house 1 (money = 2), rob house 3 (money = 9) and rob house 5 (money = 1).\n",
    "\n",
    "\n",
    "Total amount you can rob = 2 + 9 + 1 = 12."
   ]
  },
  {
   "cell_type": "code",
   "execution_count": 2,
   "metadata": {},
   "outputs": [],
   "source": [
    "def rob(nums):\n",
    "    rob1, rob2 = 0, 0\n",
    "    for n in nums:\n",
    "        temp = max(n+rob1, rob2)\n",
    "        rob1 = rob2\n",
    "        rob2 = temp\n",
    "    return rob2"
   ]
  },
  {
   "cell_type": "markdown",
   "metadata": {},
   "source": [
    "## Invert Binary Tree LeetCode 226\n",
    "\n",
    "Given the root of a binary tree, invert the tree, and return its root."
   ]
  },
  {
   "cell_type": "code",
   "execution_count": 3,
   "metadata": {},
   "outputs": [],
   "source": [
    "class Solution:\n",
    "    def invertTree(self, root):\n",
    "        if root is None:\n",
    "            return\n",
    "        self.swapLeftAndRight(root)\n",
    "        self.invertTree(root.left)\n",
    "        self.invertTree(root.right)\n",
    "        return root\n",
    "    \n",
    "    def swapLeftAndRight(self, node):\n",
    "        node.left, node.right = node.right, node.left"
   ]
  },
  {
   "cell_type": "markdown",
   "metadata": {},
   "source": [
    "## Diameter of a Binary Tree LC 543\n",
    "\n",
    "Given the root of a binary tree, return the length of the diameter of the tree.\n",
    "\n",
    "The diameter of a binary tree is the length of the longest path between any two nodes in a tree. This path may or may not pass through the root.\n",
    "\n",
    "The length of a path between two nodes is represented by the number of edges between them.\n",
    "\n",
    "E,g\n",
    "\n",
    "Input: root = [1,2,3,4,5]\n",
    "\n",
    "\n",
    "Output: 3\n",
    "\n",
    "Explanation: 3 is the length of the path [4,2,1,3] or [5,2,1,3].\n",
    "\n",
    "The main ideas is to use Kadane algorithm and to use a dfs, its more like a dp problem\n",
    "\n",
    "in case of the review of the algo: https://medium.com/@rsinghal757/kadanes-algorithm-dynamic-programming-how-and-why-does-it-work-3fd8849ed73d"
   ]
  },
  {
   "cell_type": "code",
   "execution_count": 14,
   "metadata": {},
   "outputs": [],
   "source": [
    "def diameterOfBinaryTree(self, root):\n",
    "        self.diameter = 0\n",
    "        self.dfs(root)\n",
    "        return self.diameter\n",
    "    \n",
    "def dfs(self, node):\n",
    "    if node is None:\n",
    "        return 0\n",
    "    leftHeight = self.dfs(node.left)\n",
    "    rightHeight = self.dfs(node.right)\n",
    "    self.diameter = max(self.diameter, leftHeight + rightHeight)\n",
    "    return max(leftHeight, rightHeight) + 1"
   ]
  },
  {
   "cell_type": "markdown",
   "metadata": {},
   "source": [
    "## Maximum Depth of a Binary Tree LC 104\n",
    "\n",
    "Given the root of a binary tree, return its maximum depth.\n",
    "\n",
    "A binary tree's maximum depth is the number of nodes along the longest path from the root node down to the farthest leaf node.\n",
    "\n",
    "Input: root = [3,9,20,null,null,15,7]\n",
    "\n",
    "\n",
    "Output: 3"
   ]
  },
  {
   "cell_type": "code",
   "execution_count": 2,
   "metadata": {},
   "outputs": [],
   "source": [
    "# Definition for a binary tree node.\n",
    "# class TreeNode:\n",
    "#     def __init__(self, val=0, left=None, right=None):\n",
    "#         self.val = val\n",
    "#         self.left = left\n",
    "#         self.right = right\n",
    "class Solution:\n",
    "    def maxDepth(self, root):\n",
    "        if root is None:\n",
    "            return 0\n",
    "        return max(1 + self.maxDepth(root.left), 1 + self.maxDepth(root.right))\n",
    "        "
   ]
  },
  {
   "cell_type": "markdown",
   "metadata": {},
   "source": [
    "## Climbing Stairs LeetCode 70\n",
    "\n",
    "You are climbing a staircase. It takes n steps to reach the top.\n",
    "\n",
    "Each time you can either climb 1 or 2 steps. In how many distinct ways can you climb to the top?\n",
    "\n",
    "Input: n = 2\n",
    "\n",
    "Output: 2\n",
    "\n",
    "Explanation: There are two ways to climb to the top.\n",
    "\n",
    "1. 1 step + 1 step\n",
    "\n",
    "\n",
    "2. 2 steps\n",
    "\n",
    "\n",
    "HInt: Dynamic Programming using Fibonacci series"
   ]
  },
  {
   "cell_type": "code",
   "execution_count": null,
   "metadata": {},
   "outputs": [],
   "source": [
    "def climbStairs(n, memo= {}):\n",
    "        if n in memo:\n",
    "            return memo[n]\n",
    "        elif n <= 2:\n",
    "            return n\n",
    "        result = climbStairs(n-1, memo) + climbStairs(n-2, memo)\n",
    "        memo[n] = result\n",
    "        return result"
   ]
  },
  {
   "cell_type": "markdown",
   "metadata": {},
   "source": [
    "## Valid Parenthes LeetCode 20\n",
    "\n",
    "Given a string s containing just the characters '(', ')', '{', '}', '[' and ']', determine if the input string is valid.\n",
    "\n",
    "An input string is valid if:\n",
    "\n",
    "Open brackets must be closed by the same type of brackets.\n",
    "\n",
    "Open brackets must be closed in the correct order.\n",
    " \n",
    "\n",
    "Example 1:\n",
    "\n",
    "Input: s = \"()\"\n",
    "\n",
    "Output: true\n",
    "\n",
    "HInt: Use a hashmap to store the open and closing of the brackets. compare the top of the stack and the char and you can continue from there"
   ]
  },
  {
   "cell_type": "code",
   "execution_count": 9,
   "metadata": {},
   "outputs": [],
   "source": [
    "def isValid(s):\n",
    "        stack = []\n",
    "        closeToOpen = {\n",
    "            ')': '(',\n",
    "            ']':'[', \n",
    "            '}':'{'\n",
    "            }\n",
    "        for char in s:\n",
    "            if char in closeToOpen:\n",
    "                if stack and stack[-1] == closeToOpen[char]:\n",
    "                    stack.pop()\n",
    "                else:\n",
    "                    return False\n",
    "            else:\n",
    "                stack.append(char)\n",
    "        return False if stack  else True"
   ]
  },
  {
   "cell_type": "markdown",
   "metadata": {},
   "source": [
    "## Target Sum LC 494\n",
    "\n",
    "You are given an integer array nums and an integer target.\n",
    "\n",
    "You want to build an expression out of nums by adding one of the symbols '+' and '-' before each integer in nums and then concatenate all the integers.\n",
    "\n",
    "For example, if nums = [2, 1], you can add a '+' before 2 and a '-' before 1 and concatenate them to build the expression \"+2-1\".\n",
    "Return the number of different expressions that you can build, which evaluates to target.\n",
    "\n",
    " \n",
    "\n",
    "Example 1:\n",
    "\n",
    "Input: nums = [1,1,1,1,1], target = 3\n",
    "\n",
    "\n",
    "Output: 5\n",
    "\n",
    "Explanation: There are 5 ways to assign symbols to make the sum of nums be target 3.\n",
    "\n",
    "-1 + 1 + 1 + 1 + 1 = 3\n",
    "\n",
    "+1 - 1 + 1 + 1 + 1 = 3\n",
    "\n",
    "+1 + 1 - 1 + 1 + 1 = 3\n",
    "\n",
    "+1 + 1 + 1 - 1 + 1 = 3\n",
    "\n",
    "+1 + 1 + 1 + 1 - 1 = 3"
   ]
  },
  {
   "cell_type": "code",
   "execution_count": 10,
   "metadata": {},
   "outputs": [],
   "source": [
    "def findTargetSumWays(nums, target):\n",
    "    dp = {}\n",
    "    \n",
    "    def backTrack(inx, total):\n",
    "        if inx == len(nums):\n",
    "            return 1 if total == target else 0\n",
    "        if (inx, total) in dp:\n",
    "            return dp[(inx, total)]\n",
    "        \n",
    "        dp[(inx, total)] = (backTrack(inx+1, total + nums[inx]) +\n",
    "                            backTrack(inx+1, total - nums[inx]))\n",
    "        return dp[(inx, total)]\n",
    "    return backTrack(0, 0)"
   ]
  },
  {
   "cell_type": "markdown",
   "metadata": {},
   "source": [
    "## Find Pivot Inx LC 724\n",
    "\n",
    "Given an array of integers nums, calculate the pivot index of this array.\n",
    "\n",
    "The pivot index is the index where the sum of all the numbers strictly to the left of the index is equal to the sum of all the numbers strictly to the index's right.\n",
    "\n",
    "If the index is on the left edge of the array, then the left sum is 0 because there are no elements to the left. This also applies to the right edge of the array.\n",
    "\n",
    "Return the leftmost pivot index. If no such index exists, return -1."
   ]
  },
  {
   "cell_type": "code",
   "execution_count": 13,
   "metadata": {},
   "outputs": [],
   "source": [
    "def pivotIndex(nums):\n",
    "        leftSum = 0\n",
    "        rightSum = sum(nums)\n",
    "        \n",
    "        for inx, num in enumerate(nums):\n",
    "            rightSum -= num\n",
    "            \n",
    "            if leftSum == rightSum:\n",
    "                return inx\n",
    "            else:\n",
    "                leftSum += num\n",
    "        return -1"
   ]
  },
  {
   "cell_type": "markdown",
   "metadata": {},
   "source": [
    "## Reverse Bits LC 190\n",
    "\n",
    "Reverse bits of a given 32 bits unsigned integer.\n",
    "\n",
    "Input: n = 00000010100101000001111010011100\n",
    "\n",
    "Output:    964176192 (00111001011110000010100101000000)\n",
    "\n",
    "Explanation: The input binary string 00000010100101000001111010011100 represents the unsigned integer 43261596, so return 964176192 which its binary representation is 00111001011110000010100101000000."
   ]
  },
  {
   "cell_type": "code",
   "execution_count": 14,
   "metadata": {},
   "outputs": [],
   "source": [
    "def reverseBits(n):\n",
    "        result=  '{0:032b}'.format(n)\n",
    "        ans = result[::-1]\n",
    "        return int(ans, 2)"
   ]
  },
  {
   "cell_type": "markdown",
   "metadata": {},
   "source": [
    "## Product of Array except Self LC 238\n",
    "\n",
    "Given an integer array nums, return an array answer such that answer[i] is equal to the product of all the elements of nums except nums[i].\n",
    "\n",
    "The product of any prefix or suffix of nums is guaranteed to fit in a 32-bit integer.\n",
    "\n",
    "You must write an algorithm that runs in O(n) time and without using the division operation\n",
    "\n",
    "Input: nums = [1,2,3,4]\n",
    "\n",
    "Output: [24,12,8,6]"
   ]
  },
  {
   "cell_type": "code",
   "execution_count": 1,
   "metadata": {},
   "outputs": [],
   "source": [
    "def productExceptSelf(nums):\n",
    "        leftProducts = [1 for _ in range(len(nums))]\n",
    "        rightProducts = [1 for _ in range(len(nums))]\n",
    "        products = [1 for _ in range(len(nums))]\n",
    "        \n",
    "        leftRunningProduct = 1\n",
    "        for i in range(len(nums)):\n",
    "            leftProducts[i] = leftRunningProduct\n",
    "            leftRunningProduct *= nums[i]\n",
    "        \n",
    "        rightRunningProduct = 1\n",
    "        for i in reversed(range(len(nums))):\n",
    "            rightProducts[i] = rightRunningProduct\n",
    "            rightRunningProduct *= nums[i]\n",
    "        \n",
    "        for i in range(len(nums)):\n",
    "            products[i] = leftProducts[i] * rightProducts[i]\n",
    "        \n",
    "        return products\n",
    "        "
   ]
  },
  {
   "cell_type": "markdown",
   "metadata": {},
   "source": [
    "## Missing Number LC 268\n",
    "\n",
    "Given an array nums containing n distinct numbers in the range [0, n], return the only number in the range that is missing from the array.\n",
    "\n",
    "Input: nums = [3,0,1]\n",
    "\n",
    "Output: 2\n",
    "\n",
    "Explanation: n = 3 since there are 3 numbers, so all numbers are in the range [0,3]. 2 is the missing number in the range since it does not appear in nums."
   ]
  },
  {
   "cell_type": "code",
   "execution_count": 3,
   "metadata": {},
   "outputs": [],
   "source": [
    "def missingNumber(nums):\n",
    "        nums.sort()\n",
    "        missingNumber = 0\n",
    "        for num in nums:\n",
    "            if num != missingNumber:\n",
    "                return missingNumber\n",
    "            else:\n",
    "                missingNumber += 1\n",
    "        return missingNumber"
   ]
  },
  {
   "cell_type": "markdown",
   "metadata": {},
   "source": [
    "## 152. Maximum Product Subarray\n",
    "\n",
    "Given an integer array nums, find a contiguous non-empty subarray within the array that has the largest product, and return the product.\n",
    "\n",
    "It is guaranteed that the answer will fit in a 32-bit integer.\n",
    "\n",
    "A subarray is a contiguous subsequence of the array.\n",
    "\n",
    " \n",
    "\n",
    "Example 1:\n",
    "\n",
    "Input: nums = [2,3,-2,4]\n",
    "\n",
    "\n",
    "Output: 6\n",
    "\n",
    "\n",
    "Explanation: [2,3] has the largest product 6."
   ]
  },
  {
   "cell_type": "code",
   "execution_count": 1,
   "metadata": {},
   "outputs": [],
   "source": [
    "def maxProduct(nums):\n",
    "    res = max(nums)\n",
    "    currMin, currMax = 1, 1\n",
    "    for n in nums:\n",
    "        temp = currMax * n\n",
    "        currMax = max(currMax * n, currMin * n, n)\n",
    "        currMin = min(temp, n*currMin, n)\n",
    "        res = max(res, currMax)\n",
    "    return res"
   ]
  },
  {
   "cell_type": "markdown",
   "metadata": {},
   "source": [
    "## 605 Can Place Flowers\n",
    "\n",
    "You have a long flowerbed in which some of the plots are planted, and some are not. However, flowers cannot be planted in adjacent plots.\n",
    "\n",
    "Given an integer array flowerbed containing 0's and 1's, where 0 means empty and 1 means not empty, and an integer n, return if n new flowers can be planted in the flowerbed without violating the no-adjacent-flowers rule.\n",
    "\n",
    " \n",
    "\n",
    "Example 1:\n",
    "\n",
    "Input: flowerbed = [1,0,0,0,1], n = 1\n",
    "\n",
    "Output: true"
   ]
  },
  {
   "cell_type": "code",
   "execution_count": 1,
   "metadata": {},
   "outputs": [],
   "source": [
    "def canPlaceFlowers(flowerbed, n):\n",
    "    count = 0\n",
    "    for i in range(len(flowerbed)):\n",
    "        left = flowerbed[i-1] if i > 0 else 0\n",
    "        right = flowerbed[i+1] if i < len(flowerbed) - 1 else 0\n",
    "        if (left, flowerbed[i], right) == (0, 0, 0):\n",
    "            count += 1\n",
    "            flowerbed[i] = 1\n",
    "    return count >= n"
   ]
  },
  {
   "cell_type": "markdown",
   "metadata": {},
   "source": [
    "## 61. Rotate List\n",
    "\n",
    "Given the head of a linked list, rotate the list to the right by k places.\n",
    "\n",
    "Input: head = [1,2,3,4,5], k = 2\n",
    "\n",
    "Output: [4,5,1,2,3]"
   ]
  },
  {
   "cell_type": "code",
   "execution_count": 4,
   "metadata": {},
   "outputs": [],
   "source": [
    "def rotateList(head, k):\n",
    "    #handle the case where the head is None\n",
    "    if head is None:\n",
    "        return head\n",
    "\n",
    "    # find the length of the list\n",
    "    listTail = head\n",
    "    listLength = 1\n",
    "    while listTail.next is not None:\n",
    "        listTail = listTail.next\n",
    "        listLength += 1\n",
    "    \n",
    "    #look for an offset\n",
    "    offset =abs(k) % listLength\n",
    "    # look for a newTail position\n",
    "    newTailPosition = listLength - offset\n",
    "\n",
    "    newTail = head\n",
    "    for i in range(1, newTailPosition):\n",
    "        newTail = newTail.next\n",
    "    \n",
    "    newHead = newTail.next\n",
    "    newTail.next = None\n",
    "    listTail.next = head\n",
    "    return newHead\n"
   ]
  },
  {
   "cell_type": "markdown",
   "metadata": {},
   "source": [
    "## 234 Palindrome Linked List\n",
    "Given the head of a singly linked list, return true if it is a palindrome.\n",
    "\n",
    "Input: head = [1,2,2,1]\n",
    "\n",
    "Output: true"
   ]
  },
  {
   "cell_type": "code",
   "execution_count": 6,
   "metadata": {},
   "outputs": [],
   "source": [
    "# This is an input class. Do not edit.\n",
    "class LinkedList:\n",
    "\tdef __init__(self, value):\n",
    "\t\tself.value = value\n",
    "\t\tself.next = None\n",
    "\n",
    "\n",
    "def linkedListPalindrome(head):\n",
    "\t# Write your code here.\n",
    "\t# looking for the mid node\n",
    "\tfast, slow = head, head\n",
    "\twhile fast and fast.next:\n",
    "\t\tfast = fast.next.next\n",
    "\t\tslow = slow.next\n",
    "\t\n",
    "\t# now reverse the second half of the linkedList\n",
    "\tprev = None\n",
    "\twhile slow:\n",
    "\t\ttemp = slow.next\n",
    "\t\tslow.next = prev\n",
    "\t\tprev = slow\n",
    "\t\tslow = temp\n",
    "\t\n",
    "\t# compare the values\n",
    "\tleft = head\n",
    "\tright = prev\n",
    "\twhile right:\n",
    "\t\tif left.value != right.value:\n",
    "\t\t\treturn False\n",
    "\t\tleft = left.next\n",
    "\t\tright = right.next\n",
    "\treturn True\n",
    "\t"
   ]
  },
  {
   "cell_type": "markdown",
   "metadata": {},
   "source": [
    "## 230 Kth Smallest Element\n",
    "\n",
    "Given the root of a binary search tree, and an integer k, return the kth smallest value (1-indexed) of all the values of the nodes in the tree."
   ]
  },
  {
   "cell_type": "code",
   "execution_count": 14,
   "metadata": {},
   "outputs": [],
   "source": [
    "# Definition for a binary tree node.\n",
    "# class TreeNode:\n",
    "#     def __init__(self, val=0, left=None, right=None):\n",
    "#         self.val = val\n",
    "#         self.left = left\n",
    "#         self.right = right\n",
    "class Solution:\n",
    "    def kthSmallest(self, root, k):\n",
    "        stack = []\n",
    "        n = 0\n",
    "        curr = root\n",
    "        #check if the curr and stack is not None\n",
    "        while curr or stack:\n",
    "            # keep on going to the leftmost node until you find an empty one\n",
    "            while curr:\n",
    "                stack.append(curr)\n",
    "                curr = curr.left\n",
    "            #after finding the none node, visit the most added item to the stack\n",
    "            curr = stack.pop()\n",
    "            n += 1\n",
    "            \n",
    "            #check if n ==k and return that node\n",
    "            if n == k:\n",
    "                return curr.val\n",
    "            #if its not go to the right node\n",
    "            curr = curr.right"
   ]
  },
  {
   "cell_type": "markdown",
   "metadata": {},
   "source": [
    "## Kth Largest Element in a BST"
   ]
  },
  {
   "cell_type": "code",
   "execution_count": 15,
   "metadata": {},
   "outputs": [],
   "source": [
    "# This is an input class. Do not edit.\n",
    "class BST:\n",
    "    def __init__(self, value, left=None, right=None):\n",
    "        self.value = value\n",
    "        self.left = left\n",
    "        self.right = right\n",
    "\n",
    "\n",
    "def findKthLargestValueInBst(tree, k):\n",
    "    # Write your code here.\n",
    "\tsortedArray = []\n",
    "\tinOrder(tree, sortedArray)\n",
    "\treturn sortedArray[len(sortedArray) - k].value\n",
    "\n",
    "def inOrder(tree, sortedArray):\n",
    "\tif tree is not None:\n",
    "\t\tinOrder(tree.left, sortedArray)\n",
    "\t\tvisit(tree, sortedArray)\n",
    "\t\tinOrder(tree.right, sortedArray)\n",
    "\t\n",
    "def visit(tree, sortedArray):\n",
    "\tsortedArray.append(tree)"
   ]
  },
  {
   "cell_type": "markdown",
   "metadata": {},
   "source": [
    "## 33 Search in Rotated Sorted Array\n",
    "\n",
    "There is an integer array nums sorted in ascending order (with distinct values).\n",
    "\n",
    "Prior to being passed to your function, nums is possibly rotated at an unknown pivot index k (1 <= k < nums.length) such that the resulting array is [nums[k], nums[k+1], ..., nums[n-1], nums[0], nums[1], ..., nums[k-1]] (0-indexed). For example, [0,1,2,4,5,6,7] might be rotated at pivot index 3 and become [4,5,6,7,0,1,2].\n",
    "\n",
    "Given the array nums after the possible rotation and an integer target, return the index of target if it is in nums, or -1 if it is not in nums.\n",
    "\n",
    "You must write an algorithm with O(log n) runtime complexity.\n",
    "\n",
    " \n",
    "\n",
    "Example 1:\n",
    "\n",
    "Input: nums = [4,5,6,7,0,1,2], target = 0\n",
    "\n",
    "Output: 4"
   ]
  },
  {
   "cell_type": "code",
   "execution_count": 16,
   "metadata": {},
   "outputs": [],
   "source": [
    "def shiftedBinarySearch(array, target):\n",
    "\tleft= 0\n",
    "\tright = len(array)- 1\n",
    "\twhile left <= right:\n",
    "\t\tmid = (left + right) // 2\n",
    "\t\tif array[mid] == target:\n",
    "\t\t\treturn mid\n",
    "\t\t\n",
    "\t\t#check if you're in the left rotated array\n",
    "\t\tif array[left] <= array[mid]:\n",
    "\t\t\tif array[mid] < target or array[left] > target:\n",
    "\t\t\t\tleft = mid + 1\n",
    "\t\t\t\tright = mid - 1\n",
    "\t\t#here is when we are on the right rotated array\n",
    "\t\telse:\n",
    "\t\t\tif array[right] < target or array[mid] > target:\n",
    "\t\t\t\tright = mid - 1\n",
    "\t\t\telse:\n",
    "\t\t\t\tleft = mid + 1\n",
    "\treturn -1\n",
    "\t\t\t"
   ]
  },
  {
   "cell_type": "code",
   "execution_count": null,
   "metadata": {},
   "outputs": [],
   "source": []
  }
 ],
 "metadata": {
  "interpreter": {
   "hash": "cde3ec76907d9d896e943ab917179e131da7cf4b500ea9b151f784767f25e879"
  },
  "kernelspec": {
   "display_name": "Python 3.8.12 64-bit ('Tony_ml': conda)",
   "name": "python3"
  },
  "language_info": {
   "codemirror_mode": {
    "name": "ipython",
    "version": 3
   },
   "file_extension": ".py",
   "mimetype": "text/x-python",
   "name": "python",
   "nbconvert_exporter": "python",
   "pygments_lexer": "ipython3",
   "version": "3.8.12"
  },
  "orig_nbformat": 4
 },
 "nbformat": 4,
 "nbformat_minor": 2
}
