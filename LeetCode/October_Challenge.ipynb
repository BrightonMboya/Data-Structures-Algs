{
 "cells": [
  {
   "cell_type": "markdown",
   "metadata": {},
   "source": [
    "## Best Sum\n",
    "\n",
    "Given an integer array nums, find the contiguous subarray (containing at least one number) which has the largest sum and return its sum.\n",
    "\n",
    "A subarray is a contiguous part of an array.\n",
    "\n",
    "\n",
    "Input: nums = [-2,1,-3,4,-1,2,1,-5,4]\n",
    "Output: 6\n",
    "Explanation: [4,-1,2,1] has the largest sum = 6.\n"
   ]
  },
  {
   "cell_type": "code",
   "execution_count": 3,
   "metadata": {},
   "outputs": [],
   "source": [
    "# solving by using Kaddane algorithm\n",
    "\n",
    "class Solution:\n",
    "    def maxSubArray(self, nums):\n",
    "        if len(nums) == 1:\n",
    "            return nums[0]\n",
    "        bestSum = float('-inf')\n",
    "        currentSum = 0\n",
    "        for x in nums:\n",
    "            currentSum = max(x, currentSum + x)\n",
    "            bestSum = max(currentSum, bestSum)\n",
    "        return bestSum"
   ]
  },
  {
   "cell_type": "markdown",
   "metadata": {},
   "source": [
    "# Merge Two sorted arrays\n",
    "\n",
    "You are given two integer arrays nums1 and nums2, sorted in non-decreasing order, and two integers m and n, representing the number of elements in nums1 and nums2 respectively.\n",
    "\n",
    "Merge nums1 and nums2 into a single array sorted in non-decreasing order.\n",
    "\n",
    "The final sorted array should not be returned by the function, but instead be stored inside the array nums1. To accommodate this, nums1 has a length of m + n, where the first m elements denote the elements that should be merged, and the last n elements are set to 0 and should be ignored. nums2 has a length of n.\n",
    "\n",
    "Input: nums1 = [1], m = 1, nums2 = [], n = 0\n",
    "\n",
    "\n",
    "Output: [1]\n",
    "\n",
    "\n",
    "Explanation: The arrays we are merging are [1] and [].\n",
    "\n",
    "\n",
    "The result of the merge is [1]."
   ]
  },
  {
   "cell_type": "code",
   "execution_count": null,
   "metadata": {},
   "outputs": [],
   "source": [
    "class Solution:\n",
    "    def merge(self, nums1: List[int], m: int, nums2: List[int], n: int) -> None:\n",
    "        \"\"\"\n",
    "        Do not return anything, modify nums1 in-place instead.\n",
    "        \"\"\"\n",
    "        last = m + n -1\n",
    "        while m > 0 and n > 0:\n",
    "            if nums1[m -1] > nums2[n-1]:\n",
    "                nums1[last] = nums1[m-1]\n",
    "                m -= 1\n",
    "            else:\n",
    "                nums1[last] = nums2[n-1]\n",
    "                n -= 1\n",
    "            last -= 1\n",
    "        while n > 0:\n",
    "            nums1[last] = nums2[n-1]\n",
    "            n -= 1\n",
    "            last -= 1\n",
    "        return nums1"
   ]
  },
  {
   "cell_type": "markdown",
   "metadata": {},
   "source": [
    "# Intersection of two arays\n",
    "\n",
    "Given two integer arrays nums1 and nums2, return an array of their intersection. Each element in the result must appear as many times as it shows in both arrays and you may return the result in any order.\n",
    "\n",
    "Input: nums1 = [1,2,2,1], nums2 = [2,2]\n",
    "\n",
    "\n",
    "Output: [2,2]\n",
    "\n",
    "Input: nums1 = [4,9,5], nums2 = [9,4,9,8,4]\n",
    "\n",
    "Output: [4,9]\n",
    "\n",
    "Explanation: [9,4] is also accepted."
   ]
  },
  {
   "cell_type": "code",
   "execution_count": 2,
   "metadata": {},
   "outputs": [
    {
     "ename": "SyntaxError",
     "evalue": "'return' outside function (<ipython-input-2-17216c8bf22b>, line 18)",
     "output_type": "error",
     "traceback": [
      "\u001b[1;36m  File \u001b[1;32m\"<ipython-input-2-17216c8bf22b>\"\u001b[1;36m, line \u001b[1;32m18\u001b[0m\n\u001b[1;33m    return result\u001b[0m\n\u001b[1;37m    ^\u001b[0m\n\u001b[1;31mSyntaxError\u001b[0m\u001b[1;31m:\u001b[0m 'return' outside function\n"
     ]
    }
   ],
   "source": [
    "class Solution:\n",
    "    def intersect(self, nums1: List[int], nums2: List[int]) -> List[int]:\n",
    "        result = []\n",
    "        left = right = 0\n",
    "        nums1.sort()\n",
    "        nums2.sort()\n",
    "        while (left < len(nums1) and right < len(nums2)):\n",
    "            if nums1[left] < nums2[right]:\n",
    "                left += 1\n",
    "                continue\n",
    "            if nums1[left] > nums2[right]:\n",
    "                right += 1\n",
    "                continue\n",
    "            result.append(nums1[left])\n",
    "            left += 1\n",
    "            right += 1\n",
    "            \n",
    "        return result"
   ]
  },
  {
   "cell_type": "markdown",
   "metadata": {},
   "source": [
    "## Best Time to Sell Stock\n",
    "\n",
    "You are given an array prices where prices[i] is the price of a given stock on the ith day.\n",
    "\n",
    "You want to maximize your profit by choosing a single day to buy one stock and choosing a different day in the future to sell that stock.\n",
    "\n",
    "Return the maximum profit you can achieve from this transaction. If you cannot achieve any profit, return 0.\n",
    "\n",
    "Input: prices = [7,1,5,3,6,4]\n",
    "\n",
    "Output: 5\n",
    "\n",
    "Explanation: Buy on day 2 (price = 1) and sell on day 5 (price = 6), profit = 6-1 = 5.\n",
    "\n",
    "Note that buying on day 2 and selling on day 1 is not allowed because you must buy before you sell."
   ]
  },
  {
   "cell_type": "code",
   "execution_count": null,
   "metadata": {},
   "outputs": [],
   "source": [
    "class Solution:\n",
    "    def maxProfit(self, prices: List[int]) -> int:\n",
    "        max_profit, min_price = 0, float('inf')\n",
    "        for price in prices:\n",
    "            min_price = min(min_price, price)\n",
    "            profit = price - min_price\n",
    "            max_profit = max(max_profit, profit)\n",
    "        return max_profit"
   ]
  },
  {
   "cell_type": "markdown",
   "metadata": {},
   "source": [
    "## Reshaping the Matrix\n",
    "\n",
    "In MATLAB, there is a handy function called reshape which can reshape an m x n matrix into a new one with a different size r x c keeping its original data.\n",
    "\n",
    "You are given an m x n matrix mat and two integers r and c representing the number of rows and the number of columns of the wanted reshaped matrix.\n",
    "\n",
    "The reshaped matrix should be filled with all the elements of the original matrix in the same row-traversing order as they were.\n",
    "\n",
    "If the reshape operation with given parameters is possible and legal, output the new reshaped matrix; Otherwise, output the original matrix.\n",
    "\n",
    "\n",
    "Input: mat = [[1,2],[3,4]], r = 1, c = 4\n",
    "\n",
    "Output: [[1,2,3,4]]"
   ]
  },
  {
   "cell_type": "code",
   "execution_count": 4,
   "metadata": {},
   "outputs": [],
   "source": [
    "def matrixReshape(self, mat, r, c):\n",
    "        newMat = []\n",
    "        innerArr= []\n",
    "        for arr in mat:\n",
    "            for item in arr:\n",
    "                innerArr.append(item)\n",
    "        if len(innerArr) != r * c:\n",
    "            return mat\n",
    "        else:\n",
    "            for i in range(0, len(innerArr), c):\n",
    "                newMat.append(innerArr[i:i+c])\n",
    "                \n",
    "            return newMat"
   ]
  },
  {
   "cell_type": "markdown",
   "metadata": {},
   "source": [
    "## Binary Search in a matrix\n",
    "\n",
    "Write an efficient algorithm that searches for a value in an m x n matrix. This matrix has the following properties:\n",
    "\n",
    "Integers in each row are sorted from left to right.\n",
    "The first integer of each row is greater than the last integer of the previous row.\n",
    "\n",
    "Input: matrix = [[1,3,5,7],[10,11,16,20],[23,30,34,60]], target = 13\n",
    "\n",
    "\n",
    "Output: false"
   ]
  },
  {
   "cell_type": "code",
   "execution_count": 5,
   "metadata": {},
   "outputs": [],
   "source": [
    "def searchMatrix(self, matrix, target):\n",
    "        if len(matrix) == 0:\n",
    "            return False\n",
    "        rowLen = len(matrix)\n",
    "        colLen = len(matrix[0])\n",
    "        low = 0\n",
    "        high = rowLen * colLen\n",
    "        while low < high:\n",
    "            mid = (low + high) // 2\n",
    "            if matrix[mid // colLen][mid % colLen] == target:\n",
    "                return True\n",
    "            elif matrix[mid // colLen][mid % colLen] < target:\n",
    "                low = mid + 1\n",
    "            else:\n",
    "                high = mid \n",
    "        return False"
   ]
  },
  {
   "cell_type": "markdown",
   "metadata": {},
   "source": [
    "Given an integer numRows, return the first numRows of Pascal's triangle.\n",
    "\n",
    "Input: numRows = 5\n",
    "\n",
    "\n",
    "Output: [[1],[1,1],[1,2,1],[1,3,3,1],[1,4,6,4,1]]"
   ]
  },
  {
   "cell_type": "code",
   "execution_count": 6,
   "metadata": {},
   "outputs": [],
   "source": [
    "def generate(numRows):\n",
    "        result= [[1] * (i+1) for i in range(numRows)]\n",
    "        for row in range(2, numRows):\n",
    "            for col in range(1, row):\n",
    "                result[row][col] = result[row-1][col-1] + result[row-1][col]\n",
    "        return result"
   ]
  },
  {
   "cell_type": "markdown",
   "metadata": {},
   "source": [
    "## First Non-repeating character\n",
    "\n",
    "Given a string s, find the first non-repeating character in it and return its index. If it does not exist, return -1.\n",
    "\n",
    " \n",
    "\n",
    "Example 1:\n",
    "\n",
    "Input: s = \"leetcode\"\n",
    "\n",
    "\n",
    "Output: 0"
   ]
  },
  {
   "cell_type": "code",
   "execution_count": null,
   "metadata": {},
   "outputs": [],
   "source": [
    "def firstUniqChar(s):\n",
    "    charCount = {}\n",
    "    for char in s:\n",
    "        if char in charCount:\n",
    "            continue\n",
    "        elif s.count(char) != 1:\n",
    "            charCount[char] = s.count(char)\n",
    "        elif s.count(char) == 1:\n",
    "            return s.index(char)\n",
    "    return -1\n",
    "\n",
    "#much faster algo"
   ]
  },
  {
   "cell_type": "code",
   "execution_count": 16,
   "metadata": {},
   "outputs": [],
   "source": [
    "def unique(string):\n",
    "    i = 0\n",
    "    j = i+1\n",
    "    while i < len(string)-1:\n",
    "        firstLetter = string(i)\n",
    "        secondLetter = string(j)\n",
    "        if secondLetter != firstLetter:\n",
    "            j += 1\n",
    "        elif secondLetter == firstLetter:\n",
    "            i += 1\n",
    "    return i\n",
    "\n",
    "#runs way way slower"
   ]
  },
  {
   "cell_type": "markdown",
   "metadata": {},
   "source": [
    "## CanConstruct Problem\n",
    "\n",
    "Given two stings ransomNote and magazine, return true if ransomNote can be constructed from magazine and false otherwise.\n",
    "\n",
    "Each letter in magazine can only be used once in ransomNote.\n",
    "\n",
    "\n",
    "Input: ransomNote = \"a\", magazine = \"b\"\n",
    "\n",
    "\n",
    "Output: false"
   ]
  },
  {
   "cell_type": "code",
   "execution_count": 17,
   "metadata": {},
   "outputs": [],
   "source": [
    "def canConstruct(self, ransomNote, magazine):\n",
    "        charCount= {}\n",
    "        for char in magazine:\n",
    "            if char not in charCount:\n",
    "                charCount[char] = 0\n",
    "            charCount[char] += 1\n",
    "        for char in ransomNote:\n",
    "            if char not in charCount or charCount[char] == 0:\n",
    "                return False\n",
    "            charCount[char] -= 1\n",
    "        return True"
   ]
  },
  {
   "cell_type": "markdown",
   "metadata": {},
   "source": [
    "## Valid Anagram\n",
    "\n",
    "Given two strings s and t, return true if t is an anagram of s, and false otherwise.\n",
    "\n",
    " \n",
    "\n",
    "Example 1:\n",
    "\n",
    "Input: s = \"anagram\", t = \"nagaram\"\n",
    "Output: true\n",
    "Example 2:\n",
    "\n",
    "Input: s = \"rat\", t = \"car\"\n",
    "Output: false"
   ]
  },
  {
   "cell_type": "code",
   "execution_count": 18,
   "metadata": {},
   "outputs": [],
   "source": [
    "def validAnagram(s, t):\n",
    "    charCount = {}\n",
    "    if len(s) != len(t):\n",
    "        return False\n",
    "    \n",
    "    charCount = {}\n",
    "    for char in t:\n",
    "        if char not in charCount:\n",
    "            charCount[char] = 0\n",
    "        charCount[char] += 1\n",
    "    for char in s:\n",
    "        if char not in charCount or charCount[char] == 0:\n",
    "            return False\n",
    "        charCount[char] -= 1\n",
    "    return True"
   ]
  },
  {
   "cell_type": "markdown",
   "metadata": {},
   "source": [
    "## Remove Element in a LinkedList\n",
    "\n",
    "Given the head of a linked list and an integer val, remove all the nodes of the linked list that has Node.val == val, and return the new head.\n",
    "\n",
    "]Input: head = [1,2,6,3,4,5,6], val = 6\n",
    "\n",
    "Output: [1,2,3,4,5]"
   ]
  },
  {
   "cell_type": "code",
   "execution_count": null,
   "metadata": {},
   "outputs": [],
   "source": [
    "def removeElements(self, head: Optional[ListNode], val: int) -> Optional[ListNode]:\n",
    "        dummyHead= ListNode(-1)\n",
    "        dummyHead.next = head\n",
    "        curr = dummyHead\n",
    "        while curr.next is not None:\n",
    "            nextNode = curr.next\n",
    "            if nextNode.val == val:\n",
    "                curr.next = nextNode.next\n",
    "            else:\n",
    "                curr = nextNode\n",
    "        return dummyHead.next"
   ]
  },
  {
   "cell_type": "markdown",
   "metadata": {},
   "source": [
    "## LinkedList Cycle\n",
    "\n",
    "Given head, the head of a linked list, determine if the linked list has a cycle in it.\n",
    "\n",
    "There is a cycle in a linked list if there is some node in the list that can be reached again by continuously following the next pointer. Internally, pos is used to denote the index of the node that tail's next pointer is connected to. Note that pos is not passed as a parameter.\n",
    "\n",
    "Return true if there is a cycle in the linked list. Otherwise, return false.\n",
    "\n",
    "For the case of text editor, I can't pass the input example"
   ]
  },
  {
   "cell_type": "code",
   "execution_count": 19,
   "metadata": {},
   "outputs": [
    {
     "ename": "NameError",
     "evalue": "name 'Optional' is not defined",
     "output_type": "error",
     "traceback": [
      "\u001b[1;31m---------------------------------------------------------------------------\u001b[0m",
      "\u001b[1;31mNameError\u001b[0m                                 Traceback (most recent call last)",
      "\u001b[1;32m<ipython-input-19-47f18a519ee9>\u001b[0m in \u001b[0;36m<module>\u001b[1;34m\u001b[0m\n\u001b[1;32m----> 1\u001b[1;33m \u001b[1;32mdef\u001b[0m \u001b[0mhasCycle\u001b[0m\u001b[1;33m(\u001b[0m\u001b[0mself\u001b[0m\u001b[1;33m,\u001b[0m \u001b[0mhead\u001b[0m\u001b[1;33m:\u001b[0m \u001b[0mOptional\u001b[0m\u001b[1;33m[\u001b[0m\u001b[0mListNode\u001b[0m\u001b[1;33m]\u001b[0m\u001b[1;33m)\u001b[0m \u001b[1;33m->\u001b[0m \u001b[0mbool\u001b[0m\u001b[1;33m:\u001b[0m\u001b[1;33m\u001b[0m\u001b[1;33m\u001b[0m\u001b[0m\n\u001b[0m\u001b[0;32m      2\u001b[0m         \u001b[1;32mtry\u001b[0m\u001b[1;33m:\u001b[0m\u001b[1;33m\u001b[0m\u001b[1;33m\u001b[0m\u001b[0m\n\u001b[0;32m      3\u001b[0m \u001b[1;33m\u001b[0m\u001b[0m\n\u001b[0;32m      4\u001b[0m             \u001b[0mslow\u001b[0m \u001b[1;33m=\u001b[0m \u001b[0mhead\u001b[0m\u001b[1;33m\u001b[0m\u001b[1;33m\u001b[0m\u001b[0m\n\u001b[0;32m      5\u001b[0m             \u001b[0mfast\u001b[0m \u001b[1;33m=\u001b[0m \u001b[0mhead\u001b[0m\u001b[1;33m.\u001b[0m\u001b[0mnext\u001b[0m\u001b[1;33m\u001b[0m\u001b[1;33m\u001b[0m\u001b[0m\n",
      "\u001b[1;31mNameError\u001b[0m: name 'Optional' is not defined"
     ]
    }
   ],
   "source": [
    "def hasCycle(self, head: Optional[ListNode]) -> bool:\n",
    "        try:\n",
    "            \n",
    "            slow = head\n",
    "            fast = head.next\n",
    "            while slow != fast:\n",
    "                slow = slow.next\n",
    "                fast = fast.next.next\n",
    "            return True\n",
    "        except:\n",
    "            return False\n",
    "    \n",
    "# the algo used here is hare and tortoise algo. the idea is that the fast pointer travels twice as fast as the slow point\n",
    "# it will reach a point where the fast and slow point collide"
   ]
  },
  {
   "cell_type": "markdown",
   "metadata": {},
   "source": [
    "## Reverse a linkedList\n",
    "\n",
    "Given the head of a singly linked list, reverse the list, and return the reversed list."
   ]
  },
  {
   "cell_type": "code",
   "execution_count": 20,
   "metadata": {},
   "outputs": [],
   "source": [
    "def reverseList(self, head):\n",
    "    prev= None\n",
    "    curr = head\n",
    "    while curr is not None:\n",
    "        nextNode = curr.next\n",
    "        curr.next = prev\n",
    "        prev = curr\n",
    "        curr = nextNode\n",
    "    return prev"
   ]
  },
  {
   "cell_type": "markdown",
   "metadata": {},
   "source": [
    "## Remove Duplicates from a linkedList\n",
    "\n",
    "Given the head of a sorted linked list, delete all duplicates such that each element appears only once. Return the linked list sorted as well.\n",
    "\n",
    "Input: head = [1,1,2]\n",
    "\n",
    "\n",
    "Output: [1,2]"
   ]
  },
  {
   "cell_type": "code",
   "execution_count": 21,
   "metadata": {},
   "outputs": [],
   "source": [
    "def deleteDuplicates(self, head):\n",
    "    curr = head\n",
    "    while curr is not None and curr.next is not None:\n",
    "        if curr.val == curr.next.val:\n",
    "            curr.next = curr.next.next\n",
    "        else:\n",
    "            curr = curr.next\n",
    "    return head"
   ]
  },
  {
   "cell_type": "markdown",
   "metadata": {},
   "source": [
    "## Merge Two Sorted LinkedList\n",
    "\n",
    "Merge two sorted linked lists and return it as a sorted list. The list should be made by splicing together the nodes of the first two lists.\n",
    "\n",
    "Input: l1 = [1,2,4], l2 = [1,3,4]\n",
    "\n",
    "\n",
    "Output: [1,1,2,3,4,4]"
   ]
  },
  {
   "cell_type": "code",
   "execution_count": null,
   "metadata": {},
   "outputs": [],
   "source": [
    "def mergeTwoLists(l1, l2: Optional[ListNode]) -> Optional[ListNode]:\n",
    "        dummy = ListNode()\n",
    "        curr = dummy\n",
    "        while l1 and l2:\n",
    "            if l1.val < l2.val:\n",
    "                curr.next = l1\n",
    "                l1 = l1.next\n",
    "            else:\n",
    "                curr.next = l2\n",
    "                l2 = l2.next\n",
    "            curr = curr.next\n",
    "        if l1:\n",
    "            curr.next = l1\n",
    "        else:\n",
    "            curr.next = l2\n",
    "        return dummy.next"
   ]
  },
  {
   "cell_type": "code",
   "execution_count": null,
   "metadata": {},
   "outputs": [],
   "source": []
  }
 ],
 "metadata": {
  "interpreter": {
   "hash": "cde3ec76907d9d896e943ab917179e131da7cf4b500ea9b151f784767f25e879"
  },
  "kernelspec": {
   "display_name": "Python 3.8.12 64-bit ('Tony_ml': conda)",
   "name": "python3"
  },
  "language_info": {
   "codemirror_mode": {
    "name": "ipython",
    "version": 3
   },
   "file_extension": ".py",
   "mimetype": "text/x-python",
   "name": "python",
   "nbconvert_exporter": "python",
   "pygments_lexer": "ipython3",
   "version": "3.8.12"
  },
  "orig_nbformat": 4
 },
 "nbformat": 4,
 "nbformat_minor": 2
}
