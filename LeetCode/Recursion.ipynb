{
 "cells": [
  {
   "cell_type": "markdown",
   "metadata": {},
   "source": [
    "## Recursion Algorithms\n",
    "\n",
    "These notebooks shows the implementation of different Recursive ALgorithms.\n",
    "\n",
    "It shows the ideas implemented in the book \"Introduction to Recursive Programming\""
   ]
  },
  {
   "cell_type": "markdown",
   "metadata": {},
   "source": [
    "## Linear Search in a list\n",
    "\n",
    "Writing a program that checks if the item is within a list of numbers"
   ]
  },
  {
   "cell_type": "code",
   "execution_count": 1,
   "metadata": {},
   "outputs": [
    {
     "data": {
      "text/plain": [
       "False"
      ]
     },
     "execution_count": 1,
     "metadata": {},
     "output_type": "execute_result"
    }
   ],
   "source": [
    "def linear_search(list_, x):\n",
    "    n = len(list_)\n",
    "    if list_ == []:\n",
    "        return False\n",
    "\n",
    "    elif list_[n-1] == x:\n",
    "        return n-1\n",
    "    return linear_search(list_[:n-1], x)\n",
    "\n",
    "linear_search([2,4,8,9], 0)"
   ]
  },
  {
   "cell_type": "markdown",
   "metadata": {},
   "source": [
    "## Concatenate Character\n",
    "\n",
    "Given a list of Integers and a target int k, return all the numbers in a list which are less than the int k"
   ]
  },
  {
   "cell_type": "code",
   "execution_count": 8,
   "metadata": {},
   "outputs": [
    {
     "data": {
      "text/plain": [
       "[3, 1, 4]"
      ]
     },
     "execution_count": 8,
     "metadata": {},
     "output_type": "execute_result"
    }
   ],
   "source": [
    "def concatanate(list_, target):\n",
    "    if list_ == []:\n",
    "        return []\n",
    "    elif list_[0] < target:\n",
    "       return [list_[0]] + concatanate(list_[1:], target)\n",
    "    else:\n",
    "        return concatanate(list_[1:], target)\n",
    "\n",
    "concatanate([3, 6, 1, 7, 4], 5)"
   ]
  },
  {
   "cell_type": "code",
   "execution_count": null,
   "metadata": {},
   "outputs": [],
   "source": []
  }
 ],
 "metadata": {
  "interpreter": {
   "hash": "d421f7e0be82773f79ff071f6681b3a26ad583fa2b319fe248c43945bdde9151"
  },
  "kernelspec": {
   "display_name": "Python 3.8.5 64-bit (conda)",
   "name": "python3"
  },
  "language_info": {
   "codemirror_mode": {
    "name": "ipython",
    "version": 3
   },
   "file_extension": ".py",
   "mimetype": "text/x-python",
   "name": "python",
   "nbconvert_exporter": "python",
   "pygments_lexer": "ipython3",
   "version": "3.8.5"
  },
  "orig_nbformat": 4
 },
 "nbformat": 4,
 "nbformat_minor": 2
}
