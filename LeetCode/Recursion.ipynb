{
 "cells": [
  {
   "cell_type": "markdown",
   "metadata": {},
   "source": [
    "## Recursion Algorithms\n",
    "\n",
    "These notebooks shows the implementation of different Recursive ALgorithms.\n",
    "\n",
    "It shows the ideas implemented in the book \"Introduction to Recursive Programming\""
   ]
  },
  {
   "cell_type": "markdown",
   "metadata": {},
   "source": [
    "## Linear Search in a list\n",
    "\n",
    "Writing a program that checks if the item is within a list of numbers"
   ]
  },
  {
   "cell_type": "code",
   "execution_count": 1,
   "metadata": {},
   "outputs": [
    {
     "data": {
      "text/plain": [
       "False"
      ]
     },
     "execution_count": 1,
     "metadata": {},
     "output_type": "execute_result"
    }
   ],
   "source": [
    "def linear_search(list_, x):\n",
    "    n = len(list_)\n",
    "    if list_ == []:\n",
    "        return False\n",
    "\n",
    "    elif list_[n-1] == x:\n",
    "        return n-1\n",
    "    return linear_search(list_[:n-1], x)\n",
    "\n",
    "linear_search([2,4,8,9], 0)"
   ]
  },
  {
   "cell_type": "markdown",
   "metadata": {},
   "source": [
    "## Concatenate Character\n",
    "\n",
    "Given a list of Integers and a target int k, return all the numbers in a list which are less than the int k"
   ]
  },
  {
   "cell_type": "code",
   "execution_count": 8,
   "metadata": {},
   "outputs": [
    {
     "data": {
      "text/plain": [
       "[3, 1, 4]"
      ]
     },
     "execution_count": 8,
     "metadata": {},
     "output_type": "execute_result"
    }
   ],
   "source": [
    "def concatanate(list_, target):\n",
    "    if list_ == []:\n",
    "        return []\n",
    "    elif list_[0] < target:\n",
    "       return [list_[0]] + concatanate(list_[1:], target)\n",
    "    else:\n",
    "        return concatanate(list_[1:], target)\n",
    "\n",
    "concatanate([3, 6, 1, 7, 4], 5)"
   ]
  },
  {
   "cell_type": "markdown",
   "metadata": {},
   "source": [
    "## Euclid Algorithm for finding the greatest common divisor\n",
    "\n",
    "Its purpose is  finding the greatest common divisor (gcd) of two nonnegative integers m  and n (where both cannot be zero), which is the largest positive integer\n",
    "k that divides both m and n without a remainder (i.e., m~k and n~k are\n",
    "integers). For example, the greatest common divisor of 20 and 24 is 4.\n",
    "It can also be understood as the product of the common prime factors\n",
    "of m and n. For m = 20 = 2 ⋅ 2 ⋅ 5, and n = 24 = 2 ⋅ 2 ⋅ 2 ⋅ 3, the product of\n",
    "common factors is 2 ⋅ 2 = 4."
   ]
  },
  {
   "cell_type": "code",
   "execution_count": 10,
   "metadata": {},
   "outputs": [
    {
     "data": {
      "text/plain": [
       "4"
      ]
     },
     "execution_count": 10,
     "metadata": {},
     "output_type": "execute_result"
    }
   ],
   "source": [
    "def gcd(m,n):\n",
    "    if m == 0:\n",
    "        return n\n",
    "    elif m > n:\n",
    "        return gcd(n,m)\n",
    "    else:\n",
    "        return gcd(m, n-m)\n",
    "\n",
    "\n",
    "gcd(20,24)"
   ]
  },
  {
   "cell_type": "markdown",
   "metadata": {},
   "source": [
    "gcd1(20, 24)\n",
    "\n",
    "\n",
    "= gcd1(20, 4)\n",
    "\n",
    "\n",
    "= gcd1(4, 20)\n",
    "\n",
    "\n",
    "= gcd1(4, 16)\n",
    "\n",
    "\n",
    "= gcd1(4, 12)\n",
    "\n",
    "\n",
    "= gcd1(4, 8)\n",
    "\n",
    "\n",
    "= gcd1(4, 4)\n",
    "\n",
    "\n",
    "= gcd1(4, 0)\n",
    "\n",
    "\n",
    "= gcd1(0, 4) = 4."
   ]
  },
  {
   "cell_type": "markdown",
   "metadata": {},
   "source": [
    "# checking if a list is sorted"
   ]
  },
  {
   "cell_type": "code",
   "execution_count": 13,
   "metadata": {},
   "outputs": [],
   "source": [
    "def is_sorted(a):\n",
    "    n= len(a)\n",
    "    if len(a) < 2:\n",
    "        return True\n",
    "    \n",
    "    return (is_sorted(a[0:n//2]) and a[n//2 -1] < a[n//2] and is_sorted(a[n//2:n]))\n",
    "    "
   ]
  },
  {
   "cell_type": "code",
   "execution_count": 14,
   "metadata": {},
   "outputs": [
    {
     "data": {
      "text/plain": [
       "False"
      ]
     },
     "execution_count": 14,
     "metadata": {},
     "output_type": "execute_result"
    }
   ],
   "source": [
    "is_sorted([4, 1, 5, 8, 6])"
   ]
  },
  {
   "cell_type": "markdown",
   "metadata": {},
   "source": [
    "## Merge Sort Algortihm\n",
    "\n",
    "The idea of merge is that given an input list, divide it in half and sort each of them seperately then merge them together\n",
    "\n",
    "It runs at O(nlog(n)) Time and O(n)  Space"
   ]
  },
  {
   "cell_type": "code",
   "execution_count": 26,
   "metadata": {},
   "outputs": [],
   "source": [
    "def merge_sort(array):\n",
    "    n = len(array)\n",
    "    if n < 2:\n",
    "        return array\n",
    "    array1 = merge_sort(array[0:n//2])\n",
    "    array2 = merge_sort(array[n//2: n])\n",
    "    return merge(array1, array2)\n",
    "\n",
    "def merge(array1, array2):\n",
    "    if array1 == []:\n",
    "        return array2\n",
    "    elif array2 == []:\n",
    "        return array1\n",
    "    \n",
    "    if array1[0] < array2[0]:\n",
    "        return [array1[0]] + merge(array1[1:], array2)\n",
    "    else:\n",
    "        return [array2[0]] + merge(array1, array2[1:])"
   ]
  },
  {
   "cell_type": "code",
   "execution_count": 27,
   "metadata": {},
   "outputs": [
    {
     "data": {
      "text/plain": [
       "[1, 4, 5, 6, 8]"
      ]
     },
     "execution_count": 27,
     "metadata": {},
     "output_type": "execute_result"
    }
   ],
   "source": [
    "merge_sort([4, 1, 5, 8, 6])"
   ]
  },
  {
   "cell_type": "markdown",
   "metadata": {},
   "source": [
    "## Quick Sort ALgorithm\n",
    "\n",
    "Notes:\n",
    "\n",
    "1. Find the pivot \n",
    "\n",
    "2. Get the elements less than a pivot using a partitioning scheme\n",
    "\n",
    "\n",
    "3. Remove the pivot from the list\n",
    "\n",
    "\n",
    "4. Get the elements greater than the pivot using the same method as above\n",
    "\n",
    "\n",
    "5. Then concatanate quicksort(array1) + [pivot] + quicksort[array2]\n",
    "\n"
   ]
  },
  {
   "cell_type": "code",
   "execution_count": 49,
   "metadata": {},
   "outputs": [],
   "source": [
    "def quickSort(array):\n",
    "    n = len(array)\n",
    "    if n <= 1:\n",
    "        return array\n",
    "    else:\n",
    "        pivot = array[n//2]\n",
    "        array1 = get_smaller_than_or_equal_to(array, pivot)\n",
    "        array1.remove(pivot)\n",
    "        array2 = get_greater_than(array, pivot)\n",
    "        return (quickSort(array1) + [pivot] + quickSort(array2))\n",
    "\n",
    "def get_smaller_than_or_equal_to(array, k):\n",
    "    if array == []:\n",
    "        return []\n",
    "    elif array[0] <= k:\n",
    "        return [array[0]] + get_smaller_than_or_equal_to(array[1:], k)\n",
    "    else:\n",
    "        return get_smaller_than_or_equal_to(array[1:], k)\n",
    "\n",
    "def get_greater_than(array, k):\n",
    "    if array == []:\n",
    "        return []\n",
    "    elif array[0] > k:\n",
    "        return [array[0]] + get_greater_than(array[1:], k)\n",
    "    else:\n",
    "        return get_greater_than(array[1:], k)"
   ]
  },
  {
   "cell_type": "code",
   "execution_count": 50,
   "metadata": {},
   "outputs": [
    {
     "data": {
      "text/plain": [
       "[1, 3, 4, 4, 5, 6, 6, 7, 7]"
      ]
     },
     "execution_count": 50,
     "metadata": {},
     "output_type": "execute_result"
    }
   ],
   "source": [
    "quickSort([6, 4, 1, 7, 4, 7, 3, 6, 5])"
   ]
  },
  {
   "cell_type": "markdown",
   "metadata": {},
   "source": [
    "## Hoare Partioning method\n",
    "\n",
    "This method is used in quick select algorithm, the main idea is to divide an array using a pivot where all the elements on the left are less than the pivot and all the elements on the right are greater than the pivot\n",
    "\n",
    "\n",
    "1. Chose a pivot --> mainly it is the middle of the sublist\n",
    "\n",
    "2. swaps it with the first element of the sublist\n",
    "\n",
    "3. It sets a left inx parameter at the second position of the subist & the right inx at the last location of the sublist\n",
    "\n",
    "4. It increases the left inx until it references an element that is larger than the pivot. In other words It decreases the right inx until it references an element that is less than or equal to the pivot.\n",
    "\n",
    "5. It then swaps the element references by the left and right inx\n",
    "\n",
    "6. The process is repeated until the indices cross. i.e until the left inx > right one\n",
    "\n",
    "\n",
    "\n",
    "### The Second Fn\n",
    "\n",
    "1. It choses the pivot, ussually the middle element\n",
    "\n",
    "2. Swaps it with the first element of the list\n",
    "\n",
    "\n",
    "3. Sets the left inx as the second position of the list\n",
    "\n",
    "\n",
    "4. Sets the right inx as the last loation of the list\n",
    "\n",
    "\n",
    "#### The algo returns the position where the pivot should be placed\n",
    "\n",
    "\n",
    "The Algorithms runs at O(n)"
   ]
  },
  {
   "cell_type": "code",
   "execution_count": 52,
   "metadata": {},
   "outputs": [],
   "source": [
    "def partition_hoare_rec(a, left, right, pivot):\n",
    "    if left > right:\n",
    "        return right\n",
    "    \n",
    "    else:\n",
    "        if a[left] > pivot and a[right] <= pivot:\n",
    "            temp = a[left]\n",
    "            a[left] = a[right]\n",
    "            a[right] = temp\n",
    "            return partition_hoare_rec(a, left + 1, right - 1, pivot)\n",
    "        \n",
    "        else:\n",
    "            if a[left] <= pivot:\n",
    "                left = left + 1\n",
    "            if a[right] > pivot:\n",
    "                right = right -1\n",
    "            return partition_hoare_rec(a, left, right, pivot)\n",
    "\n",
    "def partition_hoare_wrapper(a, lower, upper):\n",
    "    if upper >= 0:\n",
    "        middle = (lower + upper) // 2\n",
    "        pivot = a[middle]\n",
    "        a[middle] = a[lower]\n",
    "        a[lower] = pivot\n",
    "\n",
    "        right = partition_hoare_rec(a, lower + 1, upper, pivot)\n",
    "\n",
    "        a[lower] = a[right]\n",
    "        a[right] = pivot\n",
    "\n",
    "        return right"
   ]
  },
  {
   "cell_type": "code",
   "execution_count": 57,
   "metadata": {},
   "outputs": [
    {
     "data": {
      "text/plain": [
       "3"
      ]
     },
     "execution_count": 57,
     "metadata": {},
     "output_type": "execute_result"
    }
   ],
   "source": [
    "array = [6, 4, 1, 7, 4, 7, 3, 6, 5]\n",
    "upper = len(array)-1\n",
    "\n",
    "partition_hoare_wrapper(array, 0, upper)"
   ]
  },
  {
   "cell_type": "markdown",
   "metadata": {},
   "source": [
    "## The QuickSelect Algorithm\n",
    "\n",
    "\n",
    "This Algorithm fins the k-th smallest number (also called the k-th order statistics) in a list that is not sorted"
   ]
  },
  {
   "cell_type": "code",
   "execution_count": 74,
   "metadata": {},
   "outputs": [],
   "source": [
    "def quickSelect(array, k):\n",
    "    position = k-1\n",
    "    endInx = len(array) -1\n",
    "    return quickSelectHelper(array, 0, endInx, position)\n",
    "\n",
    "def quickSelectHelper(array, startInx, endInx, position):\n",
    "    while True:\n",
    "        pivot = startInx\n",
    "        left = startInx + 1\n",
    "        right = endInx\n",
    "\n",
    "        while left <= right:\n",
    "            if array[left] > array[pivot] and array[right] <=  array[pivot]:\n",
    "                swap(left, right, array)\n",
    "\n",
    "            if array[left] < array[pivot]:\n",
    "                left += 1\n",
    "            if array[right] >= array[pivot]:\n",
    "                right -= 1\n",
    "        \n",
    "        swap(right, pivot, array)\n",
    "        if right == position:\n",
    "            return array[right]\n",
    "        elif right < position:\n",
    "            startInx = right + 1\n",
    "        else:\n",
    "            endInx = right - 1\n",
    "\n",
    "\n",
    "def swap(one, two, array):\n",
    "    array[one], array[two] = array[two], array[one]"
   ]
  },
  {
   "cell_type": "code",
   "execution_count": 75,
   "metadata": {},
   "outputs": [
    {
     "data": {
      "text/plain": [
       "5"
      ]
     },
     "execution_count": 75,
     "metadata": {},
     "output_type": "execute_result"
    }
   ],
   "source": [
    "array = [8, 5, 2, 9, 7, 6, 3]\n",
    "quickSelect(array, 3)\n"
   ]
  },
  {
   "cell_type": "code",
   "execution_count": 67,
   "metadata": {},
   "outputs": [
    {
     "name": "stdout",
     "output_type": "stream",
     "text": [
      "None\n"
     ]
    }
   ],
   "source": [
    "print(array.sort())"
   ]
  },
  {
   "cell_type": "code",
   "execution_count": null,
   "metadata": {},
   "outputs": [],
   "source": []
  }
 ],
 "metadata": {
  "interpreter": {
   "hash": "d421f7e0be82773f79ff071f6681b3a26ad583fa2b319fe248c43945bdde9151"
  },
  "kernelspec": {
   "display_name": "Python 3.8.5 64-bit ('Hp': virtualenv)",
   "name": "python3"
  },
  "language_info": {
   "codemirror_mode": {
    "name": "ipython",
    "version": 3
   },
   "file_extension": ".py",
   "mimetype": "text/x-python",
   "name": "python",
   "nbconvert_exporter": "python",
   "pygments_lexer": "ipython3",
   "version": "3.8.5"
  },
  "orig_nbformat": 4
 },
 "nbformat": 4,
 "nbformat_minor": 2
}
