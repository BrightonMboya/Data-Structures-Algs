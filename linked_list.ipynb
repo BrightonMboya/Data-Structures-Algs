{
 "metadata": {
  "language_info": {
   "codemirror_mode": {
    "name": "ipython",
    "version": 3
   },
   "file_extension": ".py",
   "mimetype": "text/x-python",
   "name": "python",
   "nbconvert_exporter": "python",
   "pygments_lexer": "ipython3",
   "version": "3.8.5"
  },
  "orig_nbformat": 4,
  "kernelspec": {
   "name": "python3",
   "display_name": "Python 3.8.5 64-bit ('base': conda)"
  },
  "interpreter": {
   "hash": "d421f7e0be82773f79ff071f6681b3a26ad583fa2b319fe248c43945bdde9151"
  }
 },
 "nbformat": 4,
 "nbformat_minor": 2,
 "cells": [
  {
   "source": [
    "These are notes of Data Structures and Algs Implemented first by Python.\n",
    "\n",
    "1. Linked List\n",
    "\n",
    "In a nutshell, normal python or arrays have one entry filled with the data in them e.g \n",
    "\n",
    "array = ['hello', 'john', 'mary']\n",
    "\n",
    "But for linked list, it is connection of one node after another, until the end there's a null value.\n",
    "\n",
    "['hello'] → ['john'] → ['mary'] → null.\n",
    "\n",
    "Basic operations of linked list:\n",
    "\n",
    "1. Creating a list\n",
    "2. Inserting an element in a list\n",
    "3. Deleting an element from a list\n",
    "4. Searching a list\n",
    "5. Reversing a list"
   ],
   "cell_type": "markdown",
   "metadata": {}
  },
  {
   "cell_type": "code",
   "execution_count": 88,
   "metadata": {},
   "outputs": [],
   "source": [
    "#creating a linked list\n",
    "class Node:\n",
    "    def __init__(self, data= None):\n",
    "        self.data= data\n",
    "        self.next = None\n",
    "\n",
    "class linked_l:\n",
    "    def __init__(self):\n",
    "        self.head = None\n",
    "\n",
    "    "
   ]
  },
  {
   "cell_type": "code",
   "execution_count": 89,
   "metadata": {},
   "outputs": [
    {
     "output_type": "stream",
     "name": "stdout",
     "text": [
      "Brighton\n"
     ]
    }
   ],
   "source": [
    "#lets try to add some data to the node\n",
    "students = linked_l()\n",
    "students.head = Node('Brighton')\n",
    "print(students.head.data)"
   ]
  },
  {
   "cell_type": "code",
   "execution_count": 90,
   "metadata": {},
   "outputs": [
    {
     "output_type": "stream",
     "name": "stdout",
     "text": [
      "Barrie\n"
     ]
    }
   ],
   "source": [
    "#let's increase the linkedlist\n",
    "student_2 = Node('Barrie')\n",
    "students.head.next = student_2\n",
    "print(students.head.next.data)"
   ]
  },
  {
   "source": [
    "So right now we have a linked list with two nodes in it"
   ],
   "cell_type": "markdown",
   "metadata": {}
  },
  {
   "cell_type": "code",
   "execution_count": 91,
   "metadata": {},
   "outputs": [
    {
     "output_type": "stream",
     "name": "stdout",
     "text": [
      "Brighton\n"
     ]
    }
   ],
   "source": [
    "# Inserting a node at the beginning of the list\n",
    "student_2.next = students.head\n",
    "students.head.next = student_2\n",
    "print(students.head.data)"
   ]
  },
  {
   "cell_type": "code",
   "execution_count": 92,
   "metadata": {},
   "outputs": [
    {
     "output_type": "stream",
     "name": "stdout",
     "text": [
      "Barrie\n"
     ]
    }
   ],
   "source": [
    "print(students.head.next.data)"
   ]
  },
  {
   "cell_type": "code",
   "execution_count": 93,
   "metadata": {},
   "outputs": [
    {
     "output_type": "stream",
     "name": "stdout",
     "text": [
      "Asha\nNone\n"
     ]
    }
   ],
   "source": [
    "# let's add another node at the end\n",
    "student_3 = Node('Asha')\n",
    "student_2.next= student_3\n",
    "\n",
    "#check if it's added\n",
    "print(students.head.next.next.data)\n",
    "print(students.head.next.next.next)"
   ]
  },
  {
   "cell_type": "code",
   "execution_count": 94,
   "metadata": {},
   "outputs": [],
   "source": [
    "# inserting a node after an element, let's say insert a node after student_2\n",
    "student_20 = Node('Diane')\n",
    "student_2.next = student_20\n",
    "student_20.next = student_3"
   ]
  },
  {
   "cell_type": "code",
   "execution_count": 95,
   "metadata": {},
   "outputs": [
    {
     "output_type": "stream",
     "name": "stdout",
     "text": [
      "Brighton\nBarrie\nDiane\nAsha\nNone\n"
     ]
    }
   ],
   "source": [
    "# let's see if the order works\n",
    "print(students.head.data)\n",
    "print(students.head.next.data)\n",
    "print(students.head.next.next.data)\n",
    "print(students.head.next.next.next.data)\n",
    "print(students.head.next.next.next.next)"
   ]
  },
  {
   "source": [
    "## Deleting a Node in SLL\n",
    "Here there is also three cases\n",
    "* Deleting the first Node\n",
    "* Deleting the last Node\n",
    "* Deleting the Intermediate Node"
   ],
   "cell_type": "markdown",
   "metadata": {}
  },
  {
   "source": [
    "## Deleting the first Node\n",
    "Here we need to do two steps\n",
    "* Make the pointer of the head point towards the second Node\n",
    "* Delete the second node using the del keyword"
   ],
   "cell_type": "markdown",
   "metadata": {}
  },
  {
   "cell_type": "code",
   "execution_count": 96,
   "metadata": {},
   "outputs": [],
   "source": [
    "students.head.next=  student_2\n",
    "del students.head"
   ]
  },
  {
   "cell_type": "code",
   "execution_count": 97,
   "metadata": {},
   "outputs": [
    {
     "output_type": "stream",
     "name": "stdout",
     "text": [
      "Barrie\nDiane\nAsha\nNone\n"
     ]
    }
   ],
   "source": [
    "# let's check the order again, Brighton should be deleted\n",
    "print(student_2.data)\n",
    "print(student_2.next.data)\n",
    "print(student_2.next.next.data)\n",
    "print(student_2.next.next.next)\n"
   ]
  },
  {
   "source": [
    "## Deleting the Last node\n",
    "Here we implement\n",
    "* Making the second last node point towards None\n",
    "* Deleting the last node by using the del keyword"
   ],
   "cell_type": "markdown",
   "metadata": {}
  },
  {
   "cell_type": "code",
   "execution_count": 98,
   "metadata": {},
   "outputs": [],
   "source": [
    "# the second last node is student_20\n",
    "student_20.next = None\n",
    "del student_3"
   ]
  },
  {
   "cell_type": "code",
   "execution_count": 99,
   "metadata": {},
   "outputs": [
    {
     "output_type": "stream",
     "name": "stdout",
     "text": [
      "Barrie\nDiane\nNone\n"
     ]
    }
   ],
   "source": [
    "#check the order again\n",
    "print(student_2.data)\n",
    "print(student_2.next.data)\n",
    "print(student_2.next.next)"
   ]
  },
  {
   "source": [
    "## Deleting a particular node\n",
    "Here we make the pointer of the node before the node to be deleted point towards successor of the node to be deleted. And then use the del keyword to delete the node"
   ],
   "cell_type": "markdown",
   "metadata": {}
  },
  {
   "cell_type": "code",
   "execution_count": 100,
   "metadata": {},
   "outputs": [],
   "source": [
    "#let's add another node so that we have three nodes\n",
    "student_4 = Node('Marion')\n",
    "student_20.next= student_4"
   ]
  },
  {
   "cell_type": "code",
   "execution_count": 101,
   "metadata": {},
   "outputs": [],
   "source": [
    "# here we have three nodes, let's delete the second node\n",
    "student_2.next = student_4\n",
    "del student_20"
   ]
  },
  {
   "cell_type": "code",
   "execution_count": 102,
   "metadata": {},
   "outputs": [],
   "source": [
    "# let's add another node so that we have three nodes\n",
    "student_5= Node('Abdul')\n",
    "student_4.next= student_5"
   ]
  },
  {
   "cell_type": "code",
   "execution_count": 103,
   "metadata": {},
   "outputs": [
    {
     "output_type": "stream",
     "name": "stdout",
     "text": [
      "Barrie\nMarion\nAbdul\nNone\n"
     ]
    }
   ],
   "source": [
    "#let's check the order\n",
    "print(student_2.data)\n",
    "print(student_2.next.data)\n",
    "print(student_2.next.next.data)\n",
    "print(student_2.next.next.next)"
   ]
  },
  {
   "source": [
    "## Searching a SLL\n",
    "* Searching involves finding the required element in the list\n",
    "* we can use various techniques of searching like linear search or binary search is more efficient in case of Arrays\n",
    "* But in case of linked list since random access is not available it would become complex to do binary search in it\n",
    "* We can perform simple linear search traversal"
   ],
   "cell_type": "markdown",
   "metadata": {}
  },
  {
   "cell_type": "code",
   "execution_count": 104,
   "metadata": {},
   "outputs": [],
   "source": [
    "def find_item(head: None, value):\n",
    "    \"\"\"Return true if the value is on linkedlist otherwise false\"\"\"\n",
    "    current_node = head\n",
    "    while current_node is not None:\n",
    "        if current_node.data == value:\n",
    "            return True\n",
    "        current_node= current_node.next\n",
    "    return False"
   ]
  },
  {
   "cell_type": "code",
   "execution_count": 105,
   "metadata": {},
   "outputs": [
    {
     "output_type": "execute_result",
     "data": {
      "text/plain": [
       "False"
      ]
     },
     "metadata": {},
     "execution_count": 105
    }
   ],
   "source": [
    "# let's see if the fn works\n",
    "find_item(head= student_2, value= 'Asha')"
   ]
  },
  {
   "cell_type": "code",
   "execution_count": 106,
   "metadata": {},
   "outputs": [
    {
     "output_type": "execute_result",
     "data": {
      "text/plain": [
       "True"
      ]
     },
     "metadata": {},
     "execution_count": 106
    }
   ],
   "source": [
    "# what if we pass a value which is there\n",
    "find_item(head= student_2, value= 'Barrie')"
   ]
  },
  {
   "source": [
    "## Reversing a Linked List\n",
    "We can reverse a linked list by reversing the direction of the links btn 2 nodes"
   ],
   "cell_type": "markdown",
   "metadata": {}
  },
  {
   "source": [
    "This is the logic behind reversing a linked list, --don't overthink it\n",
    "<br>\n",
    "`Typical example of a normal linked list`\n",
    "<br>\n",
    "a -> b -> c -> d -> None\n",
    "<br>\n",
    "`A reversed linked list`\n",
    "None <- a <- b <- c <- d"
   ],
   "cell_type": "markdown",
   "metadata": {}
  },
  {
   "cell_type": "code",
   "execution_count": 107,
   "metadata": {},
   "outputs": [],
   "source": [
    "# To do that keep track of three nodes the current, next_node, and previous.\n",
    "\n",
    "def reverse_list(head):\n",
    "    previous_node= None\n",
    "    current_node= head\n",
    "    next_node = current_node.next\n",
    "    #basically that's what a normal linked list behaves\n",
    "    # now let's loop the linked list\n",
    "    while True:\n",
    "        current_node.next = previous_node\n",
    "        previous_node = current_node\n",
    "        current_node = next_node\n",
    "        #now if the next_node is not the last node, let's move it one step ahead\n",
    "        if next_node:\n",
    "            next_node= next_node.next\n",
    "    # and finally let's make the head of the list the 'tail' or the previus node\n",
    "    head = previous_node"
   ]
  },
  {
   "cell_type": "code",
   "execution_count": 127,
   "metadata": {},
   "outputs": [],
   "source": [
    "# let's create another linked list\n",
    "list2= linked_l()\n",
    "list2.head= Node('Asha')\n",
    "s2= Node('Juma')\n",
    "list2.head.next= s2"
   ]
  },
  {
   "cell_type": "code",
   "execution_count": 132,
   "metadata": {},
   "outputs": [
    {
     "output_type": "stream",
     "name": "stdout",
     "text": [
      "Asha\nJuma\nNone\n"
     ]
    }
   ],
   "source": [
    "#check the order of the list\n",
    "print(list2.head.data)\n",
    "print(list2.head.next.data)\n",
    "print(list2.head.next.next)"
   ]
  },
  {
   "cell_type": "code",
   "execution_count": 133,
   "metadata": {},
   "outputs": [
    {
     "output_type": "error",
     "ename": "AttributeError",
     "evalue": "'NoneType' object has no attribute 'next'",
     "traceback": [
      "\u001b[1;31m---------------------------------------------------------------------------\u001b[0m",
      "\u001b[1;31mAttributeError\u001b[0m                            Traceback (most recent call last)",
      "\u001b[1;32m<ipython-input-133-83a2b5ff1320>\u001b[0m in \u001b[0;36m<module>\u001b[1;34m\u001b[0m\n\u001b[0;32m      1\u001b[0m \u001b[1;31m# let's use our function to reverse the list\u001b[0m\u001b[1;33m\u001b[0m\u001b[1;33m\u001b[0m\u001b[1;33m\u001b[0m\u001b[0m\n\u001b[1;32m----> 2\u001b[1;33m \u001b[0mreverse_list\u001b[0m\u001b[1;33m(\u001b[0m\u001b[0mhead\u001b[0m\u001b[1;33m=\u001b[0m \u001b[0mlist2\u001b[0m\u001b[1;33m.\u001b[0m\u001b[0mhead\u001b[0m\u001b[1;33m)\u001b[0m\u001b[1;33m\u001b[0m\u001b[1;33m\u001b[0m\u001b[0m\n\u001b[0m",
      "\u001b[1;32m<ipython-input-107-bb323c373661>\u001b[0m in \u001b[0;36mreverse_list\u001b[1;34m(head)\u001b[0m\n\u001b[0;32m      8\u001b[0m     \u001b[1;31m# now let's loop the linked list\u001b[0m\u001b[1;33m\u001b[0m\u001b[1;33m\u001b[0m\u001b[1;33m\u001b[0m\u001b[0m\n\u001b[0;32m      9\u001b[0m     \u001b[1;32mwhile\u001b[0m \u001b[1;32mTrue\u001b[0m\u001b[1;33m:\u001b[0m\u001b[1;33m\u001b[0m\u001b[1;33m\u001b[0m\u001b[0m\n\u001b[1;32m---> 10\u001b[1;33m         \u001b[0mcurrent_node\u001b[0m\u001b[1;33m.\u001b[0m\u001b[0mnext\u001b[0m \u001b[1;33m=\u001b[0m \u001b[0mprevious_node\u001b[0m\u001b[1;33m\u001b[0m\u001b[1;33m\u001b[0m\u001b[0m\n\u001b[0m\u001b[0;32m     11\u001b[0m         \u001b[0mprevious_node\u001b[0m \u001b[1;33m=\u001b[0m \u001b[0mcurrent_node\u001b[0m\u001b[1;33m\u001b[0m\u001b[1;33m\u001b[0m\u001b[0m\n\u001b[0;32m     12\u001b[0m         \u001b[0mcurrent_node\u001b[0m \u001b[1;33m=\u001b[0m \u001b[0mnext_node\u001b[0m\u001b[1;33m\u001b[0m\u001b[1;33m\u001b[0m\u001b[0m\n",
      "\u001b[1;31mAttributeError\u001b[0m: 'NoneType' object has no attribute 'next'"
     ]
    }
   ],
   "source": [
    "# let's use our function to reverse the list\n",
    "reverse_list(head= list2.head)"
   ]
  },
  {
   "source": [
    "## Error in above program\n",
    "The program doesn't seem to work"
   ],
   "cell_type": "markdown",
   "metadata": {}
  },
  {
   "source": [
    "## Double Linked List\n",
    "**Double linked list** is a linked data structure that consists of sequentially linked records called nodes\n",
    "<br>\n",
    " Each node contains three fields::\n",
    " * One is data part which contains data only\n",
    " * two other field is links part that are point or references to the previous or to the next node in the sequence if nodes\n",
    " <br>\n",
    " The beginning and ending nodes' **previous** and **next** links, respectively, point to some kind of terminator, typically a sentinel node or null to facilitate traversal of the list"
   ],
   "cell_type": "markdown",
   "metadata": {}
  },
  {
   "cell_type": "code",
   "execution_count": 141,
   "metadata": {},
   "outputs": [],
   "source": [
    "# creating the DLL\n",
    "class Node2:\n",
    "    def __init__(self, data):\n",
    "        self.data= data\n",
    "        self.next_node= None\n",
    "        self.prev_node= None\n",
    "\n",
    "class doublel_list:\n",
    "    def __init__(self):\n",
    "        self.head= None"
   ]
  },
  {
   "source": [
    "## Inserting element in an empty DLL"
   ],
   "cell_type": "markdown",
   "metadata": {}
  },
  {
   "cell_type": "code",
   "execution_count": 142,
   "metadata": {},
   "outputs": [
    {
     "output_type": "stream",
     "name": "stdout",
     "text": [
      "Apple\nNone\n"
     ]
    }
   ],
   "source": [
    "# we will follow the same logic on SLL\n",
    "companies= doublel_list()\n",
    "companies.head= Node2(data= 'Apple')\n",
    "companies.head.next_node= None\n",
    "companies.head.prev_node= None\n",
    "print(companies.head.data)\n",
    "print(companies.head.next_node)"
   ]
  },
  {
   "cell_type": "code",
   "execution_count": 144,
   "metadata": {},
   "outputs": [
    {
     "output_type": "stream",
     "name": "stdout",
     "text": [
      "Google\nApple\n"
     ]
    }
   ],
   "source": [
    "# add more than one Node\n",
    "company_2= Node2(data= 'Google')\n",
    "companies.head.next_node= company_2\n",
    "company_2.prev_node= companies.head\n",
    "print(companies.head.next_node.data)\n",
    "print(companies.head.next_node.prev_node.data)"
   ]
  },
  {
   "cell_type": "code",
   "execution_count": null,
   "metadata": {},
   "outputs": [],
   "source": []
  }
 ]
}