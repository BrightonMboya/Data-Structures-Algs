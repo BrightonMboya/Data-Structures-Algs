{
 "metadata": {
  "language_info": {
   "codemirror_mode": {
    "name": "ipython",
    "version": 3
   },
   "file_extension": ".py",
   "mimetype": "text/x-python",
   "name": "python",
   "nbconvert_exporter": "python",
   "pygments_lexer": "ipython3",
   "version": "3.8.5"
  },
  "orig_nbformat": 4,
  "kernelspec": {
   "name": "python3",
   "display_name": "Python 3.8.5 64-bit ('base': conda)"
  },
  "interpreter": {
   "hash": "d421f7e0be82773f79ff071f6681b3a26ad583fa2b319fe248c43945bdde9151"
  }
 },
 "nbformat": 4,
 "nbformat_minor": 2,
 "cells": [
  {
   "source": [
    "## Hash maps\n",
    "You can think of a hash-maps as Dictionaries in python. A key-value data structure in which a data is stored with a unique attribute 'key'. You pass a data to a key (can either be a string, or number) and the data is processed using a Hash-Function and then stored in memory. \n",
    "<br>\n",
    "(visulize in mind a hash-map as a cabinet with many drawers and each drawer has a label in it). Now this is how the hashing function works in a nutshell. You pass the data as value (say: the name of the person) using a key(say age), the hash function will process the key to know in which drawer in the cabinet is going to store the data. The hash function uses the modulus of the key and the size of the cabinet to accomplish this.\n",
    "<br>\n",
    "Now collusion can occur in which two keys can have the same hash value. To solve this, we can use linked list in which the head of the link is going to be the first data and we can link it with other 'colluded' data in the same drawer."
   ],
   "cell_type": "markdown",
   "metadata": {}
  },
  {
   "source": [
    "## The difference btn list/ array and hash maps\n",
    "* so in getting an item from a list, you just pass the index of that item \n",
    "say we have a list\n",
    "students= ['Amina', 'Asha']\n",
    "you can access Asha by passing its index students[1]\n",
    "\n",
    "* But when it comes to hash maps, instead of passing an index, you pass the key to the item\n",
    "say we have a hash maps\n",
    "students= {23: 'id'}\n",
    "Accessing 'id' you will pass students[key/key_hash]\n",
    "\n",
    "So in this case it will be students[23]"
   ],
   "cell_type": "markdown",
   "metadata": {}
  },
  {
   "source": [
    "The hash map design will include the following functions:\n",
    "\n",
    "set_val(key, value): Inserts a key-value pair into the hash map. If the value already exists in the hash map, update the value.\n",
    "<br>\n",
    "get_val(key): Returns the value to which the specified key is mapped, or “No record found” if this map contains no mapping for the key.\n",
    "<br>\n",
    "delete_val(key): Removes the mapping for the specific key if the hash map contains the mapping for the key."
   ],
   "cell_type": "markdown",
   "metadata": {}
  },
  {
   "cell_type": "code",
   "execution_count": 41,
   "metadata": {},
   "outputs": [],
   "source": [
    "# creating the hash maps\n",
    "class Hashmap:\n",
    "    def __init__(self, size):\n",
    "        \"\"\"Creates a hash_map of size 64, and an array to store the data,\n",
    "        I just call it the cabinet so that it goes the same with our above analogy\"\"\"\n",
    "        self.size= size\n",
    "        self.cabinet=  [None] * self.size\n",
    "\n",
    "\n",
    "    def get_hash(self, key):\n",
    "        \"\"\"converts the key to find it's corresponding ASCII values and return the \n",
    "        modulus of the key and the size\"\"\"\n",
    "        hash= 0\n",
    "        for char in str(key):\n",
    "            hash += ord(char)\n",
    "        return hash % self.size\n",
    "\n",
    "\n",
    "    def add_value(self, key, value):\n",
    "        \"\"\"this functions add a value to the hash map\"\"\"\n",
    "        key_hash=  self.get_hash(key)\n",
    "        key_value= [key, value]\n",
    "        #now check the drawer in the cabinet by providing a hash_value, if it's empty;\n",
    "        #then add the key_value list in it\n",
    "\n",
    "        if self.cabinet[key_hash] is None:\n",
    "            self.cabinet[key_hash] = list([key_value])\n",
    "            return True\n",
    "        else:\n",
    "            # first check if the key exist, and if it doesn't then append to the list\n",
    "            for pair in self.cabinet[key_hash]:\n",
    "                if pair[0] == key:\n",
    "                    pair[1] = value\n",
    "                    return True\n",
    "            self.cabinet[key_hash].append(key_value)\n",
    "            return True\n",
    "    \n",
    "    def get_value(self, key):\n",
    "        key_hash= self.get_hash(key)\n",
    "        if self.cabinet[key_hash] is not None:\n",
    "                for pair in self.cabinet[key_hash]:\n",
    "                    if pair[0] == key:\n",
    "                        return pair[1]\n",
    "            return None\n",
    "\n",
    "    def delete(self, key):\n",
    "        key_hash = self.get_hash(key)\n",
    "        if self.cabinet[key_hash] is None:\n",
    "            return False\n",
    "        for i in range (0, len(self.cabinet[key_hash])):\n",
    "            if self.cabinet[key_hash] [i] [0] == key:\n",
    "                self.map[key_hash].pop[i]\n",
    "                return True\n",
    "\n",
    "    def print(self):\n",
    "        for item in self.cabinet:\n",
    "            if item is not None:\n",
    "                print(str(item))"
   ]
  },
  {
   "cell_type": "code",
   "execution_count": 42,
   "metadata": {},
   "outputs": [
    {
     "output_type": "execute_result",
     "data": {
      "text/plain": [
       "True"
      ]
     },
     "metadata": {},
     "execution_count": 42
    }
   ],
   "source": [
    "# try to use the hashmap\n",
    "h = Hashmap(size= 6)\n",
    "h.add_value('Bob', 'Mary')\n",
    "h.add_value('Abdul', 'ramatu')"
   ]
  },
  {
   "cell_type": "code",
   "execution_count": 43,
   "metadata": {},
   "outputs": [],
   "source": [
    "## Let's try to build that same class and concept using small chunks of functions\n",
    "class HashMaps:\n",
    "    def __init__(self, size):\n",
    "        self.size= size\n",
    "        self.cabinet = [None] * self.size\n",
    "    \n",
    "    def get_hash(self, key):\n",
    "        hash= 0\n",
    "        for char in str(self.key):\n",
    "            hash += ord(char)\n",
    "        return hash % self.size\n"
   ]
  },
  {
   "cell_type": "code",
   "execution_count": 51,
   "metadata": {},
   "outputs": [],
   "source": [
    "#let's add a fn to add a value to the hashmap\n",
    "class HashMaps:\n",
    "    def __init__(self, size):\n",
    "        self.size= size\n",
    "        self.cabinet = [None] * self.size\n",
    "    \n",
    "    def get_hash(self, key):\n",
    "        hash= 0\n",
    "        for char in str(key):\n",
    "            hash += ord(char)\n",
    "        return hash % self.size\n",
    "    def add(self, key, value):\n",
    "        \"\"\"to do that we need to check if the hashtable(cabinet) if it's empty,\n",
    "        if it's empty, then add a value to it\"\"\"\n",
    "\n",
    "        key_hash = self.get_hash(key)\n",
    "        key_value= [key, value]\n",
    "        msg= 'The item was added succesful'\n",
    "\n",
    "        if self.cabinet[key_hash] is None:\n",
    "            self.cabinet[key_hash] =list(key_value)\n",
    "            return msg\n",
    "        else:\n",
    "            for pair in self.cabinet[key_hash]:\n",
    "                if pair[0] == key:\n",
    "                    pair[1] = value\n",
    "                    return msg\n",
    "        self.cabinet.key_hash.append([key_value])\n",
    "        return msg\n",
    "    \n",
    "    def print(self):\n",
    "       for item in self.cabinet:\n",
    "           if item is not None:\n",
    "               print(str(item))\n"
   ]
  },
  {
   "cell_type": "code",
   "execution_count": 52,
   "metadata": {},
   "outputs": [
    {
     "output_type": "stream",
     "name": "stdout",
     "text": [
      "['age', '22']\n['name', 'brighton']\n"
     ]
    }
   ],
   "source": [
    "hmap = HashMaps(size= 6)\n",
    "hmap.add('name', 'brighton')\n",
    "hmap.add('age', '22')\n",
    "hmap.print()"
   ]
  },
  {
   "cell_type": "code",
   "execution_count": 81,
   "metadata": {},
   "outputs": [],
   "source": [
    "# let's add a fn of finding the item in the cabinet (hash_map)\n",
    "class HashMaps:\n",
    "    def __init__(self, size):\n",
    "        self.size= size\n",
    "        self.cabinet = [None] * self.size\n",
    "    \n",
    "    def get_hash(self, key):\n",
    "        hash= 0\n",
    "        for char in str(key):\n",
    "            hash += ord(char)\n",
    "        return hash % self.size\n",
    "    def add(self, key, value):\n",
    "        \"\"\"to do that we need to check if the hashtable(cabinet) if it's empty,\n",
    "        if it's empty, then add a value to it\"\"\"\n",
    "\n",
    "        key_hash = self.get_hash(key)\n",
    "        key_value= [key, value]\n",
    "        msg= 'The item was added succesful'\n",
    "\n",
    "        if self.cabinet[key_hash] is None:\n",
    "            self.cabinet[key_hash] =list(key_value)\n",
    "            return msg\n",
    "        else:\n",
    "            for pair in self.cabinet[key_hash]:\n",
    "                if pair[0] == key:\n",
    "                    pair[1] = value\n",
    "                    return msg\n",
    "        self.cabinet.key_hash.append([key_value])\n",
    "        return msg\n",
    "    \n",
    "    def print(self):\n",
    "       for item in self.cabinet:\n",
    "           if item is not None:\n",
    "               print(str(item))\n",
    "\n",
    "    def find(self, key):\n",
    "        key_hash = self.get_hash(key)\n",
    "        msg1 = 'The item is available'\n",
    "        msg2= 'The item is not available'\n",
    "        if self.cabinet[key_hash] is not None:\n",
    "            for pair in self.cabinet[key_hash]:\n",
    "                if pair[0] == key:\n",
    "                    return msg1\n",
    "            else:\n",
    "               return msg2"
   ]
  },
  {
   "cell_type": "code",
   "execution_count": 82,
   "metadata": {},
   "outputs": [
    {
     "output_type": "stream",
     "name": "stdout",
     "text": [
      "['age', '22']\n['name', 'brighton']\n"
     ]
    }
   ],
   "source": [
    "hmap = HashMaps(size= 6)\n",
    "hmap.add('name', 'brighton')\n",
    "hmap.add('age', '22')\n",
    "hmap.print()"
   ]
  },
  {
   "cell_type": "code",
   "execution_count": 86,
   "metadata": {},
   "outputs": [
    {
     "output_type": "execute_result",
     "data": {
      "text/plain": [
       "'The item is not available'"
      ]
     },
     "metadata": {},
     "execution_count": 86
    }
   ],
   "source": [
    "hmap.find(key= 'brighton')"
   ]
  },
  {
   "cell_type": "code",
   "execution_count": null,
   "metadata": {},
   "outputs": [],
   "source": []
  }
 ]
}