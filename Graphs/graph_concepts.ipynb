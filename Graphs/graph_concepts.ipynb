{
 "cells": [
  {
   "cell_type": "markdown",
   "source": [
    "## Depth First Search & Breadth First Search\r\n",
    "\r\n",
    "To implement Depth Firt Search you need to implement it using Stacks and the BFS you implement it using Qeues\r\n",
    "\r\n",
    "The method below is iteratively and the second one is using Recursion"
   ],
   "metadata": {}
  },
  {
   "cell_type": "code",
   "execution_count": 3,
   "source": [
    "# Iterative method\r\n",
    "def depthFirstPrint(graph, source):\r\n",
    "    stack= [source]\r\n",
    "    #run/loop the stack while its not empty\r\n",
    "    while len(stack) > 0:\r\n",
    "        current= stack.pop()\r\n",
    "        print(current)\r\n",
    "        for neighbor in graph[current]:\r\n",
    "            stack.append(neighbor)\r\n",
    "\r\n",
    "graph= {\r\n",
    "    'a': ['b', 'c'],\r\n",
    "    'b': ['d'],\r\n",
    "    'c': ['e'],\r\n",
    "    'd': ['f'],\r\n",
    "    'e': [],\r\n",
    "    'f': []\r\n",
    "}\r\n",
    "\r\n",
    "depthFirstPrint(graph, 'a')"
   ],
   "outputs": [
    {
     "output_type": "stream",
     "name": "stdout",
     "text": [
      "a\n",
      "c\n",
      "e\n",
      "b\n",
      "d\n",
      "f\n"
     ]
    }
   ],
   "metadata": {}
  },
  {
   "cell_type": "code",
   "execution_count": 25,
   "source": [
    "# recursion method\r\n",
    "def depthFirstPrint(graph, source):\r\n",
    "    print(source)\r\n",
    "    for neighbor in graph[source]:\r\n",
    "        depthFirstPrint(graph, neighbor)\r\n",
    "\r\n",
    "graph= {\r\n",
    "    'a': ['c', 'b'],\r\n",
    "    'b': ['d'],\r\n",
    "    'c': ['e'],\r\n",
    "    'd': ['f'],\r\n",
    "    'e': [],\r\n",
    "    'f': []\r\n",
    "}\r\n",
    "\r\n",
    "depthFirstPrint(graph, 'a')"
   ],
   "outputs": [
    {
     "output_type": "stream",
     "name": "stdout",
     "text": [
      "a\n",
      "c\n",
      "e\n",
      "b\n",
      "d\n",
      "f\n"
     ]
    }
   ],
   "metadata": {}
  },
  {
   "cell_type": "code",
   "execution_count": 13,
   "source": [
    "def breadthFirstPrint(graph, source):\r\n",
    "    from collections import deque\r\n",
    "    queue = deque([source])\r\n",
    "    while len(queue) > 0:\r\n",
    "        #removing the first element of the queue\r\n",
    "        current = queue.popleft()\r\n",
    "        print(current)\r\n",
    "        for neighbor in graph[current]:\r\n",
    "            #add element at the end of my queue\r\n",
    "            queue.append(neighbor)\r\n",
    "\r\n",
    "graph= {\r\n",
    "    'a': ['c', 'b'],\r\n",
    "    'b': ['d'],\r\n",
    "    'c': ['e'],\r\n",
    "    'd': ['f'],\r\n",
    "    'e': [],\r\n",
    "    'f': []\r\n",
    "}\r\n",
    "breadthFirstPrint(graph, 'a')"
   ],
   "outputs": [
    {
     "output_type": "stream",
     "name": "stdout",
     "text": [
      "a\n",
      "c\n",
      "b\n",
      "e\n",
      "d\n",
      "f\n"
     ]
    }
   ],
   "metadata": {}
  },
  {
   "cell_type": "markdown",
   "source": [
    "## has Path\r\n",
    "\r\n",
    "Write a function, hasPath, that takes in an object representing the adjacency list of a directed acyclic graph and two nodes(src, dst).The function should return a boolean indicating whther or not there exists a directed path between the source and the destination nodes."
   ],
   "metadata": {}
  },
  {
   "cell_type": "code",
   "execution_count": 28,
   "source": [
    "# using a DFS recursively \r\n",
    "def hasPath(graph, src, dst):\r\n",
    "    if src == dst:\r\n",
    "        return True\r\n",
    "    for neighbor in graph[src]:\r\n",
    "        if hasPath(graph, neighbor, dst) == True:\r\n",
    "            return True\r\n",
    "    return False\r\n",
    "\r\n",
    "graph = {\r\n",
    "    'f': ['g', 'i'],\r\n",
    "    'g': ['h'],\r\n",
    "    'h': [],\r\n",
    "    'i': ['g', 'k'],\r\n",
    "    'j':['i'],\r\n",
    "    'k': []\r\n",
    "}\r\n",
    "\r\n",
    "hasPath(graph, 'i', 'f' )"
   ],
   "outputs": [
    {
     "output_type": "execute_result",
     "data": {
      "text/plain": [
       "False"
      ]
     },
     "metadata": {},
     "execution_count": 28
    }
   ],
   "metadata": {}
  },
  {
   "cell_type": "code",
   "execution_count": 30,
   "source": [
    "def hasPath(graph, src, dst):\r\n",
    "    from collections import deque\r\n",
    "    queue = deque([src])\r\n",
    "    while len(queue) > 0:\r\n",
    "        current = queue.popleft()\r\n",
    "        if current == dst:\r\n",
    "            return True\r\n",
    "        for neighbor in graph[current]:\r\n",
    "            queue.append(neighbor)\r\n",
    "    return False\r\n",
    "\r\n",
    "\r\n",
    "graph = {\r\n",
    "    'f': ['g', 'i'],\r\n",
    "    'g': ['h'],\r\n",
    "    'h': [],\r\n",
    "    'i': ['g', 'k'],\r\n",
    "    'j':['i'],\r\n",
    "    'k': []\r\n",
    "}\r\n",
    "\r\n",
    "hasPath(graph, 'i', 'f' )"
   ],
   "outputs": [
    {
     "output_type": "execute_result",
     "data": {
      "text/plain": [
       "False"
      ]
     },
     "metadata": {},
     "execution_count": 30
    }
   ],
   "metadata": {}
  },
  {
   "cell_type": "markdown",
   "source": [
    "## Undirected Path\r\n",
    "\r\n",
    "Write a function, undirectedPath, that takes in an array of edges for an undirected graph and two nodes (nodeA, nodeB). The function should return a boolean strings indicating whether or not there exists a path between nodeA and nodeB."
   ],
   "metadata": {}
  },
  {
   "cell_type": "code",
   "execution_count": 41,
   "source": [
    "def undirectedPath(edges, nodeA, nodeB):\r\n",
    "    graph= buildGraph(edges)\r\n",
    "    return hasPath(graph, nodeA, nodeB, set())\r\n",
    "\r\n",
    "\r\n",
    "def buildGraph(edges):\r\n",
    "    from collections import defaultdict\r\n",
    "    graph = defaultdict(list)\r\n",
    "    for edge in edges:\r\n",
    "        a, b= edge[0], edge[1]\r\n",
    "        graph[a].append(b)\r\n",
    "        graph[b].append(a)\r\n",
    "    return graph\r\n",
    "\r\n",
    "def hasPath(graph, src, dst, visited):\r\n",
    "    if src == dst:\r\n",
    "        return True\r\n",
    "    if src in visited:\r\n",
    "        return False\r\n",
    "    for neighbor in graph[src]:\r\n",
    "        if hasPath(graph, neighbor, dst, visited) == True:\r\n",
    "            return True\r\n",
    "    \r\n",
    "\r\n",
    "edges= [\r\n",
    "    ['i', 'j'],\r\n",
    "    ['k', 'i'],\r\n",
    "    ['m', 'k'],\r\n",
    "    ['k', 'l'],\r\n",
    "    ['o', 'n']\r\n",
    "]\r\n",
    "undirectedPath(edges, 'i','j')"
   ],
   "outputs": [
    {
     "output_type": "execute_result",
     "data": {
      "text/plain": [
       "True"
      ]
     },
     "metadata": {},
     "execution_count": 41
    }
   ],
   "metadata": {}
  },
  {
   "cell_type": "markdown",
   "source": [
    "## Connected Components count\r\n",
    "\r\n",
    "Write a function, connectedComponentCount, that takes in the adjacency list of an undirected graph. The function should return the number of components within the graph"
   ],
   "metadata": {}
  },
  {
   "cell_type": "code",
   "execution_count": 47,
   "source": [
    "#can't fucking understand the issue here, but I can explain it conceptually\r\n",
    "def connectedComponentCount(graph):\r\n",
    "    visited= set()\r\n",
    "    count= 0\r\n",
    "    for node in graph:\r\n",
    "        print(visited)\r\n",
    "        if explore(graph, node, visited) == True:\r\n",
    "            count += 1\r\n",
    "    return count\r\n",
    "\r\n",
    "def explore(graph, current, visited):\r\n",
    "    if current in visited:\r\n",
    "        return False\r\n",
    "    visited.append(current)\r\n",
    "    for neighbor in graph[current]:\r\n",
    "        explore(graph, neighbor, visited)\r\n",
    "    return True\r\n",
    "\r\n",
    "connectedComponentCount({\r\n",
    "    0: [8,1, 5],\r\n",
    "    1: [0],\r\n",
    "    5: [0, 8],\r\n",
    "    8: [0, 5],\r\n",
    "    2: [3, 4],\r\n",
    "    3:[2, 4],\r\n",
    "    4: [3,2]\r\n",
    "})"
   ],
   "outputs": [
    {
     "output_type": "stream",
     "name": "stdout",
     "text": [
      "set()\n"
     ]
    },
    {
     "output_type": "error",
     "ename": "AttributeError",
     "evalue": "'set' object has no attribute 'append'",
     "traceback": [
      "\u001b[1;31m---------------------------------------------------------------------------\u001b[0m",
      "\u001b[1;31mAttributeError\u001b[0m                            Traceback (most recent call last)",
      "\u001b[1;32m<ipython-input-47-03ae813cc2a5>\u001b[0m in \u001b[0;36m<module>\u001b[1;34m\u001b[0m\n\u001b[0;32m     16\u001b[0m     \u001b[1;32mreturn\u001b[0m \u001b[1;32mTrue\u001b[0m\u001b[1;33m\u001b[0m\u001b[1;33m\u001b[0m\u001b[0m\n\u001b[0;32m     17\u001b[0m \u001b[1;33m\u001b[0m\u001b[0m\n\u001b[1;32m---> 18\u001b[1;33m connectedComponentCount({\n\u001b[0m\u001b[0;32m     19\u001b[0m     \u001b[1;36m0\u001b[0m\u001b[1;33m:\u001b[0m \u001b[1;33m[\u001b[0m\u001b[1;36m8\u001b[0m\u001b[1;33m,\u001b[0m\u001b[1;36m1\u001b[0m\u001b[1;33m,\u001b[0m \u001b[1;36m5\u001b[0m\u001b[1;33m]\u001b[0m\u001b[1;33m,\u001b[0m\u001b[1;33m\u001b[0m\u001b[1;33m\u001b[0m\u001b[0m\n\u001b[0;32m     20\u001b[0m     \u001b[1;36m1\u001b[0m\u001b[1;33m:\u001b[0m \u001b[1;33m[\u001b[0m\u001b[1;36m0\u001b[0m\u001b[1;33m]\u001b[0m\u001b[1;33m,\u001b[0m\u001b[1;33m\u001b[0m\u001b[1;33m\u001b[0m\u001b[0m\n",
      "\u001b[1;32m<ipython-input-47-03ae813cc2a5>\u001b[0m in \u001b[0;36mconnectedComponentCount\u001b[1;34m(graph)\u001b[0m\n\u001b[0;32m      4\u001b[0m     \u001b[1;32mfor\u001b[0m \u001b[0mnode\u001b[0m \u001b[1;32min\u001b[0m \u001b[0mgraph\u001b[0m\u001b[1;33m:\u001b[0m\u001b[1;33m\u001b[0m\u001b[1;33m\u001b[0m\u001b[0m\n\u001b[0;32m      5\u001b[0m         \u001b[0mprint\u001b[0m\u001b[1;33m(\u001b[0m\u001b[0mvisited\u001b[0m\u001b[1;33m)\u001b[0m\u001b[1;33m\u001b[0m\u001b[1;33m\u001b[0m\u001b[0m\n\u001b[1;32m----> 6\u001b[1;33m         \u001b[1;32mif\u001b[0m \u001b[0mexplore\u001b[0m\u001b[1;33m(\u001b[0m\u001b[0mgraph\u001b[0m\u001b[1;33m,\u001b[0m \u001b[0mnode\u001b[0m\u001b[1;33m,\u001b[0m \u001b[0mvisited\u001b[0m\u001b[1;33m)\u001b[0m \u001b[1;33m==\u001b[0m \u001b[1;32mTrue\u001b[0m\u001b[1;33m:\u001b[0m\u001b[1;33m\u001b[0m\u001b[1;33m\u001b[0m\u001b[0m\n\u001b[0m\u001b[0;32m      7\u001b[0m             \u001b[0mcount\u001b[0m \u001b[1;33m+=\u001b[0m \u001b[1;36m1\u001b[0m\u001b[1;33m\u001b[0m\u001b[1;33m\u001b[0m\u001b[0m\n\u001b[0;32m      8\u001b[0m     \u001b[1;32mreturn\u001b[0m \u001b[0mcount\u001b[0m\u001b[1;33m\u001b[0m\u001b[1;33m\u001b[0m\u001b[0m\n",
      "\u001b[1;32m<ipython-input-47-03ae813cc2a5>\u001b[0m in \u001b[0;36mexplore\u001b[1;34m(graph, current, visited)\u001b[0m\n\u001b[0;32m     11\u001b[0m     \u001b[1;32mif\u001b[0m \u001b[0mcurrent\u001b[0m \u001b[1;32min\u001b[0m \u001b[0mvisited\u001b[0m\u001b[1;33m:\u001b[0m\u001b[1;33m\u001b[0m\u001b[1;33m\u001b[0m\u001b[0m\n\u001b[0;32m     12\u001b[0m         \u001b[1;32mreturn\u001b[0m \u001b[1;32mFalse\u001b[0m\u001b[1;33m\u001b[0m\u001b[1;33m\u001b[0m\u001b[0m\n\u001b[1;32m---> 13\u001b[1;33m     \u001b[0mvisited\u001b[0m\u001b[1;33m.\u001b[0m\u001b[0mappend\u001b[0m\u001b[1;33m(\u001b[0m\u001b[0mcurrent\u001b[0m\u001b[1;33m)\u001b[0m\u001b[1;33m\u001b[0m\u001b[1;33m\u001b[0m\u001b[0m\n\u001b[0m\u001b[0;32m     14\u001b[0m     \u001b[1;32mfor\u001b[0m \u001b[0mneighbor\u001b[0m \u001b[1;32min\u001b[0m \u001b[0mgraph\u001b[0m\u001b[1;33m[\u001b[0m\u001b[0mcurrent\u001b[0m\u001b[1;33m]\u001b[0m\u001b[1;33m:\u001b[0m\u001b[1;33m\u001b[0m\u001b[1;33m\u001b[0m\u001b[0m\n\u001b[0;32m     15\u001b[0m         \u001b[0mexplore\u001b[0m\u001b[1;33m(\u001b[0m\u001b[0mgraph\u001b[0m\u001b[1;33m,\u001b[0m \u001b[0mneighbor\u001b[0m\u001b[1;33m,\u001b[0m \u001b[0mvisited\u001b[0m\u001b[1;33m)\u001b[0m\u001b[1;33m\u001b[0m\u001b[1;33m\u001b[0m\u001b[0m\n",
      "\u001b[1;31mAttributeError\u001b[0m: 'set' object has no attribute 'append'"
     ]
    }
   ],
   "metadata": {}
  },
  {
   "cell_type": "code",
   "execution_count": null,
   "source": [],
   "outputs": [],
   "metadata": {}
  }
 ],
 "metadata": {
  "orig_nbformat": 4,
  "language_info": {
   "name": "python",
   "version": "3.8.10",
   "mimetype": "text/x-python",
   "codemirror_mode": {
    "name": "ipython",
    "version": 3
   },
   "pygments_lexer": "ipython3",
   "nbconvert_exporter": "python",
   "file_extension": ".py"
  },
  "kernelspec": {
   "name": "python3",
   "display_name": "Python 3.8.10 64-bit ('Tony_ml': conda)"
  },
  "interpreter": {
   "hash": "3cda1abfc2264e5aafed419a9d1c945a6bcbd7c77187ca59a7878bb80eaea557"
  }
 },
 "nbformat": 4,
 "nbformat_minor": 2
}