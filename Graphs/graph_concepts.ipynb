{
 "cells": [
  {
   "cell_type": "markdown",
   "source": [
    "## Depth First Search & Breadth First Search\r\n",
    "\r\n",
    "To implement Depth Firt Search you need to implement it using Stacks and the BFS you implement it using Qeues\r\n",
    "\r\n",
    "The method below is iteratively and the second one is using Recursion"
   ],
   "metadata": {}
  },
  {
   "cell_type": "code",
   "execution_count": 3,
   "source": [
    "# Iterative method\r\n",
    "def depthFirstPrint(graph, source):\r\n",
    "    stack= [source]\r\n",
    "    #run/loop the stack while its not empty\r\n",
    "    while len(stack) > 0:\r\n",
    "        current= stack.pop()\r\n",
    "        print(current)\r\n",
    "        for neighbor in graph[current]:\r\n",
    "            stack.append(neighbor)\r\n",
    "\r\n",
    "graph= {\r\n",
    "    'a': ['b', 'c'],\r\n",
    "    'b': ['d'],\r\n",
    "    'c': ['e'],\r\n",
    "    'd': ['f'],\r\n",
    "    'e': [],\r\n",
    "    'f': []\r\n",
    "}\r\n",
    "\r\n",
    "depthFirstPrint(graph, 'a')"
   ],
   "outputs": [
    {
     "output_type": "stream",
     "name": "stdout",
     "text": [
      "a\n",
      "c\n",
      "e\n",
      "b\n",
      "d\n",
      "f\n"
     ]
    }
   ],
   "metadata": {}
  },
  {
   "cell_type": "code",
   "execution_count": 4,
   "source": [
    "# recursion method\r\n",
    "def depthFirstPrint(graph, source):\r\n",
    "    print(source)\r\n",
    "    for neighbor in graph[source]:\r\n",
    "        depthFirstPrint(graph, neighbor)\r\n",
    "\r\n",
    "graph= {\r\n",
    "    'a': ['b', 'c'],\r\n",
    "    'b': ['d'],\r\n",
    "    'c': ['e'],\r\n",
    "    'd': ['f'],\r\n",
    "    'e': [],\r\n",
    "    'f': []\r\n",
    "}\r\n",
    "\r\n",
    "depthFirstPrint(graph, 'a')"
   ],
   "outputs": [
    {
     "output_type": "stream",
     "name": "stdout",
     "text": [
      "a\n",
      "b\n",
      "d\n",
      "f\n",
      "c\n",
      "e\n"
     ]
    }
   ],
   "metadata": {}
  },
  {
   "cell_type": "code",
   "execution_count": 13,
   "source": [
    "def breadthFirstPrint(graph, source):\r\n",
    "    from collections import deque\r\n",
    "    queue = deque([source])\r\n",
    "    while len(queue) > 0:\r\n",
    "        #removing the first element of the queue\r\n",
    "        current = queue.popleft()\r\n",
    "        print(current)\r\n",
    "        for neighbor in graph[current]:\r\n",
    "            #add element at the end of my queue\r\n",
    "            queue.append(neighbor)\r\n",
    "\r\n",
    "graph= {\r\n",
    "    'a': ['c', 'b'],\r\n",
    "    'b': ['d'],\r\n",
    "    'c': ['e'],\r\n",
    "    'd': ['f'],\r\n",
    "    'e': [],\r\n",
    "    'f': []\r\n",
    "}\r\n",
    "breadthFirstPrint(graph, 'a')"
   ],
   "outputs": [
    {
     "output_type": "stream",
     "name": "stdout",
     "text": [
      "a\n",
      "c\n",
      "b\n",
      "e\n",
      "d\n",
      "f\n"
     ]
    }
   ],
   "metadata": {}
  },
  {
   "cell_type": "code",
   "execution_count": 14,
   "source": [
    "array= [1, 2, 3]\r\n",
    "array.pop()\r\n",
    "array"
   ],
   "outputs": [
    {
     "output_type": "execute_result",
     "data": {
      "text/plain": [
       "[1, 2]"
      ]
     },
     "metadata": {},
     "execution_count": 14
    }
   ],
   "metadata": {}
  },
  {
   "cell_type": "code",
   "execution_count": null,
   "source": [],
   "outputs": [],
   "metadata": {}
  }
 ],
 "metadata": {
  "orig_nbformat": 4,
  "language_info": {
   "name": "python",
   "version": "3.8.10",
   "mimetype": "text/x-python",
   "codemirror_mode": {
    "name": "ipython",
    "version": 3
   },
   "pygments_lexer": "ipython3",
   "nbconvert_exporter": "python",
   "file_extension": ".py"
  },
  "kernelspec": {
   "name": "python3",
   "display_name": "Python 3.8.10 64-bit ('Tony_ml': conda)"
  },
  "interpreter": {
   "hash": "3cda1abfc2264e5aafed419a9d1c945a6bcbd7c77187ca59a7878bb80eaea557"
  }
 },
 "nbformat": 4,
 "nbformat_minor": 2
}