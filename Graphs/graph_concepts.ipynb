{
 "cells": [
  {
   "cell_type": "markdown",
   "source": [
    "## Depth First Search & Breadth First Search\r\n",
    "\r\n",
    "To implement Depth Firt Search you need to implement it using Stacks and the BFS you implement it using Qeues\r\n",
    "\r\n",
    "The method below is iteratively and the second one is using Recursion"
   ],
   "metadata": {}
  },
  {
   "cell_type": "code",
   "execution_count": 3,
   "source": [
    "# Iterative method\r\n",
    "def depthFirstPrint(graph, source):\r\n",
    "    stack= [source]\r\n",
    "    #run/loop the stack while its not empty\r\n",
    "    while len(stack) > 0:\r\n",
    "        current= stack.pop()\r\n",
    "        print(current)\r\n",
    "        for neighbor in graph[current]:\r\n",
    "            stack.append(neighbor)\r\n",
    "\r\n",
    "graph= {\r\n",
    "    'a': ['b', 'c'],\r\n",
    "    'b': ['d'],\r\n",
    "    'c': ['e'],\r\n",
    "    'd': ['f'],\r\n",
    "    'e': [],\r\n",
    "    'f': []\r\n",
    "}\r\n",
    "\r\n",
    "depthFirstPrint(graph, 'a')"
   ],
   "outputs": [
    {
     "output_type": "stream",
     "name": "stdout",
     "text": [
      "a\n",
      "c\n",
      "e\n",
      "b\n",
      "d\n",
      "f\n"
     ]
    }
   ],
   "metadata": {}
  },
  {
   "cell_type": "code",
   "execution_count": 25,
   "source": [
    "# recursion method\r\n",
    "def depthFirstPrint(graph, source):\r\n",
    "    print(source)\r\n",
    "    for neighbor in graph[source]:\r\n",
    "        depthFirstPrint(graph, neighbor)\r\n",
    "\r\n",
    "graph= {\r\n",
    "    'a': ['c', 'b'],\r\n",
    "    'b': ['d'],\r\n",
    "    'c': ['e'],\r\n",
    "    'd': ['f'],\r\n",
    "    'e': [],\r\n",
    "    'f': []\r\n",
    "}\r\n",
    "\r\n",
    "depthFirstPrint(graph, 'a')"
   ],
   "outputs": [
    {
     "output_type": "stream",
     "name": "stdout",
     "text": [
      "a\n",
      "c\n",
      "e\n",
      "b\n",
      "d\n",
      "f\n"
     ]
    }
   ],
   "metadata": {}
  },
  {
   "cell_type": "code",
   "execution_count": 13,
   "source": [
    "def breadthFirstPrint(graph, source):\r\n",
    "    from collections import deque\r\n",
    "    queue = deque([source])\r\n",
    "    while len(queue) > 0:\r\n",
    "        #removing the first element of the queue\r\n",
    "        current = queue.popleft()\r\n",
    "        print(current)\r\n",
    "        for neighbor in graph[current]:\r\n",
    "            #add element at the end of my queue\r\n",
    "            queue.append(neighbor)\r\n",
    "\r\n",
    "graph= {\r\n",
    "    'a': ['c', 'b'],\r\n",
    "    'b': ['d'],\r\n",
    "    'c': ['e'],\r\n",
    "    'd': ['f'],\r\n",
    "    'e': [],\r\n",
    "    'f': []\r\n",
    "}\r\n",
    "breadthFirstPrint(graph, 'a')"
   ],
   "outputs": [
    {
     "output_type": "stream",
     "name": "stdout",
     "text": [
      "a\n",
      "c\n",
      "b\n",
      "e\n",
      "d\n",
      "f\n"
     ]
    }
   ],
   "metadata": {}
  },
  {
   "cell_type": "markdown",
   "source": [
    "## has Path\r\n",
    "\r\n",
    "Write a function, hasPath, that takes in an object representing the adjacency list of a directed acyclic graph and two nodes(src, dst).The function should return a boolean indicating whther or not there exists a directed path between the source and the destination nodes."
   ],
   "metadata": {}
  },
  {
   "cell_type": "code",
   "execution_count": 28,
   "source": [
    "# using a DFS recursively \r\n",
    "def hasPath(graph, src, dst):\r\n",
    "    if src == dst:\r\n",
    "        return True\r\n",
    "    for neighbor in graph[src]:\r\n",
    "        if hasPath(graph, neighbor, dst) == True:\r\n",
    "            return True\r\n",
    "    return False\r\n",
    "\r\n",
    "graph = {\r\n",
    "    'f': ['g', 'i'],\r\n",
    "    'g': ['h'],\r\n",
    "    'h': [],\r\n",
    "    'i': ['g', 'k'],\r\n",
    "    'j':['i'],\r\n",
    "    'k': []\r\n",
    "}\r\n",
    "\r\n",
    "hasPath(graph, 'i', 'f' )"
   ],
   "outputs": [
    {
     "output_type": "execute_result",
     "data": {
      "text/plain": [
       "False"
      ]
     },
     "metadata": {},
     "execution_count": 28
    }
   ],
   "metadata": {}
  },
  {
   "cell_type": "code",
   "execution_count": 30,
   "source": [
    "def hasPath(graph, src, dst):\r\n",
    "    from collections import deque\r\n",
    "    queue = deque([src])\r\n",
    "    while len(queue) > 0:\r\n",
    "        current = queue.popleft()\r\n",
    "        if current == dst:\r\n",
    "            return True\r\n",
    "        for neighbor in graph[current]:\r\n",
    "            queue.append(neighbor)\r\n",
    "    return False\r\n",
    "\r\n",
    "\r\n",
    "graph = {\r\n",
    "    'f': ['g', 'i'],\r\n",
    "    'g': ['h'],\r\n",
    "    'h': [],\r\n",
    "    'i': ['g', 'k'],\r\n",
    "    'j':['i'],\r\n",
    "    'k': []\r\n",
    "}\r\n",
    "\r\n",
    "hasPath(graph, 'i', 'f' )"
   ],
   "outputs": [
    {
     "output_type": "execute_result",
     "data": {
      "text/plain": [
       "False"
      ]
     },
     "metadata": {},
     "execution_count": 30
    }
   ],
   "metadata": {}
  },
  {
   "cell_type": "markdown",
   "source": [
    "## Undirected Path\r\n",
    "\r\n",
    "Write a function, undirectedPath, that takes in an array of edges for an undirected graph and two nodes (nodeA, nodeB). The function should return a boolean strings indicating whether or not there exists a path between nodeA and nodeB."
   ],
   "metadata": {}
  },
  {
   "cell_type": "code",
   "execution_count": 41,
   "source": [
    "def undirectedPath(edges, nodeA, nodeB):\r\n",
    "    graph= buildGraph(edges)\r\n",
    "    return hasPath(graph, nodeA, nodeB, set())\r\n",
    "\r\n",
    "\r\n",
    "def buildGraph(edges):\r\n",
    "    from collections import defaultdict\r\n",
    "    graph = defaultdict(list)\r\n",
    "    for edge in edges:\r\n",
    "        a, b= edge[0], edge[1]\r\n",
    "        graph[a].append(b)\r\n",
    "        graph[b].append(a)\r\n",
    "    return graph\r\n",
    "\r\n",
    "def hasPath(graph, src, dst, visited):\r\n",
    "    if src == dst:\r\n",
    "        return True\r\n",
    "    if src in visited:\r\n",
    "        return False\r\n",
    "    for neighbor in graph[src]:\r\n",
    "        if hasPath(graph, neighbor, dst, visited) == True:\r\n",
    "            return True\r\n",
    "    \r\n",
    "\r\n",
    "edges= [\r\n",
    "    ['i', 'j'],\r\n",
    "    ['k', 'i'],\r\n",
    "    ['m', 'k'],\r\n",
    "    ['k', 'l'],\r\n",
    "    ['o', 'n']\r\n",
    "]\r\n",
    "undirectedPath(edges, 'i','j')"
   ],
   "outputs": [
    {
     "output_type": "execute_result",
     "data": {
      "text/plain": [
       "True"
      ]
     },
     "metadata": {},
     "execution_count": 41
    }
   ],
   "metadata": {}
  },
  {
   "cell_type": "code",
   "execution_count": 36,
   "source": [
    "def graphBuild(edges):\r\n",
    "    from collections import defaultdict\r\n",
    "    graph= defaultdict(list)\r\n",
    "    for edge in edges:\r\n",
    "        a, b= edge[0], edge[1]\r\n",
    "        graph[a].append(b)\r\n",
    "        graph[b].append(b)\r\n",
    "    return graph"
   ],
   "outputs": [
    {
     "output_type": "execute_result",
     "data": {
      "text/plain": [
       "['b']"
      ]
     },
     "metadata": {},
     "execution_count": 36
    }
   ],
   "metadata": {}
  },
  {
   "cell_type": "code",
   "execution_count": null,
   "source": [],
   "outputs": [],
   "metadata": {}
  }
 ],
 "metadata": {
  "orig_nbformat": 4,
  "language_info": {
   "name": "python",
   "version": "3.8.10",
   "mimetype": "text/x-python",
   "codemirror_mode": {
    "name": "ipython",
    "version": 3
   },
   "pygments_lexer": "ipython3",
   "nbconvert_exporter": "python",
   "file_extension": ".py"
  },
  "kernelspec": {
   "name": "python3",
   "display_name": "Python 3.8.10 64-bit ('Tony_ml': conda)"
  },
  "interpreter": {
   "hash": "3cda1abfc2264e5aafed419a9d1c945a6bcbd7c77187ca59a7878bb80eaea557"
  }
 },
 "nbformat": 4,
 "nbformat_minor": 2
}