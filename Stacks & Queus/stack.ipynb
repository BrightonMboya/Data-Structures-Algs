{
 "cells": [
  {
   "cell_type": "markdown",
   "source": [
    "Stacks are the simplest of all data structures, yet they are also among the most\r\n",
    "important. They are used in a host of different applications, and as a tool for many\r\n",
    "more sophisticated data structures and algorithms. Formally, a stack is an abstract\r\n",
    "data type (ADT) such that an instance S supports the following two methods:\r\n",
    "S.push(e): Add element e to the top of stack S.\r\n",
    "S.pop(): Remove and return the top element from the stack S;\r\n",
    "an error occurs if the stack is empty.\r\n",
    "Additionally, let us define the following accessor methods for convenience:\r\n",
    "S.top(): Return a reference to the top element of stack S, without\r\n",
    "removing it; an error occurs if the stack is empty.\r\n",
    "S.is empty( ): Return True if stack S does not contain any elements.\r\n",
    "len(S): Return the number of elements in stack S; in Python, we\r\n",
    "implement this with the special method len .\r\n",
    "By convention, we assume that a newly created stack is empty, and that there is no\r\n",
    "a priori bound on the capacity of the stack. Elements added to the stack can have\r\n",
    "arbitrary type"
   ],
   "metadata": {}
  },
  {
   "cell_type": "code",
   "execution_count": 21,
   "source": [
    "class Empty(Exception):\r\n",
    "    \"\"\"raises an error when the stack is empty\"\"\"\r\n",
    "    pass \r\n"
   ],
   "outputs": [],
   "metadata": {}
  },
  {
   "cell_type": "code",
   "execution_count": 30,
   "source": [
    "class ArrayStack:\r\n",
    "    def __init__(self):\r\n",
    "        #creating an empty stack using array as an underlying storage\r\n",
    "        self.data = []\r\n",
    "\r\n",
    "    def __len__(self):\r\n",
    "        return len(self._data)\r\n",
    "\r\n",
    "    def is_empty(self):\r\n",
    "        #retutn True if the stack is empty otherwise false\r\n",
    "        if __len___ == 0:\r\n",
    "            return True\r\n",
    "        else:\r\n",
    "            return False\r\n",
    "\r\n",
    "    def push(self, value):\r\n",
    "        self.data.append(value)\r\n",
    "    \r\n",
    "    def pop(self):\r\n",
    "        #check if the stack is empty\r\n",
    "        if len(self.data) == 0:\r\n",
    "            raise Empty('Stack is empty')\r\n",
    "        else:\r\n",
    "            self.data.pop(-1)\r\n",
    "\r\n",
    "    def top(self):\r\n",
    "        \"\"\"return but do not delete the top element of the stack\"\"\"\r\n",
    "        #check if the stack is empty\r\n",
    "        if len(self.data) == 0:\r\n",
    "            raise Empty('stack is empty')\r\n",
    "        else:\r\n",
    "            return self.data[-1]\r\n",
    "\r\n",
    "    def printStack(self):\r\n",
    "        for value in self.data:\r\n",
    "            print(value)\r\n"
   ],
   "outputs": [],
   "metadata": {}
  },
  {
   "cell_type": "code",
   "execution_count": 32,
   "source": [
    "stack2 = ArrayStack()\r\n",
    "stack2.push(5)\r\n",
    "stack2.push(8)\r\n",
    "stack2.push(3)\r\n",
    "stack2.pop()"
   ],
   "outputs": [],
   "metadata": {}
  },
  {
   "cell_type": "code",
   "execution_count": 33,
   "source": [
    "stack2.printStack()"
   ],
   "outputs": [
    {
     "output_type": "stream",
     "name": "stdout",
     "text": [
      "5\n",
      "8\n"
     ]
    }
   ],
   "metadata": {}
  },
  {
   "cell_type": "code",
   "execution_count": null,
   "source": [],
   "outputs": [],
   "metadata": {}
  }
 ],
 "metadata": {
  "orig_nbformat": 4,
  "language_info": {
   "name": "python",
   "version": "3.8.5",
   "mimetype": "text/x-python",
   "codemirror_mode": {
    "name": "ipython",
    "version": 3
   },
   "pygments_lexer": "ipython3",
   "nbconvert_exporter": "python",
   "file_extension": ".py"
  },
  "kernelspec": {
   "name": "python3",
   "display_name": "Python 3.8.5 64-bit ('base': conda)"
  },
  "interpreter": {
   "hash": "d421f7e0be82773f79ff071f6681b3a26ad583fa2b319fe248c43945bdde9151"
  }
 },
 "nbformat": 4,
 "nbformat_minor": 2
}