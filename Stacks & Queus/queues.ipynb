{
 "cells": [
  {
   "cell_type": "markdown",
   "source": [
    "In developing a more robust queue implementation, we allow the front of the queue\r\n",
    "to drift rightward, and we allow the contents of the queue to “wrap around” the end\r\n",
    "of an underlying array. We assume that our underlying array has fixed length N\r\n",
    "that is greater that the actual number of elements in the queue. New elements\r\n",
    "are enqueued toward the “end” of the current queue, progressing from the front to\r\n",
    "index N −1 and continuing at index 0, then 1."
   ],
   "metadata": {}
  },
  {
   "cell_type": "markdown",
   "source": [
    "Implementing this circular view is not difficult. When we dequeue an element\r\n",
    "and want to “advance” the front index, we use the arithmeticf = (f + 1) % N. Recall\r\n",
    "that the % operator in Python denotes the modulo operator, which is computed\r\n",
    "by taking the remainder after an integral division. For example, 14 divided by 3 has\r\n",
    "a quotient of 4 with remainder 2, that is, 14\r\n",
    "3 = 423\r\n",
    ". So in Python, 14 // 3 evaluates\r\n",
    "to the quotient 4, while 14 % 3 evaluates to the remainder 2. The modulo operator\r\n",
    "is ideal for treating an array circularly. As a concrete example, if we have a list\r\n",
    "of length 10, and a front index 7, we can advance the front by formally computing\r\n",
    "(7+1) % 10, which is simply 8, as 8 divided by 10 is 0 with a remainder of 8.\r\n",
    "Similarly, advancing index 8 results in index 9. But when we advance from index 9\r\n",
    "(the last one in the array), we compute (9+1) % 10, which evaluates to index 0 (as\r\n",
    "10 divided by 10 has a remainder of zero).\r\n",
    "A"
   ],
   "metadata": {}
  },
  {
   "cell_type": "markdown",
   "source": [
    "## A Python Queue Implementation\r\n",
    "A complete implementation of a queue ADT using a Python list in circular fashion\r\n",
    "is presented in Code Fragments 6.6 and 6.7. Internally, the queue class maintains\r\n",
    "the following three instance variables:\r\n",
    "* data: is a reference to a list instance with a fixed capacity.\r\n",
    "* size: is an integer representing the current number of elements stored\r\n",
    "in the queue (as opposed to the length of the data list).\r\n",
    "front: is an integer that represents the index within data of the first\r\n",
    "element of the queue (assuming the queue is not empty).\r\n",
    "We initially reserve a list of moderate size for storing data, although the queue\r\n",
    "formally has size zero. As a technicality, we initialize the front index to zero.\r\n",
    "When front or dequeue are called with no elements in the queue, we raise an\r\n",
    "instance of the Empty exception,"
   ],
   "metadata": {}
  },
  {
   "cell_type": "code",
   "execution_count": 2,
   "source": [
    "class Empty(Exception):\r\n",
    "    pass\r\n"
   ],
   "outputs": [],
   "metadata": {}
  },
  {
   "cell_type": "code",
   "execution_count": 30,
   "source": [
    "class ArrayQueue:\r\n",
    "    def __init__(self):\r\n",
    "        default_capacity = 10\r\n",
    "        self.data = [None] * default_capacity\r\n",
    "        self.size= 0\r\n",
    "        self.front = 0\r\n",
    "\r\n",
    "    def is_empty(self):\r\n",
    "        if self.size == 0:\r\n",
    "            return True\r\n",
    "        else:\r\n",
    "            return False\r\n",
    "    \r\n",
    "    def first(self):\r\n",
    "        #returns but do not remove the first element of the Queue\r\n",
    "        if len(self.data) == 0:\r\n",
    "            raise Empty('The Queue is empty')\r\n",
    "        else:\r\n",
    "            return self.data[self.front]\r\n",
    "\r\n",
    "    def dequeing(self):\r\n",
    "        #remove and return the first element in the Queue\r\n",
    "        if len(self.data) == 0:\r\n",
    "            raise Empty('The Queue is empty')\r\n",
    "        else:\r\n",
    "            answer = self.data[self.front]\r\n",
    "            self.data[self.front] = None\r\n",
    "            self.front = (self.front + 1) % len(self.data)\r\n",
    "            self.size -= 1\r\n",
    "            return answer \r\n",
    "    \r\n",
    "    def resize(self, cap):\r\n",
    "        #resize the queue to a new size\r\n",
    "        old = self.data\r\n",
    "        self.data = [None] * cap\r\n",
    "        #then let's shift the indeces from the old queue to the new one\r\n",
    "        walk = self.data[self.front]\r\n",
    "        for index in range(self.size):\r\n",
    "            self.data[index] = walk\r\n",
    "            walk = (walk + 1) % len(old)\r\n",
    "        self.front = 0\r\n",
    "\r\n",
    "    def enqueing(self, value):\r\n",
    "        #let's check the queue is full, if yes double the size\r\n",
    "        if self.size == len(self.data):\r\n",
    "            self.resize(2 * len(self.data))\r\n",
    "        avail = (self.front + self.size) % len(self.data)\r\n",
    "        self.data[avail] = value\r\n",
    "        self.size += 1\r\n",
    "\r\n",
    "    def printQueue(self):\r\n",
    "        for item in self.data:\r\n",
    "            print(item)\r\n",
    "\r\n",
    "\r\n"
   ],
   "outputs": [],
   "metadata": {}
  },
  {
   "cell_type": "code",
   "execution_count": 32,
   "source": [
    "a= ArrayQueue()\r\n",
    "a.enqueing(1)\r\n",
    "a.enqueing(5)\r\n",
    "a.enqueing(6)\r\n",
    "a.enqueing(7)\r\n",
    "a.printQueue()"
   ],
   "outputs": [
    {
     "output_type": "stream",
     "name": "stdout",
     "text": [
      "1\n",
      "5\n",
      "6\n",
      "7\n",
      "None\n",
      "None\n",
      "None\n",
      "None\n",
      "None\n",
      "None\n"
     ]
    }
   ],
   "metadata": {}
  },
  {
   "cell_type": "code",
   "execution_count": 33,
   "source": [
    "a.printQueue()"
   ],
   "outputs": [
    {
     "output_type": "stream",
     "name": "stdout",
     "text": [
      "1\n",
      "5\n",
      "6\n",
      "7\n",
      "None\n",
      "None\n",
      "None\n",
      "None\n",
      "None\n",
      "None\n"
     ]
    }
   ],
   "metadata": {}
  },
  {
   "cell_type": "code",
   "execution_count": 34,
   "source": [
    "a.dequeing()\r\n",
    "a.printQueue()"
   ],
   "outputs": [
    {
     "output_type": "stream",
     "name": "stdout",
     "text": [
      "None\n",
      "5\n",
      "6\n",
      "7\n",
      "None\n",
      "None\n",
      "None\n",
      "None\n",
      "None\n",
      "None\n"
     ]
    }
   ],
   "metadata": {}
  },
  {
   "cell_type": "code",
   "execution_count": null,
   "source": [],
   "outputs": [],
   "metadata": {}
  }
 ],
 "metadata": {
  "orig_nbformat": 4,
  "language_info": {
   "name": "python",
   "version": "3.8.5",
   "mimetype": "text/x-python",
   "codemirror_mode": {
    "name": "ipython",
    "version": 3
   },
   "pygments_lexer": "ipython3",
   "nbconvert_exporter": "python",
   "file_extension": ".py"
  },
  "kernelspec": {
   "name": "python3",
   "display_name": "Python 3.8.5 64-bit ('base': conda)"
  },
  "interpreter": {
   "hash": "d421f7e0be82773f79ff071f6681b3a26ad583fa2b319fe248c43945bdde9151"
  }
 },
 "nbformat": 4,
 "nbformat_minor": 2
}