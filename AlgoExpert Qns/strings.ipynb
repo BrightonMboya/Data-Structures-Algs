{
 "cells": [
  {
   "cell_type": "markdown",
   "source": [
    "## Palindrome Check\r\n",
    "\r\n",
    "Write a function that takes in a non-empty string and returns a boolean representing whether the string is a palindrome.\r\n",
    "\r\n",
    "A palindrome is defined as a string that's written the same forward and backward. Note that single-character strings are palindromes"
   ],
   "metadata": {}
  },
  {
   "cell_type": "code",
   "execution_count": 1,
   "source": [
    "def isPalindrome(string):\r\n",
    "    # Write your code here.\r\n",
    "\tstring2 = string[::-1]\r\n",
    "\tif string2 == string:\r\n",
    "\t\treturn True\r\n",
    "\telse:\r\n",
    "\t\treturn False\r\n"
   ],
   "outputs": [],
   "metadata": {}
  },
  {
   "cell_type": "markdown",
   "source": [
    "## Ceaser Cipher Encryptor\r\n",
    "\r\n",
    "Given a non-empty string of lowercase and a non-negative integer representing a key. Write a function that returns a new string obtained by shfting every letter in the input string by k positions in the alphabet, where k is the key.\r\n",
    "\r\n",
    "Note that letters should 'wrap' arround the alphabet; in other words, the letter z shifted by one returns the letter a\r\n"
   ],
   "metadata": {}
  },
  {
   "cell_type": "code",
   "execution_count": 3,
   "source": [
    "def ceaserCipherEncryptor(string, key):\r\n",
    "    letters= ['abcdefghijklmnopqrstuvwxyz']\r\n",
    "    newLetters= []\r\n",
    "    newKey = key % 26\r\n",
    "    for letter in string:\r\n",
    "        newLetters.append(getNewLetter(letter, newKey))\r\n",
    "    return \"\".join(newLetters)\r\n",
    "\r\n",
    "def getNewLetter(letter, key):\r\n",
    "    newLetterChord = ord(letter) + key\r\n",
    "    if newLetterChord <= 122:\r\n",
    "        return chr(newLetterChord)\r\n",
    "    else:\r\n",
    "        return chr(96 + newLetterChord % 122)"
   ],
   "outputs": [],
   "metadata": {}
  },
  {
   "cell_type": "markdown",
   "source": [
    "## First Non-Repeating Charater\r\n",
    "\r\n",
    "Write a function that takes in a string of lowercase English-alphabet and returns the index if the string's first non-repeating character.\r\n",
    "\r\n",
    "The first non-repeating character in a string that occurs only once.\r\n",
    "\r\n",
    "If the input string doesn't have any non-repeating characters, your functions should return -1"
   ],
   "metadata": {}
  },
  {
   "cell_type": "code",
   "execution_count": 4,
   "source": [
    "# runs on O(n) square time\r\n",
    "def firstNonRepeatingCharacter(string):\r\n",
    "\t# Write your code here.\r\n",
    "\tfor inx in range(len(string)):\r\n",
    "\t\tfoundDuplicate = False\r\n",
    "\t\tfor inx2 in range(len(string)):\r\n",
    "\t\t\tif string[inx] == string[inx2] and inx != inx2:\r\n",
    "\t\t\t\tfoundDuplicate = True\r\n",
    "\t\tif not foundDuplicate:\r\n",
    "\t\t\treturn inx\r\n",
    "\t\r\n",
    "\treturn -1"
   ],
   "outputs": [],
   "metadata": {}
  },
  {
   "cell_type": "code",
   "execution_count": 26,
   "source": [
    "# runs on O(n) time complexity\r\n",
    "\r\n",
    "def firstNonRepeatingCharacter(string):\r\n",
    "    # Write your code here.\r\n",
    "\tfor char in string:\r\n",
    "\t\tif string.count(char) == 1:\r\n",
    "\t\t\treturn string.index(char)\r\n",
    "\t\t\tbreak\r\n",
    "    return -1"
   ],
   "outputs": [
    {
     "output_type": "error",
     "ename": "IndentationError",
     "evalue": "unindent does not match any outer indentation level (<tokenize>, line 9)",
     "traceback": [
      "\u001b[1;36m  File \u001b[1;32m\"<tokenize>\"\u001b[1;36m, line \u001b[1;32m9\u001b[0m\n\u001b[1;33m    return -1\u001b[0m\n\u001b[1;37m    ^\u001b[0m\n\u001b[1;31mIndentationError\u001b[0m\u001b[1;31m:\u001b[0m unindent does not match any outer indentation level\n"
     ]
    }
   ],
   "metadata": {}
  },
  {
   "cell_type": "code",
   "execution_count": 40,
   "source": [
    "a= 25 // 10\r\n",
    "print(a)\r\n",
    "b = 25 % 10\r\n",
    "print(b)\r\n",
    "c= str(a) + str(b) + 's'\r\n",
    "print(c)"
   ],
   "outputs": [
    {
     "output_type": "stream",
     "name": "stdout",
     "text": [
      "2\n",
      "5\n",
      "25s\n"
     ]
    }
   ],
   "metadata": {}
  },
  {
   "cell_type": "code",
   "execution_count": null,
   "source": [],
   "outputs": [],
   "metadata": {}
  }
 ],
 "metadata": {
  "orig_nbformat": 4,
  "language_info": {
   "name": "python",
   "version": "3.8.10",
   "mimetype": "text/x-python",
   "codemirror_mode": {
    "name": "ipython",
    "version": 3
   },
   "pygments_lexer": "ipython3",
   "nbconvert_exporter": "python",
   "file_extension": ".py"
  },
  "kernelspec": {
   "name": "python3",
   "display_name": "Python 3.8.10 64-bit ('Tony_ml': conda)"
  },
  "interpreter": {
   "hash": "cde3ec76907d9d896e943ab917179e131da7cf4b500ea9b151f784767f25e879"
  }
 },
 "nbformat": 4,
 "nbformat_minor": 2
}