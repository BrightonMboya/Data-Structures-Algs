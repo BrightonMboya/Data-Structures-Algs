{
 "cells": [
  {
   "cell_type": "markdown",
   "metadata": {},
   "source": [
    "## Palindrome Check\n",
    "\n",
    "Write a function that takes in a non-empty string and returns a boolean representing whether the string is a palindrome.\n",
    "\n",
    "A palindrome is defined as a string that's written the same forward and backward. Note that single-character strings are palindromes"
   ]
  },
  {
   "cell_type": "code",
   "execution_count": 1,
   "metadata": {},
   "outputs": [],
   "source": [
    "def isPalindrome(string):\n",
    "    # Write your code here.\n",
    "\tstring2 = string[::-1]\n",
    "\tif string2 == string:\n",
    "\t\treturn True\n",
    "\telse:\n",
    "\t\treturn False\n"
   ]
  },
  {
   "cell_type": "markdown",
   "metadata": {},
   "source": [
    "## Ceaser Cipher Encryptor\n",
    "\n",
    "Given a non-empty string of lowercase and a non-negative integer representing a key. Write a function that returns a new string obtained by shfting every letter in the input string by k positions in the alphabet, where k is the key.\n",
    "\n",
    "Note that letters should 'wrap' arround the alphabet; in other words, the letter z shifted by one returns the letter a\n"
   ]
  },
  {
   "cell_type": "code",
   "execution_count": 3,
   "metadata": {},
   "outputs": [],
   "source": [
    "def ceaserCipherEncryptor(string, key):\n",
    "    letters= ['abcdefghijklmnopqrstuvwxyz']\n",
    "    newLetters= []\n",
    "    newKey = key % 26\n",
    "    for letter in string:\n",
    "        newLetters.append(getNewLetter(letter, newKey))\n",
    "    return \"\".join(newLetters)\n",
    "\n",
    "def getNewLetter(letter, key):\n",
    "    newLetterChord = ord(letter) + key\n",
    "    if newLetterChord <= 122:\n",
    "        return chr(newLetterChord)\n",
    "    else:\n",
    "        return chr(96 + newLetterChord % 122)"
   ]
  },
  {
   "cell_type": "markdown",
   "metadata": {},
   "source": [
    "## First Non-Repeating Charater\n",
    "\n",
    "Write a function that takes in a string of lowercase English-alphabet and returns the index if the string's first non-repeating character.\n",
    "\n",
    "The first non-repeating character in a string that occurs only once.\n",
    "\n",
    "If the input string doesn't have any non-repeating characters, your functions should return -1"
   ]
  },
  {
   "cell_type": "code",
   "execution_count": 4,
   "metadata": {},
   "outputs": [],
   "source": [
    "# runs on O(n) square time\n",
    "def firstNonRepeatingCharacter(string):\n",
    "\t# Write your code here.\n",
    "\tfor inx in range(len(string)):\n",
    "\t\tfoundDuplicate = False\n",
    "\t\tfor inx2 in range(len(string)):\n",
    "\t\t\tif string[inx] == string[inx2] and inx != inx2:\n",
    "\t\t\t\tfoundDuplicate = True\n",
    "\t\tif not foundDuplicate:\n",
    "\t\t\treturn inx\n",
    "\t\n",
    "\treturn -1"
   ]
  },
  {
   "cell_type": "code",
   "execution_count": 26,
   "metadata": {},
   "outputs": [
    {
     "ename": "IndentationError",
     "evalue": "unindent does not match any outer indentation level (<tokenize>, line 9)",
     "output_type": "error",
     "traceback": [
      "\u001b[1;36m  File \u001b[1;32m\"<tokenize>\"\u001b[1;36m, line \u001b[1;32m9\u001b[0m\n\u001b[1;33m    return -1\u001b[0m\n\u001b[1;37m    ^\u001b[0m\n\u001b[1;31mIndentationError\u001b[0m\u001b[1;31m:\u001b[0m unindent does not match any outer indentation level\n"
     ]
    }
   ],
   "source": [
    "# runs on O(n) time complexity\n",
    "\n",
    "def firstNonRepeatingCharacter(string):\n",
    "    # Write your code here.\n",
    "\tfor char in string:\n",
    "\t\tif string.count(char) == 1:\n",
    "\t\t\treturn string.index(char)\n",
    "\t\t\tbreak\n",
    "    return -1"
   ]
  },
  {
   "cell_type": "markdown",
   "metadata": {},
   "source": [
    "## Run Length Encoding\n",
    "\n",
    "\n",
    "Write a function that takes in a non-empty string and returns \n",
    "its run-length encoding.\n",
    "\n",
    "From Wikipedia, \"run-length encoding is a form of lossless data \n",
    "compression in which runs of data are stored as a single data value and\n",
    "count, rather than as the original run.\" \n",
    "For this problem, a run of data is any sequence of consecutive, \n",
    "identical characters. So the run \"AAA\" would be run-length-encoded as \"3A\".\n",
    "To make things more complicated, however, the input string can contain \n",
    "all sorts of special characters, including numbers. And since encoded data\n",
    "must be decodable, this means that we can't naively run-length-encode \n",
    "long runs. For example, the run \"AAAAAAAAAAAA\" (12 As), can't naively be\n",
    "encoded as \"12A\", \n",
    "since this string can be decoded as either \"AAAAAAAAAAAA\" or \"1AA\". \n",
    "Thus, long runs (runs of 10 or more characters) should be encoded in a \n",
    "split fashion; \n",
    "the aforementioned run should be encoded as \"9A3A\"."
   ]
  },
  {
   "cell_type": "code",
   "execution_count": 42,
   "metadata": {},
   "outputs": [],
   "source": [
    "def runLengthEncoding(string):\n",
    "\t# Write your code here.\n",
    "\tanswer = \"\"\n",
    "\ti = 0\n",
    "\twhile i < len(string):\n",
    "\t\tj = i\n",
    "\t\tcounter = 1 # short circuit for if condtions\n",
    "\t\twhile j+1 < len(string) and string[j] == string[j+1]:\n",
    "\t\t\tcounter += 1 # 1,2,3,4,5,....9\n",
    "\t\t\tj += 1\n",
    "\t\t\tif counter == 9:\n",
    "\t\t\t\tbreak\n",
    "\t\tanswer += str(counter) + string[i] # counter range (1, 9)\n",
    "\t\ti = j+1\n",
    "\treturn answer"
   ]
  },
  {
   "cell_type": "markdown",
   "metadata": {},
   "source": [
    "## Generate Document\n",
    "\n",
    "You're given a string of available characters and a string representing a document that you need to generate. Write a function that determines if you can generate the document using the available characters. If you can generate the document, your function should return `true`; otherwise it should return `False`.\n",
    "\n",
    "You're only able to generate the document if the frequency of unique characters string is greater than or equal to the frequency of unique characters in the document string. For example, if you're given `characters= 'abcabc'` and `document = 'aabbcc'` you can't generate the document because you're missing one `c`"
   ]
  },
  {
   "cell_type": "code",
   "execution_count": 1,
   "metadata": {},
   "outputs": [],
   "source": [
    "def generateDocument(characters, document):\n",
    "\t# Write your code here.\n",
    "\tcharacterCount = {}\n",
    "\tfor character in characters:\n",
    "\t\tif character not in characterCount:\n",
    "\t\t\tcharacterCount[character] = 0\n",
    "\t\tcharacterCount[character] += 1\n",
    "\tfor character in document:\n",
    "\t\tif character not in characterCount or characterCount[character] == 0:\n",
    "\t\t\treturn False\n",
    "\t\tcharacterCount[character] -= 1\n",
    "\treturn True"
   ]
  },
  {
   "cell_type": "markdown",
   "metadata": {},
   "source": [
    "## Longest Palindromic Substring\n",
    "\n",
    "Write a function that given a string, returns its longest palindrmic substring.\n",
    "\n",
    "A palindrome is defined as a string that's written the same forward and backward. Note that single-charater strings are palindromes.\n",
    "\n",
    "You can assume that there will be only one longest palindromic substring"
   ]
  },
  {
   "cell_type": "code",
   "execution_count": 6,
   "metadata": {},
   "outputs": [],
   "source": [
    "def longestPalindromicSubstring(string):\n",
    "    # Write your code here.\n",
    "\tlongestString = \"\"\n",
    "\tlenString = 0\n",
    "\t# check for odd palindromes\n",
    "\tfor i in range(len(string)):\n",
    "\t\tl= r = i\n",
    "\t\twhile l >= 0 and r < len(string) and string[l] == string[r]:\n",
    "\t\t\tif (r-l + 1) > lenString:\n",
    "\t\t\t\tlongestString = string[l: r+1]\n",
    "\t\t\t\tlenString = (r-l +1)\n",
    "\t\t\tl -= 1\n",
    "\t\t\tr += 1\n",
    "\t#check for even palindromes\n",
    "\tfor i in range(len(string)):\n",
    "\t\tl,r = i, i+1\n",
    "\t\twhile l >= 0 and r < len(string) and string[l] == string[r]:\n",
    "\t\t\t\tif (r-l + 1) > lenString:\n",
    "\t\t\t\t\tlongestString = string[l: r+1]\n",
    "\t\t\t\t\tlenString = (r-l +1)\n",
    "\t\t\t\tl -= 1\n",
    "\t\t\t\tr += 1\n",
    "\treturn longestString\n",
    "\t\n"
   ]
  },
  {
   "cell_type": "markdown",
   "metadata": {},
   "source": [
    "## Group Anagrams\n",
    "\n",
    "Write a function that takes in an array of strings and groups anagrams together.\n",
    "\n",
    "Anagrams are strings made up of exactly the same letters, where order doesn't matter. For example. 'cinema' and \"iceman\" are anagrams.\n",
    "\n",
    "Your functions should return a list of anagram groups in no particular order."
   ]
  },
  {
   "cell_type": "code",
   "execution_count": 7,
   "metadata": {},
   "outputs": [],
   "source": [
    "def groupAnagrams(words):\n",
    "\t# Write your code here.\n",
    "\tanagrams = {}\n",
    "\tfor word in words:\n",
    "\t\tsortedWord = \"\".join(sorted(word))\n",
    "\t\tif sortedWord in anagrams:\n",
    "\t\t\tanagrams[sortedWord].append(word)\n",
    "\t\telse:\n",
    "\t\t\tanagrams[sortedWord] = [word]\n",
    "\treturn list(anagrams.values())\n",
    "\t\t\t"
   ]
  },
  {
   "cell_type": "code",
   "execution_count": 2,
   "metadata": {},
   "outputs": [],
   "source": [
    "hello = input(int())"
   ]
  },
  {
   "cell_type": "code",
   "execution_count": null,
   "metadata": {},
   "outputs": [],
   "source": []
  }
 ],
 "metadata": {
  "interpreter": {
   "hash": "cde3ec76907d9d896e943ab917179e131da7cf4b500ea9b151f784767f25e879"
  },
  "kernelspec": {
   "display_name": "Python 3.8.10 64-bit ('Tony_ml': conda)",
   "name": "python3"
  },
  "language_info": {
   "codemirror_mode": {
    "name": "ipython",
    "version": 3
   },
   "file_extension": ".py",
   "mimetype": "text/x-python",
   "name": "python",
   "nbconvert_exporter": "python",
   "pygments_lexer": "ipython3",
   "version": "3.8.10"
  },
  "orig_nbformat": 4
 },
 "nbformat": 4,
 "nbformat_minor": 2
}
