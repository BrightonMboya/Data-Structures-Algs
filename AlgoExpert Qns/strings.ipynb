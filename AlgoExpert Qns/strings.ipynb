{
 "cells": [
  {
   "cell_type": "markdown",
   "source": [
    "## Palindrome Check\r\n",
    "\r\n",
    "Write a function that takes in a non-empty string and returns a boolean representing whether the string is a palindrome.\r\n",
    "\r\n",
    "A palindrome is defined as a string that's written the same forward and backward. Note that single-character strings are palindromes"
   ],
   "metadata": {}
  },
  {
   "cell_type": "code",
   "execution_count": 1,
   "source": [
    "def isPalindrome(string):\r\n",
    "    # Write your code here.\r\n",
    "\tstring2 = string[::-1]\r\n",
    "\tif string2 == string:\r\n",
    "\t\treturn True\r\n",
    "\telse:\r\n",
    "\t\treturn False\r\n"
   ],
   "outputs": [],
   "metadata": {}
  },
  {
   "cell_type": "markdown",
   "source": [
    "## Ceaser Cipher Encryptor\r\n",
    "\r\n",
    "Given a non-empty string of lowercase and a non-negative integer representing a key. Write a function that returns a new string obtained by shfting every letter in the input string by k positions in the alphabet, where k is the key.\r\n",
    "\r\n",
    "Note that letters should 'wrap' arround the alphabet; in other words, the letter z shifted by one returns the letter a\r\n"
   ],
   "metadata": {}
  },
  {
   "cell_type": "code",
   "execution_count": 3,
   "source": [
    "def ceaserCipherEncryptor(string, key):\r\n",
    "    letters= ['abcdefghijklmnopqrstuvwxyz']\r\n",
    "    newLetters= []\r\n",
    "    newKey = key % 26\r\n",
    "    for letter in string:\r\n",
    "        newLetters.append(getNewLetter(letter, newKey))\r\n",
    "    return \"\".join(newLetters)\r\n",
    "\r\n",
    "def getNewLetter(letter, key):\r\n",
    "    newLetterChord = ord(letter) + key\r\n",
    "    if newLetterChord <= 122:\r\n",
    "        return chr(newLetterChord)\r\n",
    "    else:\r\n",
    "        return chr(96 + newLetterChord % 122)"
   ],
   "outputs": [],
   "metadata": {}
  },
  {
   "cell_type": "markdown",
   "source": [
    "## First Non-Repeating Charater\r\n",
    "\r\n",
    "Write a function that takes in a string of lowercase English-alphabet and returns the index if the string's first non-repeating character.\r\n",
    "\r\n",
    "The first non-repeating character in a string that occurs only once.\r\n",
    "\r\n",
    "If the input string doesn't have any non-repeating characters, your functions should return -1"
   ],
   "metadata": {}
  },
  {
   "cell_type": "code",
   "execution_count": 4,
   "source": [
    "# runs on O(n) square time\r\n",
    "def firstNonRepeatingCharacter(string):\r\n",
    "\t# Write your code here.\r\n",
    "\tfor inx in range(len(string)):\r\n",
    "\t\tfoundDuplicate = False\r\n",
    "\t\tfor inx2 in range(len(string)):\r\n",
    "\t\t\tif string[inx] == string[inx2] and inx != inx2:\r\n",
    "\t\t\t\tfoundDuplicate = True\r\n",
    "\t\tif not foundDuplicate:\r\n",
    "\t\t\treturn inx\r\n",
    "\t\r\n",
    "\treturn -1"
   ],
   "outputs": [],
   "metadata": {}
  },
  {
   "cell_type": "code",
   "execution_count": 26,
   "source": [
    "# runs on O(n) time complexity\r\n",
    "\r\n",
    "def firstNonRepeatingCharacter(string):\r\n",
    "    # Write your code here.\r\n",
    "\tfor char in string:\r\n",
    "\t\tif string.count(char) == 1:\r\n",
    "\t\t\treturn string.index(char)\r\n",
    "\t\t\tbreak\r\n",
    "    return -1"
   ],
   "outputs": [
    {
     "output_type": "error",
     "ename": "IndentationError",
     "evalue": "unindent does not match any outer indentation level (<tokenize>, line 9)",
     "traceback": [
      "\u001b[1;36m  File \u001b[1;32m\"<tokenize>\"\u001b[1;36m, line \u001b[1;32m9\u001b[0m\n\u001b[1;33m    return -1\u001b[0m\n\u001b[1;37m    ^\u001b[0m\n\u001b[1;31mIndentationError\u001b[0m\u001b[1;31m:\u001b[0m unindent does not match any outer indentation level\n"
     ]
    }
   ],
   "metadata": {}
  },
  {
   "cell_type": "markdown",
   "source": [
    "## Run Length Encoding\r\n",
    "\r\n",
    "\r\n",
    "Write a function that takes in a non-empty string and returns \r\n",
    "its run-length encoding.\r\n",
    "\r\n",
    "From Wikipedia, \"run-length encoding is a form of lossless data \r\n",
    "compression in which runs of data are stored as a single data value and\r\n",
    "count, rather than as the original run.\" \r\n",
    "For this problem, a run of data is any sequence of consecutive, \r\n",
    "identical characters. So the run \"AAA\" would be run-length-encoded as \"3A\".\r\n",
    "To make things more complicated, however, the input string can contain \r\n",
    "all sorts of special characters, including numbers. And since encoded data\r\n",
    "must be decodable, this means that we can't naively run-length-encode \r\n",
    "long runs. For example, the run \"AAAAAAAAAAAA\" (12 As), can't naively be\r\n",
    "encoded as \"12A\", \r\n",
    "since this string can be decoded as either \"AAAAAAAAAAAA\" or \"1AA\". \r\n",
    "Thus, long runs (runs of 10 or more characters) should be encoded in a \r\n",
    "split fashion; \r\n",
    "the aforementioned run should be encoded as \"9A3A\"."
   ],
   "metadata": {}
  },
  {
   "cell_type": "code",
   "execution_count": 42,
   "source": [
    "def runLengthEncoding(string):\r\n",
    "\t# Write your code here.\r\n",
    "\tanswer = \"\"\r\n",
    "\ti = 0\r\n",
    "\twhile i < len(string):\r\n",
    "\t\tj = i\r\n",
    "\t\tcounter = 1 # short circuit for if condtions\r\n",
    "\t\twhile j+1 < len(string) and string[j] == string[j+1]:\r\n",
    "\t\t\tcounter += 1 # 1,2,3,4,5,....9\r\n",
    "\t\t\tj += 1\r\n",
    "\t\t\tif counter == 9:\r\n",
    "\t\t\t\tbreak\r\n",
    "\t\tanswer += str(counter) + string[i] # counter range (1, 9)\r\n",
    "\t\ti = j+1\r\n",
    "\treturn answer"
   ],
   "outputs": [],
   "metadata": {}
  },
  {
   "cell_type": "markdown",
   "source": [
    "## Generate Document\r\n",
    "\r\n",
    "You're given a string of available characters and a string representing a document that you need to generate. Write a function that determines if you can generate the document using the available characters. If you can generate the document, your function should return `true`; otherwise it should return `False`.\r\n",
    "\r\n",
    "You're only able to generate the document if the frequency of unique characters string is greater than or equal to the frequency of unique characters in the document string. For example, if you're given `characters= 'abcabc'` and `document = 'aabbcc'` you can't generate the document because you're missing one `c`"
   ],
   "metadata": {}
  },
  {
   "cell_type": "code",
   "execution_count": 1,
   "source": [
    "def generateDocument(characters, document):\r\n",
    "\t# Write your code here.\r\n",
    "\tcharacterCount = {}\r\n",
    "\tfor character in characters:\r\n",
    "\t\tif character not in characterCount:\r\n",
    "\t\t\tcharacterCount[character] = 0\r\n",
    "\t\tcharacterCount[character] += 1\r\n",
    "\tfor character in document:\r\n",
    "\t\tif character not in characterCount or characterCount[character] == 0:\r\n",
    "\t\t\treturn False\r\n",
    "\t\tcharacterCount[character] -= 1\r\n",
    "\treturn True"
   ],
   "outputs": [],
   "metadata": {}
  },
  {
   "cell_type": "code",
   "execution_count": null,
   "source": [],
   "outputs": [],
   "metadata": {}
  }
 ],
 "metadata": {
  "orig_nbformat": 4,
  "language_info": {
   "name": "python",
   "version": "3.8.10",
   "mimetype": "text/x-python",
   "codemirror_mode": {
    "name": "ipython",
    "version": 3
   },
   "pygments_lexer": "ipython3",
   "nbconvert_exporter": "python",
   "file_extension": ".py"
  },
  "kernelspec": {
   "name": "python3",
   "display_name": "Python 3.8.10 64-bit ('Tony_ml': conda)"
  },
  "interpreter": {
   "hash": "cde3ec76907d9d896e943ab917179e131da7cf4b500ea9b151f784767f25e879"
  }
 },
 "nbformat": 4,
 "nbformat_minor": 2
}