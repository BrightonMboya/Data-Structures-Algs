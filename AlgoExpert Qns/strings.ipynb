{
 "cells": [
  {
   "cell_type": "markdown",
   "source": [
    "## Palindrome Check\r\n",
    "\r\n",
    "Write a function that takes in a non-empty string and returns a boolean representing whether the string is a palindrome.\r\n",
    "\r\n",
    "A palindrome is defined as a string that's written the same forward and backward. Note that single-character strings are palindromes"
   ],
   "metadata": {}
  },
  {
   "cell_type": "code",
   "execution_count": 1,
   "source": [
    "def isPalindrome(string):\r\n",
    "    # Write your code here.\r\n",
    "\tstring2 = string[::-1]\r\n",
    "\tif string2 == string:\r\n",
    "\t\treturn True\r\n",
    "\telse:\r\n",
    "\t\treturn False\r\n"
   ],
   "outputs": [],
   "metadata": {}
  },
  {
   "cell_type": "markdown",
   "source": [
    "## Ceaser Cipher Encryptor\r\n",
    "\r\n",
    "Given a non-empty string of lowercase and a non-negative integer representing a key. Write a function that returns a new string obtained by shfting every letter in the input string by k positions in the alphabet, where k is the key.\r\n",
    "\r\n",
    "Note that letters should 'wrap' arround the alphabet; in other words, the letter z shifted by one returns the letter a\r\n"
   ],
   "metadata": {}
  },
  {
   "cell_type": "code",
   "execution_count": 3,
   "source": [
    "def ceaserCipherEncryptor(string, key):\r\n",
    "    letters= ['abcdefghijklmnopqrstuvwxyz']\r\n",
    "    newLetters= []\r\n",
    "    newKey = key % 26\r\n",
    "    for letter in string:\r\n",
    "        newLetters.append(getNewLetter(letter, newKey))\r\n",
    "    return \"\".join(newLetters)\r\n",
    "\r\n",
    "def getNewLetter(letter, key):\r\n",
    "    newLetterChord = ord(letter) + key\r\n",
    "    if newLetterChord <= 122:\r\n",
    "        return chr(newLetterChord)\r\n",
    "    else:\r\n",
    "        return chr(96 + newLetterChord % 122)"
   ],
   "outputs": [],
   "metadata": {}
  },
  {
   "cell_type": "code",
   "execution_count": null,
   "source": [],
   "outputs": [],
   "metadata": {}
  }
 ],
 "metadata": {
  "orig_nbformat": 4,
  "language_info": {
   "name": "python",
   "version": "3.8.10",
   "mimetype": "text/x-python",
   "codemirror_mode": {
    "name": "ipython",
    "version": 3
   },
   "pygments_lexer": "ipython3",
   "nbconvert_exporter": "python",
   "file_extension": ".py"
  },
  "kernelspec": {
   "name": "python3",
   "display_name": "Python 3.8.10 64-bit ('Tony_ml': conda)"
  },
  "interpreter": {
   "hash": "3cda1abfc2264e5aafed419a9d1c945a6bcbd7c77187ca59a7878bb80eaea557"
  }
 },
 "nbformat": 4,
 "nbformat_minor": 2
}