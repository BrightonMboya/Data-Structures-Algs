{
 "cells": [
  {
   "cell_type": "markdown",
   "source": [
    "## Nth Fibonnacci\r\n",
    "\r\n",
    "\r\n",
    "The fibonacci sequence is defined as follows: The first number of the sequence is 0, the secnd number is 1, and the nth number is the sum of the (n-1)th and (n-2)th  numbers.\r\n",
    "\r\n",
    "Write a function that takes in an integer n and returns the nth Fibonacci number.\r\n",
    "\r\n",
    "Imprtant note: the fibonacci sequence is often defined with its first two numbers as F0= 0 aand F1=1."
   ],
   "metadata": {}
  },
  {
   "cell_type": "code",
   "execution_count": null,
   "source": [
    "def getNthFib(n, memo= {}):\r\n",
    "    # Write your code here.\r\n",
    "\tif n == 2:\r\n",
    "\t\treturn 1\r\n",
    "\telif n==1:\r\n",
    "\t\treturn 0\r\n",
    "\telse:\r\n",
    "\t\treturn getNthFib(n-1, memo) + getNthFib(n-2, memo)"
   ],
   "outputs": [],
   "metadata": {}
  },
  {
   "cell_type": "code",
   "execution_count": null,
   "source": [],
   "outputs": [],
   "metadata": {}
  }
 ],
 "metadata": {
  "orig_nbformat": 4,
  "language_info": {
   "name": "python",
   "version": "3.8.10"
  },
  "kernelspec": {
   "name": "python3",
   "display_name": "Python 3.8.10 64-bit ('Tony_ml': conda)"
  },
  "interpreter": {
   "hash": "3cda1abfc2264e5aafed419a9d1c945a6bcbd7c77187ca59a7878bb80eaea557"
  }
 },
 "nbformat": 4,
 "nbformat_minor": 2
}