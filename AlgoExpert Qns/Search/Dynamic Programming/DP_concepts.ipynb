{
 "cells": [
  {
   "cell_type": "markdown",
   "source": [
    "## Implementing Fibonacci using Recursion And DP\r\n",
    "\r\n"
   ],
   "metadata": {}
  },
  {
   "cell_type": "code",
   "execution_count": 1,
   "source": [
    "def fib(n):\r\n",
    "    if n <= 2:\r\n",
    "        return 1\r\n",
    "    else:\r\n",
    "        return fib(n-1) + fib(n-2)\r\n"
   ],
   "outputs": [],
   "metadata": {}
  },
  {
   "cell_type": "markdown",
   "source": [
    "The Time complexity of this algorithm is O(2**n). Which is going to be a problem for a number like fib(50).\r\n",
    "\r\n",
    "To solve the above problem, then we need to use memoization. We keep track of the previous nodes so that we check if n is already in memory and if it then it should return its value."
   ],
   "metadata": {}
  },
  {
   "cell_type": "code",
   "execution_count": 2,
   "source": [
    "def fib(n, memo= {}):\r\n",
    "    if n in memo:\r\n",
    "        return memo[n]\r\n",
    "    elif n <= 2:\r\n",
    "        return 1\r\n",
    "    else:\r\n",
    "        result = fib(n-1, memo) + fib(n-2, memo)\r\n",
    "        memo[n] = result\r\n",
    "        return result"
   ],
   "outputs": [],
   "metadata": {}
  },
  {
   "cell_type": "code",
   "execution_count": 3,
   "source": [
    "print(fib(10))\r\n",
    "print(fib(50))\r\n",
    "print(fib(100))"
   ],
   "outputs": [
    {
     "output_type": "stream",
     "name": "stdout",
     "text": [
      "55\n",
      "12586269025\n",
      "354224848179261915075\n"
     ]
    }
   ],
   "metadata": {}
  },
  {
   "cell_type": "markdown",
   "source": [
    "## Traveller Problem\r\n",
    "\r\n",
    "Say that you are a traveller on a 2D grid. You begin in the top-left corner and your goal is to travel to the bottom-right corner. You may only move down or right.\r\n",
    "\r\n",
    "In how many ways can you travel to the goal in a grid with dimensions m*n\r\n",
    "\r\n",
    "Write a function `gridTraveler(m,n)` that calculates this."
   ],
   "metadata": {}
  },
  {
   "cell_type": "code",
   "execution_count": 13,
   "source": [
    "## Solving iteratively:\r\n",
    "def gridTraveler(m,n):\r\n",
    "    if (m == 1 or n == 1):\r\n",
    "        return 1\r\n",
    "    elif (m == 0 or n == 0):\r\n",
    "        return 0\r\n",
    "    else:\r\n",
    "        return gridTraveler(m-1, n) + gridTraveler(m, n-1)"
   ],
   "outputs": [],
   "metadata": {}
  },
  {
   "cell_type": "markdown",
   "source": [
    "The Time Complexity is O(2**(n+m))\r\n",
    "\r\n",
    "The space complexity is O(n+m)"
   ],
   "metadata": {}
  },
  {
   "cell_type": "code",
   "execution_count": 15,
   "source": [
    "print(gridTraveler(1,0))\r\n",
    "print(gridTraveler(2,3))\r\n",
    "print(gridTraveler(3,2))\r\n",
    "#print(gridTraveler(18,18))"
   ],
   "outputs": [
    {
     "output_type": "stream",
     "name": "stdout",
     "text": [
      "1\n",
      "3\n",
      "3\n"
     ]
    }
   ],
   "metadata": {}
  },
  {
   "cell_type": "code",
   "execution_count": 24,
   "source": [
    "def gridTraveller(m, n, memo= {}):\r\n",
    "    key = str(m) + ',' + str(n)\r\n",
    "    if key in memo:\r\n",
    "        return memo[key]\r\n",
    "    elif m ==1 and n == 1:\r\n",
    "        return 1\r\n",
    "    elif m == 0 or n == 0:\r\n",
    "        return 0\r\n",
    "    else:\r\n",
    "        memo[key] = gridTraveller(m-1, n, memo) + gridTraveller(m, n-1, memo)\r\n",
    "        return memo[key]\r\n"
   ],
   "outputs": [],
   "metadata": {}
  },
  {
   "cell_type": "code",
   "execution_count": 25,
   "source": [
    "print(gridTraveller(1,0))\r\n",
    "print(gridTraveller(2,3))\r\n",
    "print(gridTraveller(3,2))\r\n",
    "print(gridTraveller(18,18))"
   ],
   "outputs": [
    {
     "output_type": "stream",
     "name": "stdout",
     "text": [
      "0\n",
      "3\n",
      "3\n",
      "2333606220\n"
     ]
    }
   ],
   "metadata": {}
  },
  {
   "cell_type": "markdown",
   "source": [
    "Time complexity of the above alg is O(m*n)\r\n",
    "\r\n",
    "Space Complexity is O(m+n)"
   ],
   "metadata": {}
  },
  {
   "cell_type": "markdown",
   "source": [],
   "metadata": {}
  }
 ],
 "metadata": {
  "orig_nbformat": 4,
  "language_info": {
   "name": "python",
   "version": "3.8.5",
   "mimetype": "text/x-python",
   "codemirror_mode": {
    "name": "ipython",
    "version": 3
   },
   "pygments_lexer": "ipython3",
   "nbconvert_exporter": "python",
   "file_extension": ".py"
  },
  "kernelspec": {
   "name": "python3",
   "display_name": "Python 3.8.5 64-bit ('base': conda)"
  },
  "interpreter": {
   "hash": "d421f7e0be82773f79ff071f6681b3a26ad583fa2b319fe248c43945bdde9151"
  }
 },
 "nbformat": 4,
 "nbformat_minor": 2
}