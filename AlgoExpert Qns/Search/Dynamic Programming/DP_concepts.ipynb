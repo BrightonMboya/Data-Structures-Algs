{
 "cells": [
  {
   "cell_type": "markdown",
   "source": [
    "## Implementing Fibonacci using Recursion And DP\r\n",
    "\r\n"
   ],
   "metadata": {}
  },
  {
   "cell_type": "code",
   "execution_count": 1,
   "source": [
    "def fib(n):\r\n",
    "    if n <= 2:\r\n",
    "        return 1\r\n",
    "    else:\r\n",
    "        return fib(n-1) + fib(n-2)\r\n"
   ],
   "outputs": [],
   "metadata": {}
  },
  {
   "cell_type": "markdown",
   "source": [
    "The Time complexity of this algorithm is O(2**n). Which is going to be a problem for a number like fib(50).\r\n",
    "\r\n",
    "To solve the above problem, then we need to use memoization. We keep track of the previous nodes so that we check if n is already in memory and if it then it should return its value."
   ],
   "metadata": {}
  },
  {
   "cell_type": "code",
   "execution_count": 4,
   "source": [
    "def fib(n, memo= {}):\r\n",
    "    if n in memo:\r\n",
    "        return memo[n]\r\n",
    "    elif n <= 2:\r\n",
    "        return 1\r\n",
    "    else:\r\n",
    "        result = fib(n-1, memo) + fib(n-2, memo)\r\n",
    "        memo[n] = result\r\n",
    "        return result"
   ],
   "outputs": [],
   "metadata": {}
  },
  {
   "cell_type": "code",
   "execution_count": 6,
   "source": [
    "print(fib(10))\r\n",
    "print(fib(50))\r\n",
    "print(fib(100))"
   ],
   "outputs": [
    {
     "output_type": "stream",
     "name": "stdout",
     "text": [
      "55\n",
      "12586269025\n",
      "354224848179261915075\n"
     ]
    }
   ],
   "metadata": {}
  },
  {
   "cell_type": "code",
   "execution_count": null,
   "source": [],
   "outputs": [],
   "metadata": {}
  }
 ],
 "metadata": {
  "orig_nbformat": 4,
  "language_info": {
   "name": "python",
   "version": "3.8.5",
   "mimetype": "text/x-python",
   "codemirror_mode": {
    "name": "ipython",
    "version": 3
   },
   "pygments_lexer": "ipython3",
   "nbconvert_exporter": "python",
   "file_extension": ".py"
  },
  "kernelspec": {
   "name": "python3",
   "display_name": "Python 3.8.5 64-bit ('base': conda)"
  },
  "interpreter": {
   "hash": "d421f7e0be82773f79ff071f6681b3a26ad583fa2b319fe248c43945bdde9151"
  }
 },
 "nbformat": 4,
 "nbformat_minor": 2
}