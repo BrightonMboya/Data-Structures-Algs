{
 "cells": [
  {
   "cell_type": "markdown",
   "source": [
    "## Insertion Sort\r\n",
    "\r\n",
    "Write a function that takes in an array of integers and returns a sorted version of that array.Use the insertion Sort algorithm to sort the array.\r\n"
   ],
   "metadata": {}
  },
  {
   "cell_type": "code",
   "execution_count": 1,
   "source": [
    "def insertionSort(array):\r\n",
    "    # Write your code here.\r\n",
    "\tfor i in range(1,len(array)):\r\n",
    "\t\tj = i-1\r\n",
    "\t\twhile array[j] > array[j+1] and j >= 0:\r\n",
    "\t\t\tarray[j], array[j+1] = array[j+1], array[j]\r\n",
    "\t\t\tj -= 1\r\n",
    "\treturn array"
   ],
   "outputs": [],
   "metadata": {}
  },
  {
   "cell_type": "markdown",
   "source": [
    "## Selection SOrt\r\n",
    "\r\n",
    "Write a function that takes in an array of integers and returns a sorted version of that array.Use the Selection Sort algorithm to sort the array.\r\n"
   ],
   "metadata": {}
  },
  {
   "cell_type": "code",
   "execution_count": 2,
   "source": [
    "def selectionSort(array):\r\n",
    "    # Write your code here.\r\n",
    "\tfor i in range(0, len(array)-1):\r\n",
    "\t\tminInx = i\r\n",
    "\t\tfor j in range(i+1, len(array)):\r\n",
    "\t\t\tif array[j] < array[minInx]:\r\n",
    "\t\t\t\tminInx = j\r\n",
    "\t\tif minInx != i:\r\n",
    "\t\t\tarray[minInx], array[i] = array[i], array[minInx]\r\n",
    "\treturn array"
   ],
   "outputs": [],
   "metadata": {}
  },
  {
   "cell_type": "code",
   "execution_count": null,
   "source": [],
   "outputs": [],
   "metadata": {}
  }
 ],
 "metadata": {
  "orig_nbformat": 4,
  "language_info": {
   "name": "python",
   "version": "3.8.10",
   "mimetype": "text/x-python",
   "codemirror_mode": {
    "name": "ipython",
    "version": 3
   },
   "pygments_lexer": "ipython3",
   "nbconvert_exporter": "python",
   "file_extension": ".py"
  },
  "kernelspec": {
   "name": "python3",
   "display_name": "Python 3.8.10 64-bit ('Tony_ml': conda)"
  },
  "interpreter": {
   "hash": "3cda1abfc2264e5aafed419a9d1c945a6bcbd7c77187ca59a7878bb80eaea557"
  }
 },
 "nbformat": 4,
 "nbformat_minor": 2
}