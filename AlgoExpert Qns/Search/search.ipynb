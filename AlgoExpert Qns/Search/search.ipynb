{
 "cells": [
  {
   "cell_type": "markdown",
   "source": [
    "## Search For Range\r\n",
    "Write a FUnction that takes in a sorted array of integers as well as a target integer. The function should use a variation of the Binary Search algorithm to find a range of indices in btn which the target number is contained in the array and should return this range in the form of an array.\r\n",
    "\r\n",
    "\r\n",
    "The fist number in the output array should represent the first index at which the target number is located, while the second number should represent the last index at which the target number is located. The function should return [-1, -1] if the integer isn't contained in the array."
   ],
   "metadata": {}
  },
  {
   "cell_type": "code",
   "execution_count": 5,
   "source": [
    "def searchForRange(array, target):\r\n",
    "    # Write your code here.\r\n",
    "\tfinal_output= [-1,-1]\r\n",
    "\tbinarySearchHelper(array, target, 0, len(array)-1, final_output, True)\r\n",
    "\tbinarySearchHelper(array, target, 0, len(array)-1, final_output, False)\r\n",
    "\treturn final_output\r\n",
    "\r\n",
    "def binarySearchHelper(array, target, low, high, final_output, goLeft):\r\n",
    "\tif low > high:\r\n",
    "\t\treturn [-1,-1]\r\n",
    "\tmid = (low + high) // 2\r\n",
    "\tif target > array[mid]:\r\n",
    "\t\tbinarySearchHelper(array, target, mid+1, high, final_output, goLeft)\r\n",
    "\telif target < array[mid]:\r\n",
    "\t\tbinarySearchHelper(array, target, low, mid-1, final_output, goLeft)\r\n",
    "\telse:\r\n",
    "\t\tif goLeft:\r\n",
    "\t\t\tif mid == 0 or array[mid-1] != target:\r\n",
    "\t\t\t\tfinal_output[0] = mid\r\n",
    "\t\t\telse:\r\n",
    "\t\t\t\tbinarySearchHelper(array, target, low, mid-1, final_output, goLeft)\r\n",
    "\t\telse:\r\n",
    "\t\t\tif len(array)-1 == mid or array[mid+1] != target:\r\n",
    "\t\t\t\tfinal_output[1] = mid\r\n",
    "\t\t\telse:\r\n",
    "\t\t\t\tbinarySearchHelper(array, target, mid+1, high, final_output, goLeft)"
   ],
   "outputs": [],
   "metadata": {}
  },
  {
   "cell_type": "markdown",
   "source": [
    "## Binary Search\r\n",
    "\r\n",
    "Write a fn that takes in a sorted array of integers as well as target integer. The fn should use the BInary Search alg to determine if the target integer is contained in the array and should return its index if it is, otherwise -1."
   ],
   "metadata": {}
  },
  {
   "cell_type": "code",
   "execution_count": 6,
   "source": [
    "def binarySearch(array, target):\r\n",
    "    # Write your code here.\r\n",
    "\treturn binarySearchHelper(array, target,0 ,len(array) -1)\r\n",
    "\t\r\n",
    "def binarySearchHelper(array, target, low, high):\r\n",
    "\t#check if the array is not empty\r\n",
    "\tif low > high:\r\n",
    "\t\treturn -1\r\n",
    "\tmid = (low + high) // 2\r\n",
    "\tif target == array[mid]:\r\n",
    "\t\treturn mid\r\n",
    "\telif target < array[mid]:\r\n",
    "\t\treturn binarySearchHelper(array, target, low, mid-1)\r\n",
    "\telif target > array[mid]:\r\n",
    "\t\treturn binarySearchHelper(array,target, mid + 1, high)\r\n",
    "\telse:\r\n",
    "\t\treturn -1"
   ],
   "outputs": [],
   "metadata": {}
  },
  {
   "cell_type": "markdown",
   "source": [
    "## Find Three Largest Numbers\r\n",
    "\r\n",
    "Write a Function that takes in an array of at least three integers and, without sorting the input array, returns a sorted array of the three argest integers in the input array.\r\n",
    "\r\n",
    "The fucntion should return duplicate integers if necessary; for an example it should return `[10, 10, 12]` for an input array if `[10, 5, 9, 10, 12]`\r\n",
    "\r\n"
   ],
   "metadata": {}
  },
  {
   "cell_type": "code",
   "execution_count": 27,
   "source": [
    "def findThreeLargestNumbers(array):\r\n",
    "    # Write your code here.\r\n",
    "\timport sys\r\n",
    "    \r\n",
    "    first = second = third = -sys.maxsize\r\n",
    "    for index in range(0, len(array)):\r\n",
    "        if array[index] > first:\r\n",
    "            third = second\r\n",
    "            second = first\r\n",
    "            first = array[index]\r\n",
    "        elif array[index] > second:\r\n",
    "            third =  second\r\n",
    "            second = array[index]\r\n",
    "        elif array[index] > third:\r\n",
    "            third =  array[index]\r\n",
    "    ans = [first, second, third]\r\n",
    "\tans.sort()\r\n",
    "\treturn ans\r\n"
   ],
   "outputs": [
    {
     "output_type": "error",
     "ename": "IndentationError",
     "evalue": "unindent does not match any outer indentation level (<tokenize>, line 5)",
     "traceback": [
      "\u001b[1;36m  File \u001b[1;32m\"<tokenize>\"\u001b[1;36m, line \u001b[1;32m5\u001b[0m\n\u001b[1;33m    first = second = third = -sys.maxsize\u001b[0m\n\u001b[1;37m    ^\u001b[0m\n\u001b[1;31mIndentationError\u001b[0m\u001b[1;31m:\u001b[0m unindent does not match any outer indentation level\n"
     ]
    }
   ],
   "metadata": {}
  },
  {
   "cell_type": "markdown",
   "source": [
    "## Two Number Sum\r\n",
    "\r\n",
    "Write a fn that takes in a non-empty array of distinct integers and an integer representing a target sum. If any two numbers in the input array sum up to the target sum, the fn should return them in an array, in any order. If no two numbers sum up to the target sum, the fn should return an empty array.\r\n",
    "\r\n",
    "Note that the target sum has to be obtained by summing two different integers in the array; you can't add a single integer to itself in order to obtain the target sum.\r\n",
    "\r\n",
    "\r\n",
    "You can assume that there will be at most one pair of numbers summing up to the target sum."
   ],
   "metadata": {}
  },
  {
   "cell_type": "code",
   "execution_count": 66,
   "source": [
    "def twoNumberSum(array, targetSum):\r\n",
    "\tfor i in range(len(array)-1):\r\n",
    "\t\tfirstNum = array[i]\r\n",
    "\t\tfor j in range(i + 1, len(array)):\r\n",
    "\t\t\tsecondNum = array[j]\r\n",
    "\t\t\tif firstNum + secondNum == targetSum:\r\n",
    "\t\t\t\treturn [firstNum, secondNum]\r\n",
    "\treturn []"
   ],
   "outputs": [],
   "metadata": {}
  },
  {
   "cell_type": "code",
   "execution_count": null,
   "source": [],
   "outputs": [],
   "metadata": {}
  }
 ],
 "metadata": {
  "orig_nbformat": 4,
  "language_info": {
   "name": "python",
   "version": "3.8.5",
   "mimetype": "text/x-python",
   "codemirror_mode": {
    "name": "ipython",
    "version": 3
   },
   "pygments_lexer": "ipython3",
   "nbconvert_exporter": "python",
   "file_extension": ".py"
  },
  "kernelspec": {
   "name": "python3",
   "display_name": "Python 3.8.5 64-bit ('base': conda)"
  },
  "interpreter": {
   "hash": "d421f7e0be82773f79ff071f6681b3a26ad583fa2b319fe248c43945bdde9151"
  }
 },
 "nbformat": 4,
 "nbformat_minor": 2
}