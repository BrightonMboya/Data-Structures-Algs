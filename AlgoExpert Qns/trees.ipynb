{
 "cells": [
  {
   "cell_type": "markdown",
   "source": [
    "# Binary Search Tree Traversals"
   ],
   "metadata": {}
  },
  {
   "cell_type": "code",
   "execution_count": 1,
   "source": [
    "class Node:\r\n",
    "    def __init__(self, value):\r\n",
    "        self.value = value\r\n",
    "        self.left = None\r\n",
    "        self.right = None\r\n",
    "\r\n",
    "class BST:\r\n",
    "    def __init__(self, root):\r\n",
    "        self.root = None\r\n",
    "    \r\n",
    "    def add(self, current, value):\r\n",
    "        if self.root == None:\r\n",
    "            self.root = Node(value)\r\n",
    "        else:\r\n",
    "            if value < current.value:\r\n",
    "                if current.left == None:\r\n",
    "                    current.left = Node(value)\r\n",
    "                else:\r\n",
    "                    self.add(current.left, value)\r\n",
    "            if value > current.value:\r\n",
    "                if current.right == None:\r\n",
    "                    current.right = Node(value)\r\n",
    "                else:\r\n",
    "                    self.add(current.right, value)\r\n",
    "\r\n",
    "    def visit(self, node):\r\n",
    "        print(node.value)\r\n",
    "    \r\n",
    "    def preOrder(self, current):\r\n",
    "        self.visit(current)\r\n",
    "        self.preOrder(current.left)\r\n",
    "        self.preOrder(current.right)\r\n",
    "    \r\n",
    "    def postOrder(self, current):\r\n",
    "        self.postOrder(current.left)\r\n",
    "        self.postOrder(current.right)\r\n",
    "        self.visit(current)\r\n",
    "\r\n",
    "    def inOrder(self, current):\r\n",
    "        self.inOrder(current.left)\r\n",
    "        self.visit(current)\r\n",
    "        self.inOrder(current.right)\r\n",
    "\r\n",
    "\r\n",
    "            "
   ],
   "outputs": [],
   "metadata": {}
  },
  {
   "cell_type": "markdown",
   "source": [
    "## BST Construction\r\n",
    "\r\n",
    "Write a `BST` class for a Binary Search Tree. The class should support:\r\n",
    " * Inserting values with the `insert` method.\r\n",
    " * Removing values with the `remove` method; this method should only remove the first instance of a given value.\r\n",
    " * Searching for values with the `contains` method\r\n",
    "\r\n",
    " Note that you can't remove values from a single-node. In other words, calling the `remove` method on a single-node tree should simply not do anything.\r\n",
    "\r\n",
    " Each `BST` node has an integer `value`, a `left` child node, and a `right` child node. A node is said to be valid `BST` if and only if it satisfies the BST property: its `value` is strictly greater than the values of every node to its `value` is less than or equal to the values of every node to its right, and its children nodes are either valid `BST` nodes themselves or `None`"
   ],
   "metadata": {}
  },
  {
   "cell_type": "code",
   "execution_count": 3,
   "source": [
    "# Do not edit the class below except for\r\n",
    "# the insert, contains, and remove methods.\r\n",
    "# Feel free to add new properties and methods\r\n",
    "# to the class.\r\n",
    "class BST:\r\n",
    "    def __init__(self, value):\r\n",
    "        self.value = value\r\n",
    "        self.left = None\r\n",
    "        self.right = None\r\n",
    "\r\n",
    "    def insert(self, value):\r\n",
    "        # Write your code here.\r\n",
    "        # Do not edit the return statement of this method.\r\n",
    "\t\tcurrent= self\r\n",
    "\t\twhile True:\r\n",
    "\t\t\tif value < current.value:\r\n",
    "\t\t\t\tif current.left is None:\r\n",
    "\t\t\t\t\tcurrent.left = BST(value)\r\n",
    "\t\t\t\t\tbreak\r\n",
    "\t\t\t\telse:\r\n",
    "\t\t\t\t\tcurrent = current.left\r\n",
    "\t\t\telse:\r\n",
    "\t\t\t\tif current.right is None:\r\n",
    "\t\t\t\t\tcurrent.right = BST(value)\r\n",
    "\t\t\t\t\tbreak\r\n",
    "\t\t\t\telse:\r\n",
    "\t\t\t\t\tcurrent = current.right\r\n",
    "        return self\r\n",
    "\r\n",
    "    def contains(self, value):\r\n",
    "        # Write your code here.\r\n",
    "\t\tcurrent = self\r\n",
    "\t\twhile current is not None:\r\n",
    "\t\t\tif value < current.value:\r\n",
    "\t\t\t\tcurrent = current.left\r\n",
    "\t\t\telif value > current.value:\r\n",
    "\t\t\t\tcurrent = current.right\r\n",
    "\t\t\telse:\r\n",
    "\t\t\t\treturn True\r\n",
    "\t\treturn False\r\n",
    "\t\r\n",
    "\tdef remove(self, value, parentNode = None):\r\n",
    "\t\tcurrentNode = self\r\n",
    "\t\twhile currentNode is not None:\r\n",
    "\t\t\tif value < currentNode.value:\r\n",
    "\t\t\t\tparentNode= currentNode\r\n",
    "\t\t\t\tcurrentNode = currentNode.left\r\n",
    "\t\t\telif value > currentNode.value:\r\n",
    "\t\t\t\tparentNode = currentNode\r\n",
    "\t\t\t\tcurrentNode= currentNode.right\r\n",
    "\t\t\telse:\r\n",
    "\t\t\t\tif currentNode.left is not None and currentNode.right is not None:\r\n",
    "\t\t\t\t\tcurrentNode.value = currentNode.right.getMinValue()\r\n",
    "\t\t\t\t\tcurrentNode.right.remove(currentNode.value, currentNode)\r\n",
    "\t\t\t\telif parentNode is None:\r\n",
    "\t\t\t\t\tif currentNode.left is not None:\r\n",
    "\t\t\t\t\t\tcurrentNode.value= currentNode.left.value\r\n",
    "\t\t\t\t\t\tcurrentNode.right = currentNode.left.right\r\n",
    "\t\t\t\t\t\tcurrentNode.left = currentNode.left.left\r\n",
    "\t\t\t\t\telif currentNode.right is not None:\r\n",
    "\t\t\t\t\t\tcurrentNode.value= currentNode.right.value\r\n",
    "\t\t\t\t\t\tcurrentNode.left = currentNode.right.left\r\n",
    "\t\t\t\t\t\tcurrentNode.right = currentNode.right.right\r\n",
    "\t\t\t\t\telse:\r\n",
    "\t\t\t\t\t\tpass\r\n",
    "\t\t\t\telif parentNode.left == currentNode:\r\n",
    "\t\t\t\t\tparentNode.left = currentNode.left if currentNode.left is not None else currentNode.right\r\n",
    "\t\t\t\telif parentNode.right == currentNode:\r\n",
    "\t\t\t\t\tparentNode.right = currentNode.left if currentNode.left is not None else currentNode.right\r\n",
    "\t\t\t\tbreak\r\n",
    "\t\treturn self\r\n",
    "\t\r\n",
    "\tdef getMinValue(self):\r\n",
    "\t\tcurrentNode = self\r\n",
    "\t\twhile currentNode.left is not None:\r\n",
    "\t\t\tcurrentNode= currentNode.left\r\n",
    "\t\treturn currentNode.value"
   ],
   "outputs": [
    {
     "output_type": "error",
     "ename": "IndentationError",
     "evalue": "unindent does not match any outer indentation level (<tokenize>, line 28)",
     "traceback": [
      "\u001b[1;36m  File \u001b[1;32m\"<tokenize>\"\u001b[1;36m, line \u001b[1;32m28\u001b[0m\n\u001b[1;33m    return self\u001b[0m\n\u001b[1;37m    ^\u001b[0m\n\u001b[1;31mIndentationError\u001b[0m\u001b[1;31m:\u001b[0m unindent does not match any outer indentation level\n"
     ]
    }
   ],
   "metadata": {}
  },
  {
   "cell_type": "markdown",
   "source": [
    "## BST Traversal\r\n",
    "\r\n",
    "Write three functions that take in a Binary Search Tree(BST) and an empty array, traverse the BST, add its nodes' values to the input array, ad return that array. The Three functions should traverse the BST using the in-order,pre-order and post-order-traversal techniques respectively.\r\n",
    "\r\n",
    " Each `BST` node has an integer `value`, a `left` child node, and a `right` child node. A node is said to be valid `BST` if and only if it satisfies the BST property: its `value` is strictly greater than the values of every node to its `value` is less than or equal to the values of every node to its right, and its children nodes are either valid `BST` nodes themselves or `None`"
   ],
   "metadata": {}
  },
  {
   "cell_type": "code",
   "execution_count": 4,
   "source": [
    "def inOrderTraverse(tree, array):\r\n",
    "    # Write your code here.\r\n",
    "\tif tree is not None:\r\n",
    "\t\tinOrderTraverse(tree.left, array)\r\n",
    "\t\tvisit(tree, array)\r\n",
    "\t\tinOrderTraverse(tree.right, array)\r\n",
    "\treturn array\r\n",
    "\r\n",
    "\r\n",
    "def preOrderTraverse(tree, array):\r\n",
    "    # Write your code here.\r\n",
    "\tif tree is not None:\r\n",
    "\t\tvisit(tree, array)\r\n",
    "\t\tpreOrderTraverse(tree.left, array)\r\n",
    "\t\tpreOrderTraverse(tree.right, array)\r\n",
    "\treturn array\r\n",
    "\r\n",
    "\r\n",
    "def postOrderTraverse(tree, array):\r\n",
    "    # Write your code here.\r\n",
    "\tif tree is not None:\r\n",
    "\t\tpostOrderTraverse(tree.left,array)\r\n",
    "\t\tpostOrderTraverse(tree.right, array)\r\n",
    "\t\tvisit(tree, array)\r\n",
    "\treturn array\r\n",
    "\r\n",
    "def visit(tree, array):\r\n",
    "\tarray.append(tree.value)"
   ],
   "outputs": [],
   "metadata": {}
  },
  {
   "cell_type": "markdown",
   "source": [
    "## Find closest Value in BST\r\n",
    "\r\n",
    "Write a function that takes in a Binary Search Tree (BST) and a target integer value and returns the closest value to the target value contained in the BST.\r\n",
    "\r\n",
    "You can assume that there will only one be one closest value.\r\n",
    "\r\n",
    "Each `BST` node has an integer `value`, a `left` child node, and a `right` child node. A node is said to be valid `BST` if and only if it satisfies the BST property: its `value` is strictly greater than the values of every node to its `value` is less than or equal to the values of every node to its right, and its children nodes are either valid `BST` nodes themselves or `None`"
   ],
   "metadata": {}
  },
  {
   "cell_type": "code",
   "execution_count": null,
   "source": [
    "def findClosestValueInBst(tree, target):\r\n",
    "    # Write your code here.\r\n",
    "    return findClosestValueHelper(tree, target, tree.value)\r\n",
    "\r\n",
    "def findClosestValueHelper(tree, target, closest):\r\n",
    "\tif tree is None:\r\n",
    "\t\treturn closest\r\n",
    "\tif abs(target-closest) > abs(target - tree.value):\r\n",
    "\t\tclosest = tree.value\r\n",
    "\tif target < tree.value:\r\n",
    "\t\treturn findClosestValueHelper(tree.left, target, closest)\r\n",
    "\telif target > tree.value:\r\n",
    "\t\treturn findClosestValueHelper(tree.right, target, closest)\r\n",
    "\telse:\r\n",
    "\t\treturn closest\r\n",
    "\t\r\n",
    "\r\n",
    "\r\n",
    "# This is the class of the input tree. Do not edit.\r\n",
    "class BST:\r\n",
    "    def __init__(self, value):\r\n",
    "        self.value = value\r\n",
    "        self.left = None\r\n",
    "        self.right = None"
   ],
   "outputs": [],
   "metadata": {}
  },
  {
   "cell_type": "markdown",
   "source": [
    "## Invert a Binary Tree\r\n",
    "\r\n",
    "Write a function that takes in a Binary Tree and inverts it. In other words, the function should swap every left node in the tree for its corresponding right node.\r\n",
    "\r\n",
    "Each `Binary Tree` node has an integer `value`, a `left` child node, and a `right` child node. Children nodes can either be a `BinaryTree` nodes themselves or `None`"
   ],
   "metadata": {}
  },
  {
   "cell_type": "code",
   "execution_count": 7,
   "source": [
    "def invertBinaryTree(tree):\r\n",
    "\t# Write your code here.\r\n",
    "\tif tree == None:\r\n",
    "\t\treturn\r\n",
    "\tswapLeftAndRight(tree)\r\n",
    "\tinvertBinaryTree(tree.left)\r\n",
    "\tinvertBinaryTree(tree.right)\t\r\n",
    "\treturn tree\r\n",
    "\r\n",
    "def swapLeftAndRight(tree):\r\n",
    "\ttree.left, tree.right = tree.right, tree.left\r\n",
    "\r\n",
    "\r\n",
    "# This is the class of the input binary tree.\r\n",
    "class BinaryTree:\r\n",
    "\tdef __init__(self, value):\r\n",
    "\t\tself.value = value\r\n",
    "\t\tself.left = None\r\n",
    "\t\tself.right = None"
   ],
   "outputs": [],
   "metadata": {}
  },
  {
   "cell_type": "markdown",
   "source": [
    "## Branch Sums\r\n",
    "\r\n",
    "Write a function that takes in a Binary Tree and returns a list of its branch sums ordered from leftmost branch to rightmostbranch sum.\r\n",
    "\r\n",
    "A branch sum is the sum of all values in a binary Tree Branch. A binary tree branch is the path of nodes in a tree that starts at the root node and end at any leaf node.\r\n",
    "\r\n",
    "Each `Binary Tree` node has an integer `value`, a `left` child node, and a `right` child node. Children nodes can either be a `BinaryTree` nodes themselves or `None`"
   ],
   "metadata": {}
  },
  {
   "cell_type": "code",
   "execution_count": 9,
   "source": [
    "# This is the class of the input root. Do not edit it.\r\n",
    "class BinaryTree:\r\n",
    "\tdef __init__(self, value):\r\n",
    "\t\tself.value = value\r\n",
    "\t\tself.left = None\r\n",
    "\t\tself.right = None\r\n",
    "\r\n",
    "\r\n",
    "def branchSums(root):\r\n",
    "\t# Write your code here.\r\n",
    "\tsums = []\r\n",
    "\tcalculateBranchSum(root, 0, sums)\r\n",
    "\treturn sums\r\n",
    "\r\n",
    "def calculateBranchSum(node, runningSum, sums):\r\n",
    "\tif node is None:\r\n",
    "\t\treturn \r\n",
    "\tnewRunningSum = runningSum + node.value\r\n",
    "\tif node.left is None and node.right is None:\r\n",
    "\t\tsums.append(newRunningSum)\r\n",
    "\t\treturn\r\n",
    "\tcalculateBranchSum(node.left, newRunningSum, sums)\r\n",
    "\tcalculateBranchSum(node.right, newRunningSum, sums)"
   ],
   "outputs": [],
   "metadata": {}
  },
  {
   "cell_type": "markdown",
   "source": [
    "## Node Depths\r\n",
    "\r\n",
    "The distance between a node in a Binary Tree and the tree's root is called the node's depth.\r\n",
    "\r\n",
    "Write a function that takes in a Binary Tree and returns the sum of its nodes' depths\r\n",
    "\r\n",
    "Each `Binary Tree` node has an integer `value`, a `left` child node, and a `right` child node. Children nodes can either be a `BinaryTree` nodes themselves or `None`"
   ],
   "metadata": {}
  },
  {
   "cell_type": "code",
   "execution_count": 10,
   "source": [
    "def nodeDepths(root):\r\n",
    "    # Write your code here.\r\n",
    "\tsumOfDepths = 0\r\n",
    "\tstack = [{\"node\": root, 'depth':0}]\r\n",
    "\twhile len(stack) > 0:\r\n",
    "\t\tnodeInfo = stack.pop()\r\n",
    "\t\tnode, depth = nodeInfo['node'], nodeInfo['depth']\r\n",
    "\t\tif node is None:\r\n",
    "\t\t\tcontinue\r\n",
    "\t\tsumOfDepths += depth\r\n",
    "\t\tstack.append({'node': node.left, 'depth': depth+1})\r\n",
    "\t\tstack.append({'node' :node.right, 'depth': depth+1})\r\n",
    "\treturn sumOfDepths\r\n",
    "\t\r\n",
    "# This is the class of the input binary tree.\r\n",
    "class BinaryTree:\r\n",
    "    def __init__(self, value):\r\n",
    "        self.value = value\r\n",
    "        self.left = None\r\n",
    "        self.right = None"
   ],
   "outputs": [],
   "metadata": {}
  },
  {
   "cell_type": "code",
   "execution_count": 2,
   "source": [
    "def minimumWaitingTime(queries):\r\n",
    "\t# Write your code here.\r\n",
    "\tqueries.sort()\r\n",
    "\twaitingTime = 0\r\n",
    "\ti = 0\r\n",
    "\twhile i < len(queries)-1:\r\n",
    "\t\twaitingTime += queries[i] + waitingTime\r\n",
    "\t\ti += 1\r\n",
    "\treturn waitingTime\r\n",
    "\r\n",
    "minimumWaitingTime([1,4,5])"
   ],
   "outputs": [
    {
     "output_type": "execute_result",
     "data": {
      "text/plain": [
       "6"
      ]
     },
     "metadata": {},
     "execution_count": 2
    }
   ],
   "metadata": {}
  },
  {
   "cell_type": "code",
   "execution_count": null,
   "source": [
    "x =5\r\n",
    "x% = 10\r\n",
    "x"
   ],
   "outputs": [],
   "metadata": {}
  },
  {
   "cell_type": "markdown",
   "source": [],
   "metadata": {}
  }
 ],
 "metadata": {
  "orig_nbformat": 4,
  "language_info": {
   "name": "python",
   "version": "3.8.10",
   "mimetype": "text/x-python",
   "codemirror_mode": {
    "name": "ipython",
    "version": 3
   },
   "pygments_lexer": "ipython3",
   "nbconvert_exporter": "python",
   "file_extension": ".py"
  },
  "kernelspec": {
   "name": "python3",
   "display_name": "Python 3.8.10 64-bit ('Tony_ml': conda)"
  },
  "interpreter": {
   "hash": "cde3ec76907d9d896e943ab917179e131da7cf4b500ea9b151f784767f25e879"
  }
 },
 "nbformat": 4,
 "nbformat_minor": 2
}