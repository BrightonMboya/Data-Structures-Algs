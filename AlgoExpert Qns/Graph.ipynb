{
 "cells": [
  {
   "cell_type": "markdown",
   "source": [
    "## Depth-First Search\r\n",
    "\r\n",
    "You're given a `Node` class that has a `name` and an array of optional `children` nodes. when put tgether, nodes form an acyclic tree-like structure.\r\n",
    "\r\n",
    "Implement the `depthFirstSearch` method on the `Node` class, which takes in an empty array, traverses the tree using the Depth-first Search approach (specifically navigating the tree from left to right), stores all of the nodes names in the input array, and returns it."
   ],
   "metadata": {}
  },
  {
   "cell_type": "code",
   "execution_count": 2,
   "source": [
    "# Do not edit the class below except\r\n",
    "# for the depthFirstSearch method.\r\n",
    "# Feel free to add new properties\r\n",
    "# and methods to the class.\r\n",
    "class Node:\r\n",
    "\tdef __init__(self, name):\r\n",
    "\t\tself.children = [] \r\n",
    "\t\tself.name = name \r\n",
    "\r\n",
    "\tdef addChild(self, name):\r\n",
    "\t\tself.children.append(Node(name))\r\n",
    "\t\treturn self\r\n",
    "\r\n",
    "\tdef depthFirstSearch(self, array):\r\n",
    "\t\t# Write your code here.\r\n",
    "\t\t# A -->Pop it -->print it --> look for the neighbors of A --> Apppend it to the stack\r\n",
    "\t\tarray.append(self.name)\r\n",
    "\t\tfor child in self.children:\r\n",
    "\t\t\tchild.depthFirstSearch(array)\r\n",
    "\t\treturn array"
   ],
   "outputs": [],
   "metadata": {}
  },
  {
   "cell_type": "markdown",
   "source": [
    "## Breadth First Search\r\n",
    "\r\n",
    "You're given a `Node` class that has a `name` and an array of optional `children` nodes. When put together, nodes form an acyclic tree-like structure.\r\n",
    "\r\n",
    "Implement the `breadthFirstSearch` method on the `Node` class, which takes in an empty array, taverses the tree using the Breadth-first Search approach (specifically navigating the tree from left to right), stores all of the nodes's names in an input array, and returns it"
   ],
   "metadata": {}
  },
  {
   "cell_type": "code",
   "execution_count": 4,
   "source": [
    "# Do not edit the class below except\r\n",
    "# for the breadthFirstSearch method.\r\n",
    "# Feel free to add new properties\r\n",
    "# and methods to the class.\r\n",
    "class Node:\r\n",
    "\tdef __init__(self, name):\r\n",
    "\t\tself.children = []\r\n",
    "\t\tself.name = name\r\n",
    "\r\n",
    "\tdef addChild(self, name):\r\n",
    "\t\tself.children.append(Node(name))\r\n",
    "\t\treturn self\r\n",
    "\r\n",
    "\tdef breadthFirstSearch(self, array):\r\n",
    "\t\t# Write your code here.\r\n",
    "\t\tfrom collections import deque\r\n",
    "\t\tqueue = deque([self])\r\n",
    "\t\twhile len(queue) > 0:\r\n",
    "\t\t\tcurrent = queue.popleft()\r\n",
    "\t\t\tarray.append(current.name)\r\n",
    "\t\t\tfor child in current.children:\r\n",
    "\t\t\t\tqueue.append(child)\r\n",
    "\t\treturn array\r\n",
    "\t\t"
   ],
   "outputs": [],
   "metadata": {}
  },
  {
   "cell_type": "markdown",
   "source": [
    "## River Sizes\r\n",
    "\r\n",
    "You're given a two-dimensional array (a matrix) of potentially unequal height and width containing only 0s and 1s. Each 0 represents land, and each 1 represents a river. A river consists of any number of 1s that are either horizontally or vertically adjacent (but not diagonally adjacent). The number of adjacent 1s forming a river determine its size.\r\n",
    "\r\n",
    "Note that a river can twist. In other words, it doesn't have to be straight vertical line or a staright horizontal line; it can be L-shaped, for example.\r\n",
    "\r\n",
    "Write a function that returns an array of the sizes of all rivers represented in the input matrix. The size don't need to be in any particular order."
   ],
   "metadata": {}
  },
  {
   "cell_type": "code",
   "execution_count": 5,
   "source": [
    "def riverSizes(matrix):\r\n",
    "    # Write your code here.\r\n",
    "\tsize = []\r\n",
    "\tvisited = [[False for value in row] for row in matrix]\r\n",
    "\tfor i in range(len(matrix)):\r\n",
    "\t\tfor j in range(len(matrix[i])):\r\n",
    "\t\t\tif visited[i][j]:\r\n",
    "\t\t\t\tcontinue\r\n",
    "\t\t\ttraverseNode(i, j, matrix, visited, size)\r\n",
    "\treturn size\r\n",
    "\r\n",
    "def traverseNode(i, j, matrix, visited, size):\r\n",
    "\tcurrentRiverSize= 0\r\n",
    "\tnodesToExplore= [[i, j]]\r\n",
    "\twhile len(nodesToExplore) > 0:\r\n",
    "\t\tcurrentNode= nodesToExplore.pop()\r\n",
    "\t\ti= currentNode[0]\r\n",
    "\t\tj= currentNode[1]\r\n",
    "\t\tif visited[i][j]:\r\n",
    "\t\t\tcontinue\r\n",
    "\t\tvisited[i][j] = True\r\n",
    "\t\tif matrix[i][j] == 0:\r\n",
    "\t\t\tcontinue\r\n",
    "\t\tcurrentRiverSize += 1\r\n",
    "\t\tunvisitedNeighbor = getUnvisitedNeighbors(i, j, matrix, visited)\r\n",
    "\t\tfor neighbor in unvisitedNeighbor:\r\n",
    "\t\t\tnodesToExplore.append(neighbor)\r\n",
    "\tif currentRiverSize > 0:\r\n",
    "\t\tsize.append(currentRiverSize)\r\n",
    "\t\t\r\n",
    "def getUnvisitedNeighbors(i, j, matrix, visited):\r\n",
    "\tunvisitedNeighbor = []\r\n",
    "\tif i > 0 and not visited[i-1][j]:\r\n",
    "\t\tunvisitedNeighbor.append([i-1, j])\r\n",
    "\tif i < len(matrix)-1 and not visited[i+1][j]:\r\n",
    "\t\tunvisitedNeighbor.append([i+1, j])\r\n",
    "\tif j > 0 and not visited[i][j-1]:\r\n",
    "\t\tunvisitedNeighbor.append([i, j-1])\r\n",
    "\tif j < len(matrix[0])-1 and not visited[i][j+1]:\r\n",
    "\t\tunvisitedNeighbor.append([i, j+1])\r\n",
    "\treturn unvisitedNeighbor"
   ],
   "outputs": [],
   "metadata": {}
  },
  {
   "cell_type": "code",
   "execution_count": null,
   "source": [],
   "outputs": [],
   "metadata": {}
  }
 ],
 "metadata": {
  "orig_nbformat": 4,
  "language_info": {
   "name": "python",
   "version": "3.8.10",
   "mimetype": "text/x-python",
   "codemirror_mode": {
    "name": "ipython",
    "version": 3
   },
   "pygments_lexer": "ipython3",
   "nbconvert_exporter": "python",
   "file_extension": ".py"
  },
  "kernelspec": {
   "name": "python3",
   "display_name": "Python 3.8.10 64-bit ('Tony_ml': conda)"
  },
  "interpreter": {
   "hash": "3cda1abfc2264e5aafed419a9d1c945a6bcbd7c77187ca59a7878bb80eaea557"
  }
 },
 "nbformat": 4,
 "nbformat_minor": 2
}