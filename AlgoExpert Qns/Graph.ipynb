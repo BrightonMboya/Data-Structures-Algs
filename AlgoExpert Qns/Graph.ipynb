{
 "cells": [
  {
   "cell_type": "markdown",
   "source": [
    "## Depth-First Search\r\n",
    "\r\n",
    "You're given a `Node` class that has a `name` and an array of optional `children` nodes. when put tgether, nodes form an acyclic tree-like structure.\r\n",
    "\r\n",
    "Implement the `depthFirstSearch` method on the `Node` class, which takes in an empty array, traverses the tree using the Depth-first Search approach (specifically navigating the tree from left to right), stores all of the nodes names in the input array, and returns it."
   ],
   "metadata": {}
  },
  {
   "cell_type": "code",
   "execution_count": 2,
   "source": [
    "# Do not edit the class below except\r\n",
    "# for the depthFirstSearch method.\r\n",
    "# Feel free to add new properties\r\n",
    "# and methods to the class.\r\n",
    "class Node:\r\n",
    "\tdef __init__(self, name):\r\n",
    "\t\tself.children = [] \r\n",
    "\t\tself.name = name \r\n",
    "\r\n",
    "\tdef addChild(self, name):\r\n",
    "\t\tself.children.append(Node(name))\r\n",
    "\t\treturn self\r\n",
    "\r\n",
    "\tdef depthFirstSearch(self, array):\r\n",
    "\t\t# Write your code here.\r\n",
    "\t\t# A -->Pop it -->print it --> look for the neighbors of A --> Apppend it to the stack\r\n",
    "\t\tarray.append(self.name)\r\n",
    "\t\tfor child in self.children:\r\n",
    "\t\t\tchild.depthFirstSearch(array)\r\n",
    "\t\treturn array"
   ],
   "outputs": [],
   "metadata": {}
  },
  {
   "cell_type": "markdown",
   "source": [
    "## Breadth First Search\r\n",
    "\r\n",
    "You're given a `Node` class that has a `name` and an array of optional `children` nodes. When put together, nodes form an acyclic tree-like structure.\r\n",
    "\r\n",
    "Implement the `breadthFirstSearch` method on the `Node` class, which takes in an empty array, taverses the tree using the Breadth-first Search approach (specifically navigating the tree from left to right), stores all of the nodes's names in an input array, and returns it"
   ],
   "metadata": {}
  },
  {
   "cell_type": "code",
   "execution_count": 4,
   "source": [
    "# Do not edit the class below except\r\n",
    "# for the breadthFirstSearch method.\r\n",
    "# Feel free to add new properties\r\n",
    "# and methods to the class.\r\n",
    "class Node:\r\n",
    "\tdef __init__(self, name):\r\n",
    "\t\tself.children = []\r\n",
    "\t\tself.name = name\r\n",
    "\r\n",
    "\tdef addChild(self, name):\r\n",
    "\t\tself.children.append(Node(name))\r\n",
    "\t\treturn self\r\n",
    "\r\n",
    "\tdef breadthFirstSearch(self, array):\r\n",
    "\t\t# Write your code here.\r\n",
    "\t\tfrom collections import deque\r\n",
    "\t\tqueue = deque([self])\r\n",
    "\t\twhile len(queue) > 0:\r\n",
    "\t\t\tcurrent = queue.popleft()\r\n",
    "\t\t\tarray.append(current.name)\r\n",
    "\t\t\tfor child in current.children:\r\n",
    "\t\t\t\tqueue.append(child)\r\n",
    "\t\treturn array\r\n",
    "\t\t"
   ],
   "outputs": [],
   "metadata": {}
  },
  {
   "cell_type": "markdown",
   "source": [
    "## River Sizes\r\n",
    "\r\n",
    "You're given a two-dimensional array (a matrix) of potentially unequal height and width containing only 0s and 1s. Each 0 represents land, and each 1 represents a river. A river consists of any number of 1s that are either horizontally or vertically adjacent (but not diagonally adjacent). The number of adjacent 1s forming a river determine its size.\r\n",
    "\r\n",
    "Note that a river can twist. In other words, it doesn't have to be straight vertical line or a staright horizontal line; it can be L-shaped, for example.\r\n",
    "\r\n",
    "Write a function that returns an array of the sizes of all rivers represented in the input matrix. The size don't need to be in any particular order."
   ],
   "metadata": {}
  },
  {
   "cell_type": "code",
   "execution_count": 5,
   "source": [
    "def riverSizes(matrix):\r\n",
    "    # Write your code here.\r\n",
    "\tsize = []\r\n",
    "\tvisited = [[False for value in row] for row in matrix]\r\n",
    "\tfor i in range(len(matrix)):\r\n",
    "\t\tfor j in range(len(matrix[i])):\r\n",
    "\t\t\tif visited[i][j]:\r\n",
    "\t\t\t\tcontinue\r\n",
    "\t\t\ttraverseNode(i, j, matrix, visited, size)\r\n",
    "\treturn size\r\n",
    "\r\n",
    "def traverseNode(i, j, matrix, visited, size):\r\n",
    "\tcurrentRiverSize= 0\r\n",
    "\tnodesToExplore= [[i, j]]\r\n",
    "\twhile len(nodesToExplore) > 0:\r\n",
    "\t\tcurrentNode= nodesToExplore.pop()\r\n",
    "\t\ti= currentNode[0]\r\n",
    "\t\tj= currentNode[1]\r\n",
    "\t\tif visited[i][j]:\r\n",
    "\t\t\tcontinue\r\n",
    "\t\tvisited[i][j] = True\r\n",
    "\t\tif matrix[i][j] == 0:\r\n",
    "\t\t\tcontinue\r\n",
    "\t\tcurrentRiverSize += 1\r\n",
    "\t\tunvisitedNeighbor = getUnvisitedNeighbors(i, j, matrix, visited)\r\n",
    "\t\tfor neighbor in unvisitedNeighbor:\r\n",
    "\t\t\tnodesToExplore.append(neighbor)\r\n",
    "\tif currentRiverSize > 0:\r\n",
    "\t\tsize.append(currentRiverSize)\r\n",
    "\t\t\r\n",
    "def getUnvisitedNeighbors(i, j, matrix, visited):\r\n",
    "\tunvisitedNeighbor = []\r\n",
    "\tif i > 0 and not visited[i-1][j]:\r\n",
    "\t\tunvisitedNeighbor.append([i-1, j])\r\n",
    "\tif i < len(matrix)-1 and not visited[i+1][j]:\r\n",
    "\t\tunvisitedNeighbor.append([i+1, j])\r\n",
    "\tif j > 0 and not visited[i][j-1]:\r\n",
    "\t\tunvisitedNeighbor.append([i, j-1])\r\n",
    "\tif j < len(matrix[0])-1 and not visited[i][j+1]:\r\n",
    "\t\tunvisitedNeighbor.append([i, j+1])\r\n",
    "\treturn unvisitedNeighbor"
   ],
   "outputs": [],
   "metadata": {}
  },
  {
   "cell_type": "markdown",
   "source": [
    "## Youngest Common Ancestor\r\n",
    "\r\n",
    "You're given three inputs, all f which are instances of an `Ancestral Tree` class that have an `ancestor` property pointing to their youngest ancestor. The first input is the top ancestor in an ancestral tree(i.e the only instance that has no ancestor -- its `ancestor` property points to `None`), and the other two inputs are descendants in the ancestral tree.\r\n",
    "\r\n",
    "Write a function that returns the youngest common ancestor to the two descendants.\r\n",
    "\r\n",
    "Note that a descendant is considered its own ancestor. So in the simple ancestral tree below, the youngest common ancestor to Nodes A and B is node A\r\n",
    "\r\n",
    "    A\r\n",
    "\r\n",
    "   /\r\n",
    "\r\n",
    "   B"
   ],
   "metadata": {}
  },
  {
   "cell_type": "code",
   "execution_count": 37,
   "source": [
    "# This is an input class. Do not edit.\r\n",
    "class AncestralTree:\r\n",
    "    def __init__(self, name):\r\n",
    "        self.name = name\r\n",
    "        self.ancestor = None\r\n",
    "\r\n",
    "\r\n",
    "def getYoungestCommonAncestor(topAncestor, descendantOne, descendantTwo):\r\n",
    "    # Write your code here.\r\n",
    "\tdepthOne= findDepth(topAncestor, descendantOne)\r\n",
    "\tdepthTwo= findDepth(topAncestor, descendantTwo)\r\n",
    "\tif depthOne > depthTwo:\r\n",
    "\t\treturn backTrackAncestralTree(descendantOne, descendantTwo, depthOne - depthTwo)\r\n",
    "\telse:\r\n",
    "\t\treturn backTrackAncestralTree(descendantTwo, descendantOne, depthTwo - depthOne)\r\n",
    "\t\r\n",
    "def findDepth(topAncestor, ancestorChild):\r\n",
    "\tdepth = 0\r\n",
    "\twhile ancestorChild != topAncestor:\r\n",
    "\t\tdepth += 1\r\n",
    "\t\tancestorChild = ancestorChild.ancestor\r\n",
    "\treturn depth\r\n",
    "\r\n",
    "def backTrackAncestralTree(lowerDescendant, higherDescendant, diff):\r\n",
    "\twhile diff > 0:\r\n",
    "\t\tlowerDescendant = lowerDescendant.ancestor\r\n",
    "\t\tdiff -= 1\r\n",
    "\twhile lowerDescendant != higherDescendant:\r\n",
    "\t\tlowerDescendant = lowerDescendant.ancestor\r\n",
    "\t\thigherDescendant = higherDescendant.ancestor\r\n",
    "\treturn lowerDescendant\r\n"
   ],
   "outputs": [],
   "metadata": {}
  },
  {
   "cell_type": "markdown",
   "source": [
    "## Remove Islands\r\n",
    "\r\n",
    "You're given a two-dimensional array (a matrix) of potentially unequal height and width containing only `0`s and `1`s. The matrix represents a two-toned image, where each 1 represents black and each 0 representts white. An Island is defined as any number of `1`s that are horizontally or vertically adjacent (but not diagonally adjacent) and that don't touch the border of the image. In other words, a group of horizontally or vertically `1`s isn't an island of any of those `1`s are in the first row, lastrow, first column, or last column of the input matrix.\r\n",
    "\r\n",
    "Note that an island can twist. In other words, it doesn't have to be a straight vertical line or a straight horizontal line; it can be L-shaped, for example.\r\n",
    "\r\n",
    "You can think of islands as patches of black that don't touch the border of the two-toned image.\r\n",
    "\r\n",
    "Write a function that returns a modified version of the input matrix, where all of the islands are removed. You remove an island by replacing it with `0`s.\r\n",
    "\r\n",
    "Naturally, you're allowed to mutate the input matrix"
   ],
   "metadata": {}
  },
  {
   "cell_type": "code",
   "execution_count": 3,
   "source": [
    "# O(wh) time | O(wh) space -  where w and h \r\n",
    "# are width and height of the input matrix\r\n",
    "def removeIslands(matrix):\r\n",
    "    # Write your code here.\r\n",
    "\tonesConnectedToBorder = [[False for col in matrix[0]] for row in matrix]\r\n",
    "\tfor row in range(len(matrix)):\r\n",
    "\t\tfor col in range(len(matrix[row])):\r\n",
    "\t\t\trowIsBorder = row == 0 or row == len(matrix)-1\r\n",
    "\t\t\tcolIsBorder = col == 0 or col == len(matrix[row]) - 1\r\n",
    "\t\t\tisBorder = rowIsBorder or colIsBorder\r\n",
    "\t\t\t\r\n",
    "\t\t\tif not isBorder:\r\n",
    "\t\t\t\tcontinue\r\n",
    "\t\t\tif matrix[row][col] != 1:\r\n",
    "\t\t\t\tcontinue\r\n",
    "\t\t\t\r\n",
    "\t\t\tfindOnesConnectedToBorder(matrix, row, col, onesConnectedToBorder)\r\n",
    "\tfor row in range(1, len(matrix)-1):\r\n",
    "\t\tfor col in range(1, len(matrix[row]) -1):\r\n",
    "\t\t\tif onesConnectedToBorder[row][col]:\r\n",
    "\t\t\t\tcontinue\r\n",
    "\t\t\tmatrix[row][col] = 0\r\n",
    "\t\t\t\r\n",
    "\t\treturn matrix\r\n",
    "\r\n",
    "def findOnesConnectedToBorder(matrix, startRow, startCol, onesConnectedToBorder):\r\n",
    "\tstack = [(startRow, startCol)]\r\n",
    "\t\r\n",
    "\twhile len(stack) > 0:\r\n",
    "\t\tcurrentPosition = stack.pop()\r\n",
    "\t\tcurrentRow, currentCol= currentPosition\r\n",
    "\t\t\r\n",
    "\t\talreadyVisited= onesConnectedToBorder[currentRow][currentCol]\r\n",
    "\t\tif alreadyVisited:\r\n",
    "\t\t\tcontinue\r\n",
    "\t\tonesConnectedToBorder[currentRow][currentCol] = True\r\n",
    "\t\t\r\n",
    "\t\tneighbors = getNeighbors(matrix, currentRow, currentCol)\r\n",
    "\t\tfor neighbor in neighbors:\r\n",
    "\t\t\trow, col = neighbor\r\n",
    "\t\t\t\r\n",
    "\t\t\tif matrix[row][col] != 1:\r\n",
    "\t\t\t\tcontinue\r\n",
    "\t\t\tstack.append(neighbor)\r\n",
    "\t\t\t\r\n",
    "\r\n",
    "\t\t\t\r\n",
    "def getNeighbors(matrix, row, col):\r\n",
    "\tneighbors = []\r\n",
    "\tnumRows = len(matrix)\r\n",
    "\tnumCols = len(matrix[row])\r\n",
    "\tif row - 1 > 0:\r\n",
    "\t\tneighbors.append((row-1,col))\r\n",
    "\tif row+1 < numRows:\r\n",
    "\t\tneighbors.append((row+1, col))\r\n",
    "\tif col -1 > 0:\r\n",
    "\t\tneighbors.append((row, col-1))\r\n",
    "\tif col + 1 < numCols:\r\n",
    "\t\tneighbors.append((row, col+1))\r\n",
    "\t\r\n",
    "\treturn neighbors"
   ],
   "outputs": [],
   "metadata": {}
  },
  {
   "cell_type": "code",
   "execution_count": 10,
   "source": [
    "def isValidSubsequence(array, sequence):\r\n",
    "\t# Write your code here.\r\n",
    "\tans = []\r\n",
    "\tfor value in array:\r\n",
    "\t\tif value in sequence:\r\n",
    "\t\t\tans.append(value)\r\n",
    "\tif ans == sequence:\r\n",
    "\t\treturn True\r\n",
    "\telse:\r\n",
    "\t\treturn False\r\n",
    "isValidSubsequence([1, 1, 1, 1, 1], [1,1,1])"
   ],
   "outputs": [
    {
     "output_type": "execute_result",
     "data": {
      "text/plain": [
       "False"
      ]
     },
     "metadata": {},
     "execution_count": 10
    }
   ],
   "metadata": {}
  },
  {
   "cell_type": "markdown",
   "source": [
    "## Single Cycle Check\r\n",
    "\r\n",
    "You're given an array of integers where each integer represnets a jump of its value in the array. For instance, `2` represents a jump of two indices forward in the array; the integer `-3` represents a jump of three indices backward in the array.\r\n",
    "\r\n",
    "If a jump spills past the array's bounds, it wraps over to the other side. For instance, a jump of `-1` at index `0` brings us to the last index in the array. Similaraly, a jump of `1` at the last index in the array brings us to index `0`.\r\n",
    "\r\n",
    "Write a function that returns a boolean representing whether the jumps in the array form a single cycle. A single cycle occurs if, starting at any index in the array and following the jumpps, every element in the array is visited exactly once before landing back on the starting index"
   ],
   "metadata": {}
  },
  {
   "cell_type": "code",
   "execution_count": 2,
   "source": [
    "# Tip: You can use the type(element) function to check whether an item\r\n",
    "# is a list or an integer.\r\n",
    "def productSum(array, multiplier=1):\r\n",
    "\t# Write your code here.\r\n",
    "\tsums = 0\r\n",
    "\tfor element in array:\r\n",
    "\t\tif type(element) is list:\r\n",
    "\t\t\tsums += productSum(element, multiplier+1)\r\n",
    "\t\telse:\r\n",
    "\t\t\tsums += element\r\n",
    "\treturn sums * multiplier"
   ],
   "outputs": [],
   "metadata": {}
  },
  {
   "cell_type": "markdown",
   "source": [
    "## Cycle In Graph\r\n",
    "\r\n",
    "You're given a list of `edges` representing an unweighted, directed graph with at least one node. Write a function that returns a boolean representing whether the given graph contains a cycle.\r\n",
    "\r\n",
    "For the purpose of this question, a cycle is defined as any number of vertices, including just one vertex, that are connected in a closed chain. A cycle can also be defined as a chain of at least one vertex in which the first vertex is the same as the last.\r\n",
    "\r\n",
    "The given list is what's called an adjacency list, and it represnets a graph. The number of vertices in the graph is equal to the length of `edges`, where each index `i` in `edges`, where each index `i` in `edges` contains vertex `i`'s outbound edges, in no particular order. Each individual edge is represented by a positive integer that denotes an index (a destination vertex) in the list that this vertex is connected to. Note that these edges are directed, meaning that you can only travel from a particular vertex to its destination, not the other way arround (unless the destination vertex itself has an outbound edge to the original vertex)\r\n",
    "\r\n",
    "Also note that this graph may contain self-loops. A self-loop is an edge that has the same destination and origin; in other words, it's an edge that connects a vertex to itself. For the purpose of this question, a self loop is considered a cycle."
   ],
   "metadata": {}
  },
  {
   "cell_type": "code",
   "execution_count": 3,
   "source": [
    "WHITE, GREY, BLACK = 0,1,2\r\n",
    "#white means the node is univisited,\r\n",
    "#grey means the node is visited and it's already in the recursive stack\r\n",
    "# black means the node is visited and is not on the recursive stack\r\n",
    "def cycleInGraph(edges):\r\n",
    "\t# Write your code here.\r\n",
    "\tnumberOfNodes = len(edges)\r\n",
    "\tcolors = [WHITE for _ in range(numberOfNodes)]\r\n",
    "\tfor node in range(numberOfNodes):\r\n",
    "\t\tif colors[node] != WHITE:\r\n",
    "\t\t\tcontinue\r\n",
    "\t\tcontainsCycle = traverseAndColorNodes(node, edges, colors)\r\n",
    "\t\tif containsCycle:\r\n",
    "\t\t\treturn True\r\n",
    "\treturn False\r\n",
    "\r\n",
    "def traverseAndColorNodes(node, edges, colors):\r\n",
    "\tcolors[node] = GREY\r\n",
    "\tneighbors = edges[node]\r\n",
    "\tfor neighbor in neighbors:\r\n",
    "\t\tif colors[neighbor] == GREY:\r\n",
    "\t\t\treturn True\r\n",
    "\t\tif colors[neighbor] == BLACK:\r\n",
    "\t\t\tcontinue\r\n",
    "\t\tcontainsCycle = traverseAndColorNodes(neighbor, edges, colors)\r\n",
    "\t\tif containsCycle:\r\n",
    "\t\t\treturn True\r\n",
    "\tcolors[node] = BLACK\r\n",
    "\treturn False"
   ],
   "outputs": [],
   "metadata": {}
  },
  {
   "cell_type": "code",
   "execution_count": 1,
   "source": [
    "\r\n",
    "def Retype(n, k, s):\r\n",
    "    result = 0\r\n",
    "    result  += k - s\r\n",
    "    result += n-s+1\r\n",
    "    result += k -1\r\n",
    "    \r\n",
    "    timeAlreadySpent = k-1\r\n",
    "    timeToCompleteGame = n+1\r\n",
    "    result2 = timeAlreadySpent + timeToCompleteGame\r\n",
    "    return min(result, result2)"
   ],
   "outputs": [],
   "metadata": {}
  },
  {
   "cell_type": "code",
   "execution_count": 3,
   "source": [
    "Retype(10, 5, 2)"
   ],
   "outputs": [
    {
     "output_type": "execute_result",
     "data": {
      "text/plain": [
       "15"
      ]
     },
     "metadata": {},
     "execution_count": 3
    }
   ],
   "metadata": {}
  },
  {
   "cell_type": "code",
   "execution_count": null,
   "source": [],
   "outputs": [],
   "metadata": {}
  }
 ],
 "metadata": {
  "orig_nbformat": 4,
  "language_info": {
   "name": "python",
   "version": "3.8.10",
   "mimetype": "text/x-python",
   "codemirror_mode": {
    "name": "ipython",
    "version": 3
   },
   "pygments_lexer": "ipython3",
   "nbconvert_exporter": "python",
   "file_extension": ".py"
  },
  "kernelspec": {
   "name": "python3",
   "display_name": "Python 3.8.10 64-bit ('Tony_ml': conda)"
  },
  "interpreter": {
   "hash": "cde3ec76907d9d896e943ab917179e131da7cf4b500ea9b151f784767f25e879"
  }
 },
 "nbformat": 4,
 "nbformat_minor": 2
}