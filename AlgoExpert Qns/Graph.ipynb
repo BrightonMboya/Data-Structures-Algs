{
 "cells": [
  {
   "cell_type": "markdown",
   "source": [
    "## Depth-First Search\r\n",
    "\r\n",
    "You're given a `Node` class that has a `name` and an array of optional `children` nodes. when put tgether, nodes form an acyclic tree-like structure.\r\n",
    "\r\n",
    "Implement the `depthFirstSearch` method on the `Node` class, which takes in an empty array, traverses the tree using the Depth-first Search approach (specifically navigating the tree from left to right), stores all of the nodes names in the input array, and returns it."
   ],
   "metadata": {}
  },
  {
   "cell_type": "code",
   "execution_count": 2,
   "source": [
    "# Do not edit the class below except\r\n",
    "# for the depthFirstSearch method.\r\n",
    "# Feel free to add new properties\r\n",
    "# and methods to the class.\r\n",
    "class Node:\r\n",
    "\tdef __init__(self, name):\r\n",
    "\t\tself.children = [] \r\n",
    "\t\tself.name = name \r\n",
    "\r\n",
    "\tdef addChild(self, name):\r\n",
    "\t\tself.children.append(Node(name))\r\n",
    "\t\treturn self\r\n",
    "\r\n",
    "\tdef depthFirstSearch(self, array):\r\n",
    "\t\t# Write your code here.\r\n",
    "\t\t# A -->Pop it -->print it --> look for the neighbors of A --> Apppend it to the stack\r\n",
    "\t\tarray.append(self.name)\r\n",
    "\t\tfor child in self.children:\r\n",
    "\t\t\tchild.depthFirstSearch(array)\r\n",
    "\t\treturn array"
   ],
   "outputs": [],
   "metadata": {}
  },
  {
   "cell_type": "code",
   "execution_count": null,
   "source": [],
   "outputs": [],
   "metadata": {}
  }
 ],
 "metadata": {
  "orig_nbformat": 4,
  "language_info": {
   "name": "python",
   "version": "3.8.10",
   "mimetype": "text/x-python",
   "codemirror_mode": {
    "name": "ipython",
    "version": 3
   },
   "pygments_lexer": "ipython3",
   "nbconvert_exporter": "python",
   "file_extension": ".py"
  },
  "kernelspec": {
   "name": "python3",
   "display_name": "Python 3.8.10 64-bit ('Tony_ml': conda)"
  },
  "interpreter": {
   "hash": "3cda1abfc2264e5aafed419a9d1c945a6bcbd7c77187ca59a7878bb80eaea557"
  }
 },
 "nbformat": 4,
 "nbformat_minor": 2
}