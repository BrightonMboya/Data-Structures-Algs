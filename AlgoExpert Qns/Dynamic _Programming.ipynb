{
 "cells": [
  {
   "cell_type": "markdown",
   "source": [
    "### Number of Ways to Traverse Graph\r\n",
    "\r\n",
    "You're given two positive integers representing the width and height of a grid-shaped rectangular graph. Write a function that returns the number of ways to reach the bottom right corner of the graph when starting at the top left corner. Each move you take must either go down or right. In other words, you can never move up or left in the graph.\r\n",
    "\r\n",
    "For example, given the graph illustrated below, with `width = 2` and `height=3`, there are three ways to reach the bottom right corner when starting at the top left corner\""
   ],
   "metadata": {}
  },
  {
   "cell_type": "code",
   "execution_count": null,
   "source": [
    "def numberOfWaysToTraverseGraph(width, height):\r\n",
    "    # Write your code here.\r\n",
    "    return searchGraph(width, height)\r\n",
    "\r\n",
    "\r\n",
    "def searchGraph(m, n, memo={}):\r\n",
    "\tkey = str(m) + ','+ str(n)\r\n",
    "\tif key in memo:\r\n",
    "\t\treturn memo[key]\r\n",
    "\telif m == 0 or n == 0:\r\n",
    "\t\treturn 0\r\n",
    "\telif m == 1 or n == 1:\r\n",
    "\t\treturn 1\r\n",
    "\telse:\r\n",
    "\t\tresult = searchGraph(m-1, n, memo) + searchGraph(m, n-1, memo)\r\n",
    "\t\tmemo[key]= result\r\n",
    "\t\treturn result"
   ],
   "outputs": [],
   "metadata": {}
  },
  {
   "cell_type": "code",
   "execution_count": null,
   "source": [],
   "outputs": [],
   "metadata": {}
  }
 ],
 "metadata": {
  "orig_nbformat": 4,
  "language_info": {
   "name": "python",
   "version": "3.8.5"
  },
  "kernelspec": {
   "name": "python3",
   "display_name": "Python 3.8.5 64-bit ('base': conda)"
  },
  "interpreter": {
   "hash": "d421f7e0be82773f79ff071f6681b3a26ad583fa2b319fe248c43945bdde9151"
  }
 },
 "nbformat": 4,
 "nbformat_minor": 2
}