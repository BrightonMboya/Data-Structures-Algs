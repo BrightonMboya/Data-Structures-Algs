{
 "cells": [
  {
   "cell_type": "markdown",
   "source": [
    "## Min Heap Construction\r\n",
    "\r\n",
    "Implement a `MinHeap` class that supports:\r\n",
    "1. Building a Min Heap from an input array of integers\r\n",
    "2. Inserting integers in the heap.\r\n",
    "3. Removing the heap's minimum root/value\r\n",
    "4. Peeking at the heap's minimum/ root value\r\n",
    "5. Sifting integers up and down the heap, which is to be used when inerting and removing values.\r\n",
    "\r\n",
    "Note that the heap should be represented in the form of an array\r\n",
    "\r\n",
    "# sample usage\r\n",
    "// all properties below are perfomed sequentially\r\n",
    "array = [48, 12, 24, 7, 8, -5, 24, 391, 24, 56, 2, 6, 8, 41]\r\n",
    "MInHeap(array) # instantiate a minheap\r\n",
    "buildHeap(array) [-5, 2, 6, 7, 8,8, 24, 391, 24, 56, 12, 24, 48, 41]\r\n",
    "insert(76) [-5, 2, 6, 7, 8,8, 24, 391, 24, 56, 12, 24, 48, 41, 76]\r\n",
    "peek() 5\r\n",
    "remove() 2 , [ 6, 7, 8,8, 24, 391, 24, 56, 12, 24, 48, 41, 76]\r\n",
    "peek() 6\r\n"
   ],
   "metadata": {}
  },
  {
   "cell_type": "code",
   "execution_count": 1,
   "source": [
    "# Do not edit the class below except for the buildHeap,\r\n",
    "# siftDown, siftUp, peek, remove, and insert methods.\r\n",
    "# Feel free to add new properties and methods to the class.\r\n",
    "class MinHeap:\r\n",
    "\tdef __init__(self, array):\r\n",
    "\t\t# Do not edit the line below.\r\n",
    "\t\tself.heap = self.buildHeap(array)\t\r\n",
    "\r\n",
    "\tdef buildHeap(self, array):\r\n",
    "\t\t# Write your code here.\r\n",
    "\t\tfirstParentInx= (len(array)-2) //2\r\n",
    "\t\tfor currentInx in reversed(range(firstParentInx+1)):\r\n",
    "\t\t\tself.siftDown(currentInx, array)\r\n",
    "\t\treturn array\r\n",
    "\r\n",
    "\tdef siftDown(self, startInx, heap):\r\n",
    "\t\t# Write your code here.\r\n",
    "\t\tleftChildInx = (startInx *2) + 1\r\n",
    "\t\trightChildInx = (startInx * 2) +2\r\n",
    "\t\tlargest = startInx\r\n",
    "\t\tif len(heap) > leftChildInx and heap[largest] > heap[leftChildInx]:\r\n",
    "\t\t\tlargest = leftChildInx\r\n",
    "\t\tif len(heap) > rightChildInx and heap[largest] > heap[rightChildInx]:\r\n",
    "\t\t\tlargest = rightChildInx\r\n",
    "\t\tif largest != startInx:\r\n",
    "\t\t\tself.swap(largest, startInx, heap)\r\n",
    "\t\t\tself.siftDown(largest, heap)\r\n",
    "\t\t\t\r\n",
    "\tdef siftUp(self, startInx, heap):\r\n",
    "\t\t# Write your code here.\r\n",
    "\t\tparentInx = (startInx -1) //2\r\n",
    "\t\tif heap[parentInx] > heap[startInx]:\r\n",
    "\t\t\tself.swap(parentInx, startInx, self.heap)\r\n",
    "\t\t\tself.siftUp(parentInx, self.heap)\r\n",
    "\r\n",
    "\tdef peek(self):\r\n",
    "\t\t# Write your code here.\r\n",
    "\t\treturn self.heap[0]\r\n",
    "\r\n",
    "\tdef remove(self):\r\n",
    "\t\t# Write your code here.\r\n",
    "\t\tself.swap(0, len(self.heap)-1, self.heap)\r\n",
    "\t\tvalueToRemove = self.heap.pop()\r\n",
    "\t\tself.siftDown(0, self.heap)\r\n",
    "\t\treturn valueToRemove\r\n",
    "\r\n",
    "\tdef insert(self, value):\r\n",
    "\t\t# Write your code here.\r\n",
    "\t\tself.heap.append(value)\r\n",
    "\t\tself.siftUp(len(self.heap)-1, self.heap)\r\n",
    "\t\r\n",
    "\tdef swap(self, i, j, heap):\r\n",
    "\t\theap[i], heap[j] = heap[j], heap[i]\r\n"
   ],
   "outputs": [],
   "metadata": {}
  },
  {
   "cell_type": "code",
   "execution_count": null,
   "source": [],
   "outputs": [],
   "metadata": {}
  }
 ],
 "metadata": {
  "orig_nbformat": 4,
  "language_info": {
   "name": "python",
   "version": "3.8.5",
   "mimetype": "text/x-python",
   "codemirror_mode": {
    "name": "ipython",
    "version": 3
   },
   "pygments_lexer": "ipython3",
   "nbconvert_exporter": "python",
   "file_extension": ".py"
  },
  "kernelspec": {
   "name": "python3",
   "display_name": "Python 3.8.5 64-bit ('base': conda)"
  },
  "interpreter": {
   "hash": "d421f7e0be82773f79ff071f6681b3a26ad583fa2b319fe248c43945bdde9151"
  }
 },
 "nbformat": 4,
 "nbformat_minor": 2
}