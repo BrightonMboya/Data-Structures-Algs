{
 "cells": [
  {
   "cell_type": "markdown",
   "source": [
    "## Sorted Array\r\n",
    "\r\n",
    "Write a function that takes in a non-empty array of integers that are sorted in ascending order and returns a new array of the same length with the squares of the original integers also sorted in ascending order"
   ],
   "metadata": {}
  },
  {
   "cell_type": "code",
   "execution_count": 13,
   "source": [
    "def sortedSquaredArray(array):\r\n",
    "\t# Write your code here.\r\n",
    "\tans = []\r\n",
    "\tfor value in array:\r\n",
    "\t\tsquared_ans= value ** 2\r\n",
    "\t\tans.append(squared_ans)\r\n",
    "\tans.sort()\r\n",
    "\treturn ans"
   ],
   "outputs": [],
   "metadata": {}
  },
  {
   "cell_type": "markdown",
   "source": [
    "## Three Number Sum\r\n",
    "\r\n",
    "Write a function that takes in a non-empty array of distinct integers and an integer representing a target sum. The function should find all triplets in that array that sum up to the target sum and returns a two-demensional array of all these triplets. he numbers in each triplet should be ordered in ascending order, and the triplets themselves whould be ordered in ascending order with respect to the numbers they hold.\r\n",
    "\r\n",
    "If no three numbers sum up to the target sum, the function should return an empty array"
   ],
   "metadata": {}
  },
  {
   "cell_type": "code",
   "execution_count": 16,
   "source": [
    "def threeNumberSum(array, targetSum):\r\n",
    "\t# Write your code here.\r\n",
    "\ttriplets = []\r\n",
    "\tarray.sort()\r\n",
    "\tfor i in range(len(array) - 2):\r\n",
    "\t\tstart = i+1\r\n",
    "\t\tend = len(array)-1\r\n",
    "\t\twhile start < end:\r\n",
    "\t\t\tsumOfNumbers= array[i] + array[start] + array[end]\r\n",
    "\t\t\tif sumOfNumbers == targetSum:\r\n",
    "\t\t\t\ttriplets.append([array[i], array[start], array[end]])\r\n",
    "\t\t\t\tstart += 1\r\n",
    "\t\t\t\tend -= 1\r\n",
    "\t\t\telif sumOfNumbers < targetSum:\r\n",
    "\t\t\t\tstart += 1\r\n",
    "\t\t\telif sumOfNumbers > targetSum:\r\n",
    "\t\t\t\tend -= 1\r\n",
    "\treturn triplets"
   ],
   "outputs": [],
   "metadata": {}
  },
  {
   "cell_type": "markdown",
   "source": [
    "## Tournament Winner\r\n",
    "\r\n",
    "There is an algorithms tournament taking place where teams of programmers compete against each other to solve problems as fast as possible. Teams compete in a round robin, where each team faces off against all other teams.\r\n",
    "\r\n",
    "\r\n",
    "Only two teams compete against each other as a time, for each competition, one team is designated the home team while the other is the away team.\r\n",
    "In each competition there’s always one winner and one loser, there are no ties.\r\n",
    "\r\n",
    "\r\n",
    "A team receives 3 points if it wins and 0 points if it loses. The winning team is the team with the most points.\r\n",
    "Given an array of pairs representing the teams that have competed against each other an an array containing the result of each competition, create a function that returns the winner of the tournament.\r\n",
    "\r\n",
    "Sample_Input\r\n",
    "\r\n",
    "{\r\n",
    "  \"competitions\": [\r\n",
    "    [\"HTML\", \"C#\"],\r\n",
    "    [\"C#\", \"Python\"],\r\n",
    "    [\"Python\", \"HTML\"]\r\n",
    "  ],\r\n",
    "  \"results\": [0, 0, 1]\r\n",
    "}\r\n",
    "\r\n",
    "SampleOutput = python"
   ],
   "metadata": {}
  },
  {
   "cell_type": "code",
   "execution_count": 17,
   "source": [
    "def tournamentWinner(competitions, results):\r\n",
    "    # Write your code here.\r\n",
    "\tcurrentBest = ''\r\n",
    "\tfinal_ans = {currentBest: 0}\r\n",
    "\tinxResult= 0\r\n",
    "\tfor team in competitions:\r\n",
    "\t\thome_team = team[0]\r\n",
    "\t\taway_team = team[1]\r\n",
    "\t\t#update the dict for away team winning\r\n",
    "\t\tif results[inxResult] == 1:\r\n",
    "\t\t\twinningTeam = home_team\r\n",
    "\t\t\tinxResult += 1\r\n",
    "\t\t\tupdateWinner(winningTeam, final_ans)\r\n",
    "\t\t\tif final_ans[winningTeam] > final_ans[currentBest]:\r\n",
    "\t\t\t\tcurrentBest = winningTeam\r\n",
    "\t\t\t\r\n",
    "\t\telse:\r\n",
    "\t\t\twinningTeam = away_team\r\n",
    "\t\t\tinxResult += 1\r\n",
    "\t\t\tupdateWinner(winningTeam, final_ans)\r\n",
    "\t\t\tif final_ans[winningTeam] > final_ans[currentBest]:\r\n",
    "\t\t\t\tcurrentBest = winningTeam\r\n",
    "\treturn currentBest\r\n",
    "\r\n",
    "\r\n",
    "def updateWinner(team, final_ans):\r\n",
    "\tif team in final_ans:\r\n",
    "\t\tfinal_ans[team] += 3\r\n",
    "\telse:\r\n",
    "\t\tfinal_ans[team] = 3"
   ],
   "outputs": [],
   "metadata": {}
  },
  {
   "cell_type": "markdown",
   "source": [
    "## Non-Constructibe Change\r\n",
    "\r\n",
    "Given an array of positivr integers representing the values of coins in your possesion, write a function that returns the minumum amount of change (the minimum sum of money) that you cannot create. The given coins can have any positive integer value and aren't necessarily unique(i.e you can have multiple coins of the same value).\r\n",
    "\r\n",
    "For example, if you're given coins= [1,2,5], the minimum amount of change that you can't create is 4. If you're given no coins, the minimum amount of change that you can't create is 1"
   ],
   "metadata": {}
  },
  {
   "cell_type": "code",
   "execution_count": 7,
   "source": [
    "def nonConstructibleChange(coins):\r\n",
    "\t# Write your code here.\r\n",
    "\tcoins.sort()\r\n",
    "\tchange= 0\r\n",
    "\tfor coin in coins:\r\n",
    "\t\tif coin > change+1:\r\n",
    "\t\t\treturn change+1\r\n",
    "\t\tchange += coin\r\n",
    "\treturn change+1"
   ],
   "outputs": [],
   "metadata": {}
  },
  {
   "cell_type": "markdown",
   "source": [
    "## ProductSum\r\n",
    "\r\n",
    "Write a function that takes in a 'special' array and returns its product sum.\r\n",
    "\r\n",
    "A 'special' array is a non-empty array that contains either intergers or other 'special' array. The product sum of a 'special' array is the sum of its elements, where 'special' arrays inside it are summed themselves and then multiplied by their level of depth.\r\n",
    "\r\n",
    "The depth of a special array is how far nested it is. For instance, the depth of [] is 1 ; the depth of the inner array in[[]] is 2 and so on.\r\n",
    "\r\n",
    "Therefore the product sum of [x,y] is x+y the product sum of [x, [y, z]] is x +2 * (y+z)  and so on"
   ],
   "metadata": {}
  },
  {
   "cell_type": "code",
   "execution_count": 1,
   "source": [
    "# Tip: You can use the type(element) function to check whether an item\r\n",
    "# is a list or an integer.\r\n",
    "def productSum(array, multiplier=1):\r\n",
    "\t# Write your code here.\r\n",
    "\tsums = 0\r\n",
    "\tfor element in array:\r\n",
    "\t\tif type(element) is list:\r\n",
    "\t\t\tsums += productSum(element, multiplier+1)\r\n",
    "\t\telse:\r\n",
    "\t\t\tsums += element\r\n",
    "\treturn sums * multiplier"
   ],
   "outputs": [],
   "metadata": {}
  },
  {
   "cell_type": "markdown",
   "source": [
    "## Move Element To End\r\n",
    "\r\n",
    "You're given an array of integers and an integer. Write a function that moves all instances of that integer in the array to the end of the array and returns the array.\r\n",
    "\r\n",
    "The function should perform this in place (i.e it should mutate the input array) and doesn't need to maintain the order of the other integers."
   ],
   "metadata": {}
  },
  {
   "cell_type": "code",
   "execution_count": 1,
   "source": [
    "def MoveElementToEnd(array, toMove):\r\n",
    "    i = 0\r\n",
    "    j = len(array)\r\n",
    "    while i < j:\r\n",
    "        while i < j and array[j] == toMove:\r\n",
    "            j -= 1\r\n",
    "        if array[i] == toMove:\r\n",
    "            array[i], array[j] = array[j], array[i]\r\n",
    "        i += 1\r\n",
    "    return array"
   ],
   "outputs": [],
   "metadata": {}
  },
  {
   "cell_type": "markdown",
   "source": [
    "## Monotonic Array\r\n",
    "\r\n",
    "Write a function that takes in an array of integers and returns a boolean representing whether the array is monotonic.\r\n",
    "\r\n",
    "An array is said to be monotonic if its elements, from left to right are entirely non-increasing or entirely non-decreasing.\r\n",
    "\r\n",
    "Non-increasing elements aren't necessarily exclusively decreasing; they simply don't increase. Similarly, non-decreasing elements aren't necessarily exclusively increasing; they simply  don't decrease.\r\n",
    "\r\n",
    "Note that empty arrays and and arrays of one element are monotonic"
   ],
   "metadata": {}
  },
  {
   "cell_type": "code",
   "execution_count": 2,
   "source": [
    "def isMonotonic(array):\r\n",
    "    isNonIncreasing = isNonDecreasing = True\r\n",
    "    for i in range(1, len(array)):\r\n",
    "        if array[i] < array[i-1]:\r\n",
    "            isNonDecreasing = False\r\n",
    "        if array[i] > array[i-1]:\r\n",
    "            isNonIncreasing = False\r\n",
    "    return isNonIncreasing or isNonDecreasing"
   ],
   "outputs": [],
   "metadata": {}
  },
  {
   "cell_type": "markdown",
   "source": [
    "## First Duplicate Value\r\n",
    "\r\n",
    "Given an array of integers between 1 and n, inclusive where n is the length of the array, write a function that returns the first integer that appears more than once (when the array is read from left to right)\r\n",
    "\r\n",
    "In other words, out of all the integers that might occur more than once in the input array, your function should return the one whose first value has the minimum index.\r\n",
    "\r\n",
    "If no integer appears more than once, your function should return -1"
   ],
   "metadata": {}
  },
  {
   "cell_type": "code",
   "execution_count": 5,
   "source": [
    "def firstDuplicateValue(array):\r\n",
    "    seen = set()\r\n",
    "    for value in array:\r\n",
    "        if value in seen:\r\n",
    "            return value\r\n",
    "        else:\r\n",
    "            seen.add()\r\n",
    "    return -1"
   ],
   "outputs": [],
   "metadata": {}
  },
  {
   "cell_type": "markdown",
   "source": [
    "## Smallest Difference\r\n",
    "\r\n",
    "Write a function that takes in tow non-empty arrays of integers, finds the pair of numbers (one from each array) whose absolute difference is closest to zero, and returns an array containing these two numbers, with the number from the first array in the first position.\r\n",
    "\r\n",
    "Note that the absolute difference of two integers is the difference btn them on the real number line. For example, the abs diff of -5 and 5 is 10, and the abs diff of -5 and -4 is 1.\r\n",
    "\r\n",
    "You can assume that there will be only one pair of numbers with the smallest difference\r\n"
   ],
   "metadata": {}
  },
  {
   "cell_type": "code",
   "execution_count": 7,
   "source": [
    "def smallestDifference(arrayOne, arrayTwo):\r\n",
    "\t# Write your code here.\r\n",
    "\tarrayOne.sort()\r\n",
    "\tarrayTwo.sort()\r\n",
    "\ti = j = 0\r\n",
    "\tsmallestPair = []\r\n",
    "\tsmallest= float('inf')\r\n",
    "\tcurrent = float('inf')\r\n",
    "\twhile i < len(arrayOne) and j < len(arrayTwo):\r\n",
    "\t\tfirstNum = arrayOne[i]\r\n",
    "\t\tsecondNum = arrayTwo[j]\r\n",
    "\t\tif firstNum < secondNum:\r\n",
    "\t\t\tcurrent = secondNum - firstNum\r\n",
    "\t\t\ti += 1\r\n",
    "\t\telif secondNum < firstNum:\r\n",
    "\t\t\tcurrent = firstNum - secondNum\r\n",
    "\t\t\tj += 1\r\n",
    "\t\telse:\r\n",
    "\t\t\treturn [firstNum, secondNum]\r\n",
    "\t\tif smallest > current:\r\n",
    "\t\t\tsmallest = current\r\n",
    "\t\t\tsmallestPair = [firstNum, secondNum]\r\n",
    "\treturn smallestPair\r\n"
   ],
   "outputs": [],
   "metadata": {}
  },
  {
   "cell_type": "markdown",
   "source": [
    "## Two Number Sum\r\n",
    "\r\n",
    "Write a function that takes in a non-empty array of distinct integers and an integer representing a target sum. If any two number in the input array sum up to the  target sum, the function should return them in array, in any order. If no two numbers sum up to the target sum, the function should return an empty array.\r\n",
    "\r\n",
    "Note that the target sum has to be obtained by summing two different integers in the array; you can't add a single integer to itself in order to obtain the target sum.\r\n",
    "\r\n",
    "You can assume that there will be at most one pair of numbers summing to the target sum"
   ],
   "metadata": {}
  },
  {
   "cell_type": "code",
   "execution_count": 8,
   "source": [
    "def twoNumberSum(array, targetSum):\r\n",
    "    # Write your code here\r\n",
    "\ti = 0\r\n",
    "\tj = len(array)-1\r\n",
    "\tarray.sort()\r\n",
    "\twhile i < j:\r\n",
    "\t\tsumOfNumbers = array[i] + array[j]\r\n",
    "\t\tif sumOfNumbers == targetSum:\r\n",
    "\t\t\treturn [array[i], array[j]]\r\n",
    "\t\telif sumOfNumbers < targetSum:\r\n",
    "\t\t\ti += 1\r\n",
    "\t\telif sumOfNumbers > targetSum:\r\n",
    "\t\t\tj -= 1\r\n",
    "\treturn []"
   ],
   "outputs": [],
   "metadata": {}
  },
  {
   "cell_type": "code",
   "execution_count": null,
   "source": [],
   "outputs": [],
   "metadata": {}
  }
 ],
 "metadata": {
  "orig_nbformat": 4,
  "language_info": {
   "name": "python",
   "version": "3.8.10",
   "mimetype": "text/x-python",
   "codemirror_mode": {
    "name": "ipython",
    "version": 3
   },
   "pygments_lexer": "ipython3",
   "nbconvert_exporter": "python",
   "file_extension": ".py"
  },
  "kernelspec": {
   "name": "python3",
   "display_name": "Python 3.8.10 64-bit ('Tony_ml': conda)"
  },
  "interpreter": {
   "hash": "cde3ec76907d9d896e943ab917179e131da7cf4b500ea9b151f784767f25e879"
  }
 },
 "nbformat": 4,
 "nbformat_minor": 2
}