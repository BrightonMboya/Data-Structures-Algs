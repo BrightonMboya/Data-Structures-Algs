{
 "cells": [
  {
   "cell_type": "markdown",
   "metadata": {},
   "source": [
    "## Sorted Array\n",
    "\n",
    "Write a function that takes in a non-empty array of integers that are sorted in ascending order and returns a new array of the same length with the squares of the original integers also sorted in ascending order"
   ]
  },
  {
   "cell_type": "code",
   "execution_count": 13,
   "metadata": {},
   "outputs": [],
   "source": [
    "def sortedSquaredArray(array):\n",
    "\t# Write your code here.\n",
    "\tans = []\n",
    "\tfor value in array:\n",
    "\t\tsquared_ans= value ** 2\n",
    "\t\tans.append(squared_ans)\n",
    "\tans.sort()\n",
    "\treturn ans"
   ]
  },
  {
   "cell_type": "markdown",
   "metadata": {},
   "source": [
    "## Three Number Sum\n",
    "\n",
    "Write a function that takes in a non-empty array of distinct integers and an integer representing a target sum. The function should find all triplets in that array that sum up to the target sum and returns a two-demensional array of all these triplets. he numbers in each triplet should be ordered in ascending order, and the triplets themselves whould be ordered in ascending order with respect to the numbers they hold.\n",
    "\n",
    "If no three numbers sum up to the target sum, the function should return an empty array"
   ]
  },
  {
   "cell_type": "code",
   "execution_count": 16,
   "metadata": {},
   "outputs": [],
   "source": [
    "def threeNumberSum(array, targetSum):\n",
    "\t# Write your code here.\n",
    "\ttriplets = []\n",
    "\tarray.sort()\n",
    "\tfor i in range(len(array) - 2):\n",
    "\t\tstart = i+1\n",
    "\t\tend = len(array)-1\n",
    "\t\twhile start < end:\n",
    "\t\t\tsumOfNumbers= array[i] + array[start] + array[end]\n",
    "\t\t\tif sumOfNumbers == targetSum:\n",
    "\t\t\t\ttriplets.append([array[i], array[start], array[end]])\n",
    "\t\t\t\tstart += 1\n",
    "\t\t\t\tend -= 1\n",
    "\t\t\telif sumOfNumbers < targetSum:\n",
    "\t\t\t\tstart += 1\n",
    "\t\t\telif sumOfNumbers > targetSum:\n",
    "\t\t\t\tend -= 1\n",
    "\treturn triplets"
   ]
  },
  {
   "cell_type": "markdown",
   "metadata": {},
   "source": [
    "## Tournament Winner\n",
    "\n",
    "There is an algorithms tournament taking place where teams of programmers compete against each other to solve problems as fast as possible. Teams compete in a round robin, where each team faces off against all other teams.\n",
    "\n",
    "\n",
    "Only two teams compete against each other as a time, for each competition, one team is designated the home team while the other is the away team.\n",
    "In each competition there’s always one winner and one loser, there are no ties.\n",
    "\n",
    "\n",
    "A team receives 3 points if it wins and 0 points if it loses. The winning team is the team with the most points.\n",
    "Given an array of pairs representing the teams that have competed against each other an an array containing the result of each competition, create a function that returns the winner of the tournament.\n",
    "\n",
    "Sample_Input\n",
    "\n",
    "{\n",
    "  \"competitions\": [\n",
    "    [\"HTML\", \"C#\"],\n",
    "    [\"C#\", \"Python\"],\n",
    "    [\"Python\", \"HTML\"]\n",
    "  ],\n",
    "  \"results\": [0, 0, 1]\n",
    "}\n",
    "\n",
    "SampleOutput = python"
   ]
  },
  {
   "cell_type": "code",
   "execution_count": 17,
   "metadata": {},
   "outputs": [],
   "source": [
    "def tournamentWinner(competitions, results):\n",
    "    # Write your code here.\n",
    "\tcurrentBest = ''\n",
    "\tfinal_ans = {currentBest: 0}\n",
    "\tinxResult= 0\n",
    "\tfor team in competitions:\n",
    "\t\thome_team = team[0]\n",
    "\t\taway_team = team[1]\n",
    "\t\t#update the dict for away team winning\n",
    "\t\tif results[inxResult] == 1:\n",
    "\t\t\twinningTeam = home_team\n",
    "\t\t\tinxResult += 1\n",
    "\t\t\tupdateWinner(winningTeam, final_ans)\n",
    "\t\t\tif final_ans[winningTeam] > final_ans[currentBest]:\n",
    "\t\t\t\tcurrentBest = winningTeam\n",
    "\t\t\t\n",
    "\t\telse:\n",
    "\t\t\twinningTeam = away_team\n",
    "\t\t\tinxResult += 1\n",
    "\t\t\tupdateWinner(winningTeam, final_ans)\n",
    "\t\t\tif final_ans[winningTeam] > final_ans[currentBest]:\n",
    "\t\t\t\tcurrentBest = winningTeam\n",
    "\treturn currentBest\n",
    "\n",
    "\n",
    "def updateWinner(team, final_ans):\n",
    "\tif team in final_ans:\n",
    "\t\tfinal_ans[team] += 3\n",
    "\telse:\n",
    "\t\tfinal_ans[team] = 3"
   ]
  },
  {
   "cell_type": "markdown",
   "metadata": {},
   "source": [
    "## Non-Constructibe Change\n",
    "\n",
    "Given an array of positivr integers representing the values of coins in your possesion, write a function that returns the minumum amount of change (the minimum sum of money) that you cannot create. The given coins can have any positive integer value and aren't necessarily unique(i.e you can have multiple coins of the same value).\n",
    "\n",
    "For example, if you're given coins= [1,2,5], the minimum amount of change that you can't create is 4. If you're given no coins, the minimum amount of change that you can't create is 1"
   ]
  },
  {
   "cell_type": "code",
   "execution_count": 7,
   "metadata": {},
   "outputs": [],
   "source": [
    "def nonConstructibleChange(coins):\n",
    "\t# Write your code here.\n",
    "\tcoins.sort()\n",
    "\tchange= 0\n",
    "\tfor coin in coins:\n",
    "\t\tif coin > change+1:\n",
    "\t\t\treturn change+1\n",
    "\t\tchange += coin\n",
    "\treturn change+1"
   ]
  },
  {
   "cell_type": "markdown",
   "metadata": {},
   "source": [
    "## ProductSum\n",
    "\n",
    "Write a function that takes in a 'special' array and returns its product sum.\n",
    "\n",
    "A 'special' array is a non-empty array that contains either intergers or other 'special' array. The product sum of a 'special' array is the sum of its elements, where 'special' arrays inside it are summed themselves and then multiplied by their level of depth.\n",
    "\n",
    "The depth of a special array is how far nested it is. For instance, the depth of [] is 1 ; the depth of the inner array in[[]] is 2 and so on.\n",
    "\n",
    "Therefore the product sum of [x,y] is x+y the product sum of [x, [y, z]] is x +2 * (y+z)  and so on"
   ]
  },
  {
   "cell_type": "code",
   "execution_count": 1,
   "metadata": {},
   "outputs": [],
   "source": [
    "# Tip: You can use the type(element) function to check whether an item\n",
    "# is a list or an integer.\n",
    "def productSum(array, multiplier=1):\n",
    "\t# Write your code here.\n",
    "\tsums = 0\n",
    "\tfor element in array:\n",
    "\t\tif type(element) is list:\n",
    "\t\t\tsums += productSum(element, multiplier+1)\n",
    "\t\telse:\n",
    "\t\t\tsums += element\n",
    "\treturn sums * multiplier"
   ]
  },
  {
   "cell_type": "markdown",
   "metadata": {},
   "source": [
    "## Move Element To End\n",
    "\n",
    "You're given an array of integers and an integer. Write a function that moves all instances of that integer in the array to the end of the array and returns the array.\n",
    "\n",
    "The function should perform this in place (i.e it should mutate the input array) and doesn't need to maintain the order of the other integers."
   ]
  },
  {
   "cell_type": "code",
   "execution_count": 1,
   "metadata": {},
   "outputs": [],
   "source": [
    "def MoveElementToEnd(array, toMove):\n",
    "    i = 0\n",
    "    j = len(array)\n",
    "    while i < j:\n",
    "        while i < j and array[j] == toMove:\n",
    "            j -= 1\n",
    "        if array[i] == toMove:\n",
    "            array[i], array[j] = array[j], array[i]\n",
    "        i += 1\n",
    "    return array"
   ]
  },
  {
   "cell_type": "markdown",
   "metadata": {},
   "source": [
    "## Monotonic Array\n",
    "\n",
    "Write a function that takes in an array of integers and returns a boolean representing whether the array is monotonic.\n",
    "\n",
    "An array is said to be monotonic if its elements, from left to right are entirely non-increasing or entirely non-decreasing.\n",
    "\n",
    "Non-increasing elements aren't necessarily exclusively decreasing; they simply don't increase. Similarly, non-decreasing elements aren't necessarily exclusively increasing; they simply  don't decrease.\n",
    "\n",
    "Note that empty arrays and and arrays of one element are monotonic"
   ]
  },
  {
   "cell_type": "code",
   "execution_count": 2,
   "metadata": {},
   "outputs": [],
   "source": [
    "def isMonotonic(array):\n",
    "    isNonIncreasing = isNonDecreasing = True\n",
    "    for i in range(1, len(array)):\n",
    "        if array[i] < array[i-1]:\n",
    "            isNonDecreasing = False\n",
    "        if array[i] > array[i-1]:\n",
    "            isNonIncreasing = False\n",
    "    return isNonIncreasing or isNonDecreasing"
   ]
  },
  {
   "cell_type": "markdown",
   "metadata": {},
   "source": [
    "## First Duplicate Value\n",
    "\n",
    "Given an array of integers between 1 and n, inclusive where n is the length of the array, write a function that returns the first integer that appears more than once (when the array is read from left to right)\n",
    "\n",
    "In other words, out of all the integers that might occur more than once in the input array, your function should return the one whose first value has the minimum index.\n",
    "\n",
    "If no integer appears more than once, your function should return -1"
   ]
  },
  {
   "cell_type": "code",
   "execution_count": 5,
   "metadata": {},
   "outputs": [],
   "source": [
    "def firstDuplicateValue(array):\n",
    "    seen = set()\n",
    "    for value in array:\n",
    "        if value in seen:\n",
    "            return value\n",
    "        else:\n",
    "            seen.add()\n",
    "    return -1"
   ]
  },
  {
   "cell_type": "markdown",
   "metadata": {},
   "source": [
    "## Smallest Difference\n",
    "\n",
    "Write a function that takes in tow non-empty arrays of integers, finds the pair of numbers (one from each array) whose absolute difference is closest to zero, and returns an array containing these two numbers, with the number from the first array in the first position.\n",
    "\n",
    "Note that the absolute difference of two integers is the difference btn them on the real number line. For example, the abs diff of -5 and 5 is 10, and the abs diff of -5 and -4 is 1.\n",
    "\n",
    "You can assume that there will be only one pair of numbers with the smallest difference\n"
   ]
  },
  {
   "cell_type": "code",
   "execution_count": 7,
   "metadata": {},
   "outputs": [],
   "source": [
    "def smallestDifference(arrayOne, arrayTwo):\n",
    "\t# Write your code here.\n",
    "\tarrayOne.sort()\n",
    "\tarrayTwo.sort()\n",
    "\ti = j = 0\n",
    "\tsmallestPair = []\n",
    "\tsmallest= float('inf')\n",
    "\tcurrent = float('inf')\n",
    "\twhile i < len(arrayOne) and j < len(arrayTwo):\n",
    "\t\tfirstNum = arrayOne[i]\n",
    "\t\tsecondNum = arrayTwo[j]\n",
    "\t\tif firstNum < secondNum:\n",
    "\t\t\tcurrent = secondNum - firstNum\n",
    "\t\t\ti += 1\n",
    "\t\telif secondNum < firstNum:\n",
    "\t\t\tcurrent = firstNum - secondNum\n",
    "\t\t\tj += 1\n",
    "\t\telse:\n",
    "\t\t\treturn [firstNum, secondNum]\n",
    "\t\tif smallest > current:\n",
    "\t\t\tsmallest = current\n",
    "\t\t\tsmallestPair = [firstNum, secondNum]\n",
    "\treturn smallestPair\n"
   ]
  },
  {
   "cell_type": "markdown",
   "metadata": {},
   "source": [
    "## Two Number Sum\n",
    "\n",
    "Write a function that takes in a non-empty array of distinct integers and an integer representing a target sum. If any two number in the input array sum up to the  target sum, the function should return them in array, in any order. If no two numbers sum up to the target sum, the function should return an empty array.\n",
    "\n",
    "Note that the target sum has to be obtained by summing two different integers in the array; you can't add a single integer to itself in order to obtain the target sum.\n",
    "\n",
    "You can assume that there will be at most one pair of numbers summing to the target sum"
   ]
  },
  {
   "cell_type": "code",
   "execution_count": 8,
   "metadata": {},
   "outputs": [],
   "source": [
    "def twoNumberSum(array, targetSum):\n",
    "    # Write your code here\n",
    "\ti = 0\n",
    "\tj = len(array)-1\n",
    "\tarray.sort()\n",
    "\twhile i < j:\n",
    "\t\tsumOfNumbers = array[i] + array[j]\n",
    "\t\tif sumOfNumbers == targetSum:\n",
    "\t\t\treturn [array[i], array[j]]\n",
    "\t\telif sumOfNumbers < targetSum:\n",
    "\t\t\ti += 1\n",
    "\t\telif sumOfNumbers > targetSum:\n",
    "\t\t\tj -= 1\n",
    "\treturn []"
   ]
  },
  {
   "cell_type": "markdown",
   "metadata": {},
   "source": [
    "## Four Number Sum"
   ]
  }
 ],
 "metadata": {
  "interpreter": {
   "hash": "cde3ec76907d9d896e943ab917179e131da7cf4b500ea9b151f784767f25e879"
  },
  "kernelspec": {
   "display_name": "Python 3.8.10 64-bit ('Tony_ml': conda)",
   "name": "python3"
  },
  "language_info": {
   "codemirror_mode": {
    "name": "ipython",
    "version": 3
   },
   "file_extension": ".py",
   "mimetype": "text/x-python",
   "name": "python",
   "nbconvert_exporter": "python",
   "pygments_lexer": "ipython3",
   "version": "3.8.10"
  },
  "orig_nbformat": 4
 },
 "nbformat": 4,
 "nbformat_minor": 2
}
