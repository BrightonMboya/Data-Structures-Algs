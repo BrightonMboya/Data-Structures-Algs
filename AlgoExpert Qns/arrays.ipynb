{
 "cells": [
  {
   "cell_type": "markdown",
   "source": [
    "## Sorted Array\r\n",
    "\r\n",
    "Write a function that takes in a non-empty array of integers that are sorted in ascending order and returns a new array of the same length with the squares of the original integers also sorted in ascending order"
   ],
   "metadata": {}
  },
  {
   "cell_type": "code",
   "execution_count": 13,
   "source": [
    "def sortedSquaredArray(array):\r\n",
    "\t# Write your code here.\r\n",
    "\tans = []\r\n",
    "\tfor value in array:\r\n",
    "\t\tsquared_ans= value ** 2\r\n",
    "\t\tans.append(squared_ans)\r\n",
    "\tans.sort()\r\n",
    "\treturn ans"
   ],
   "outputs": [],
   "metadata": {}
  },
  {
   "cell_type": "code",
   "execution_count": null,
   "source": [],
   "outputs": [],
   "metadata": {}
  }
 ],
 "metadata": {
  "orig_nbformat": 4,
  "language_info": {
   "name": "python",
   "version": "3.8.10",
   "mimetype": "text/x-python",
   "codemirror_mode": {
    "name": "ipython",
    "version": 3
   },
   "pygments_lexer": "ipython3",
   "nbconvert_exporter": "python",
   "file_extension": ".py"
  },
  "kernelspec": {
   "name": "python3",
   "display_name": "Python 3.8.10 64-bit ('Tony_ml': conda)"
  },
  "interpreter": {
   "hash": "3cda1abfc2264e5aafed419a9d1c945a6bcbd7c77187ca59a7878bb80eaea557"
  }
 },
 "nbformat": 4,
 "nbformat_minor": 2
}