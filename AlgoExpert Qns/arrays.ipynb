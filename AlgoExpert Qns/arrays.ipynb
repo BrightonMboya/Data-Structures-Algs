{
 "cells": [
  {
   "cell_type": "markdown",
   "source": [
    "## Sorted Array\r\n",
    "\r\n",
    "Write a function that takes in a non-empty array of integers that are sorted in ascending order and returns a new array of the same length with the squares of the original integers also sorted in ascending order"
   ],
   "metadata": {}
  },
  {
   "cell_type": "code",
   "execution_count": 13,
   "source": [
    "def sortedSquaredArray(array):\r\n",
    "\t# Write your code here.\r\n",
    "\tans = []\r\n",
    "\tfor value in array:\r\n",
    "\t\tsquared_ans= value ** 2\r\n",
    "\t\tans.append(squared_ans)\r\n",
    "\tans.sort()\r\n",
    "\treturn ans"
   ],
   "outputs": [],
   "metadata": {}
  },
  {
   "cell_type": "markdown",
   "source": [
    "## Three Number Sum\r\n",
    "\r\n",
    "Write a function that takes in a non-empty array of distinct integers and an integer representing a target sum. The function should find all triplets in that array that sum up to the target sum and returns a two-demensional array of all these triplets. he numbers in each triplet should be ordered in ascending order, and the triplets themselves whould be ordered in ascending order with respect to the numbers they hold.\r\n",
    "\r\n",
    "If no three numbers sum up to the target sum, the function should return an empty array"
   ],
   "metadata": {}
  },
  {
   "cell_type": "code",
   "execution_count": 16,
   "source": [
    "def threeNumberSum(array, targetSum):\r\n",
    "\t# Write your code here.\r\n",
    "\ttriplets = []\r\n",
    "\tarray.sort()\r\n",
    "\tfor i in range(len(array) - 2):\r\n",
    "\t\tstart = i+1\r\n",
    "\t\tend = len(array)-1\r\n",
    "\t\twhile start < end:\r\n",
    "\t\t\tsumOfNumbers= array[i] + array[start] + array[end]\r\n",
    "\t\t\tif sumOfNumbers == targetSum:\r\n",
    "\t\t\t\ttriplets.append([array[i], array[start], array[end]])\r\n",
    "\t\t\t\tstart += 1\r\n",
    "\t\t\t\tend -= 1\r\n",
    "\t\t\telif sumOfNumbers < targetSum:\r\n",
    "\t\t\t\tstart += 1\r\n",
    "\t\t\telif sumOfNumbers > targetSum:\r\n",
    "\t\t\t\tend -= 1\r\n",
    "\treturn triplets"
   ],
   "outputs": [],
   "metadata": {}
  },
  {
   "cell_type": "markdown",
   "source": [
    "## Tournament Winner\r\n",
    "\r\n",
    "There is an algorithms tournament taking place where teams of programmers compete against each other to solve problems as fast as possible. Teams compete in a round robin, where each team faces off against all other teams.\r\n",
    "\r\n",
    "\r\n",
    "Only two teams compete against each other as a time, for each competition, one team is designated the home team while the other is the away team.\r\n",
    "In each competition there’s always one winner and one loser, there are no ties.\r\n",
    "\r\n",
    "\r\n",
    "A team receives 3 points if it wins and 0 points if it loses. The winning team is the team with the most points.\r\n",
    "Given an array of pairs representing the teams that have competed against each other an an array containing the result of each competition, create a function that returns the winner of the tournament.\r\n",
    "\r\n",
    "Sample_Input\r\n",
    "\r\n",
    "{\r\n",
    "  \"competitions\": [\r\n",
    "    [\"HTML\", \"C#\"],\r\n",
    "    [\"C#\", \"Python\"],\r\n",
    "    [\"Python\", \"HTML\"]\r\n",
    "  ],\r\n",
    "  \"results\": [0, 0, 1]\r\n",
    "}\r\n",
    "\r\n",
    "SampleOutput = python"
   ],
   "metadata": {}
  },
  {
   "cell_type": "code",
   "execution_count": 17,
   "source": [
    "def tournamentWinner(competitions, results):\r\n",
    "    # Write your code here.\r\n",
    "\tcurrentBest = ''\r\n",
    "\tfinal_ans = {currentBest: 0}\r\n",
    "\tinxResult= 0\r\n",
    "\tfor team in competitions:\r\n",
    "\t\thome_team = team[0]\r\n",
    "\t\taway_team = team[1]\r\n",
    "\t\t#update the dict for away team winning\r\n",
    "\t\tif results[inxResult] == 1:\r\n",
    "\t\t\twinningTeam = home_team\r\n",
    "\t\t\tinxResult += 1\r\n",
    "\t\t\tupdateWinner(winningTeam, final_ans)\r\n",
    "\t\t\tif final_ans[winningTeam] > final_ans[currentBest]:\r\n",
    "\t\t\t\tcurrentBest = winningTeam\r\n",
    "\t\t\t\r\n",
    "\t\telse:\r\n",
    "\t\t\twinningTeam = away_team\r\n",
    "\t\t\tinxResult += 1\r\n",
    "\t\t\tupdateWinner(winningTeam, final_ans)\r\n",
    "\t\t\tif final_ans[winningTeam] > final_ans[currentBest]:\r\n",
    "\t\t\t\tcurrentBest = winningTeam\r\n",
    "\treturn currentBest\r\n",
    "\r\n",
    "\r\n",
    "def updateWinner(team, final_ans):\r\n",
    "\tif team in final_ans:\r\n",
    "\t\tfinal_ans[team] += 3\r\n",
    "\telse:\r\n",
    "\t\tfinal_ans[team] = 3"
   ],
   "outputs": [],
   "metadata": {}
  },
  {
   "cell_type": "markdown",
   "source": [
    "## Non-Constructibe Change\r\n",
    "\r\n",
    "Given an array of positivr integers representing the values of coins in your possesion, write a function that returns the minumum amount of change (the minimum sum of money) that you cannot create. The given coins can have any positive integer value and aren't necessarily unique(i.e you can have multiple coins of the same value).\r\n",
    "\r\n",
    "For example, if you're given coins= [1,2,5], the minimum amount of change that you can't create is 4. If you're given no coins, the minimum amount of change that you can't create is 1"
   ],
   "metadata": {}
  },
  {
   "cell_type": "code",
   "execution_count": 7,
   "source": [
    "def nonConstructibleChange(coins):\r\n",
    "\t# Write your code here.\r\n",
    "\tcoins.sort()\r\n",
    "\tchange= 0\r\n",
    "\tfor coin in coins:\r\n",
    "\t\tif coin > change+1:\r\n",
    "\t\t\treturn change+1\r\n",
    "\t\tchange += coin\r\n",
    "\treturn change+1"
   ],
   "outputs": [],
   "metadata": {}
  },
  {
   "cell_type": "code",
   "execution_count": null,
   "source": [],
   "outputs": [],
   "metadata": {}
  }
 ],
 "metadata": {
  "orig_nbformat": 4,
  "language_info": {
   "name": "python",
   "version": "3.8.10",
   "mimetype": "text/x-python",
   "codemirror_mode": {
    "name": "ipython",
    "version": 3
   },
   "pygments_lexer": "ipython3",
   "nbconvert_exporter": "python",
   "file_extension": ".py"
  },
  "kernelspec": {
   "name": "python3",
   "display_name": "Python 3.8.10 64-bit ('Tony_ml': conda)"
  },
  "interpreter": {
   "hash": "cde3ec76907d9d896e943ab917179e131da7cf4b500ea9b151f784767f25e879"
  }
 },
 "nbformat": 4,
 "nbformat_minor": 2
}