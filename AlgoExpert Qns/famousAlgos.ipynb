{
 "cells": [
  {
   "cell_type": "markdown",
   "metadata": {},
   "source": [
    "## BellMan Ford Algorithm\n",
    "\n",
    "Bellman Ford Algo is an algo which is used to solve shortest path problems in graphs. The first code walkthrough will make sense, and then it follows the leetcode problem. Cheapest flight within k stops\n",
    "\n",
    "\n",
    "SO the idea is you initialize the price to be inf for all the stops except the src and then travel (v-1) where v is the number of verteces. \n",
    "then have a temp array called tempPrices which is a copy of prices at that point.\n",
    "and on each iteration, check if the price at that station is inf, if it is then continue.\n",
    "\n",
    "\n",
    "Then if its not check if the price at that stop + the price is less than the tempprice at the dest, if it is then update it.\n",
    "\n",
    "then update the price to be tempprice"
   ]
  },
  {
   "cell_type": "code",
   "execution_count": 7,
   "metadata": {},
   "outputs": [
    {
     "name": "stdout",
     "output_type": "stream",
     "text": [
      "Enter the weighted edges of the graph \n",
      "Distance from source vertex 0\n",
      "vertex \t Distance from the Source\n",
      "0 \t 0\n",
      "1 \t 100\n",
      "2 \t 200\n",
      "Distance from source vertex 0\n",
      "vertex \t Distance from the Source\n",
      "0 \t 0\n",
      "1 \t 100\n",
      "2 \t 200\n"
     ]
    }
   ],
   "source": [
    "# number of nodes in the graph\n",
    "n = int(input('Enter the number of nodes in the graph'))\n",
    "\n",
    "#number of edges\n",
    "m = int(input('Enter the number of edges in the graph '))\n",
    "\n",
    "# graph to contain weighted edges\n",
    "graph = []\n",
    "\n",
    "print('Enter the weighted edges of the graph ')\n",
    "for i in range(m):\n",
    "    #source, destination, prices\n",
    "    s,d,p = list(map(int, input().split()))\n",
    "    graph.append([s,d,p])\n",
    "\n",
    "def belmanFord(src):\n",
    "    #initialize the prc from source vertex to all the vertices to inf and price of the src vertex to be zero\n",
    "    prices = [float('inf') for i in range(n)]\n",
    "    prices[src] = 0\n",
    "\n",
    "    #relax all edges |v| -1 times. A simple shortest path from src to any vertex can have at most |v| - 1 edges\n",
    "    for i in range(n-1):\n",
    "\n",
    "        # update the price value and parent inx of the adjacent vertices of the picked vertex. consider only those vertices which are still in queue\n",
    "        for s,d,p in graph:\n",
    "            if prices[s] != float('inf') and prices[s] + p < prices[d]:\n",
    "                prices[d] = prices[s] + p\n",
    "        \n",
    "\n",
    "        # Step 3: check for negative-weight cycles. The above step guarantees shortest distances if graph doesnt contain negative weight cycle. \n",
    "        # If we get a shorter path, then there is a cycle\n",
    "        cycle = 0\n",
    "        for s,d,p in graph:\n",
    "            if prices[s] !=  float('inf') and prices[s] + p < prices[d]:\n",
    "                print('Graph contains negative weight cycle')\n",
    "                cycle = 1\n",
    "                break\n",
    "        \n",
    "        if cycle == 0:\n",
    "            print('Distance from source vertex', src)\n",
    "            print('vertex \\t Distance from the Source')\n",
    "            for i in range(len(prices)):\n",
    "                print(i, '\\t', prices[i])\n",
    "\n",
    "\n",
    "belmanFord(0)"
   ]
  },
  {
   "cell_type": "markdown",
   "metadata": {},
   "source": [
    "## Cheapest Flight within K stops\n",
    "\n",
    "There are n cities connected by some number of flights. You are given an array flights where flights[i] = [fromi, toi, pricei] indicates that there is a flight from city fromi to city toi with cost pricei.\n",
    "\n",
    "You are also given three integers src, dst, and k, return the cheapest price from src to dst with at most k stops. If there is no such route, return -1.\n",
    "\n",
    "Input: n = 3, flights = [[0,1,100],[1,2,100],[0,2,500]], src = 0, dst = 2, k = 1\n",
    "\n",
    "\n",
    "Output: 200\n",
    "\n",
    "\n"
   ]
  },
  {
   "cell_type": "code",
   "execution_count": 10,
   "metadata": {},
   "outputs": [
    {
     "data": {
      "text/plain": [
       "200"
      ]
     },
     "execution_count": 10,
     "metadata": {},
     "output_type": "execute_result"
    }
   ],
   "source": [
    "def findCheapestPrice(n, flights, src, dst, k):\n",
    "    prices  = [float('inf')] * n\n",
    "    prices[src] = 0\n",
    "\n",
    "    for i in range(k+1):\n",
    "        tempPrices = prices.copy()\n",
    "\n",
    "        for s, d, p in flights:\n",
    "            if prices[s] != float('inf') and prices[s] + p < tempPrices[d]:\n",
    "                tempPrices[d] = prices[s] + p\n",
    "        \n",
    "        prices = tempPrices\n",
    "\n",
    "    return -1 if prices[dst] == float('inf') else prices[dst]      \n",
    "\n",
    "\n",
    "\n",
    "findCheapestPrice(n = 3, flights = [[0,1,100],[1,2,100],[0,2,500]], src = 0, dst = 2, k = 1)     "
   ]
  },
  {
   "cell_type": "code",
   "execution_count": null,
   "metadata": {},
   "outputs": [],
   "source": []
  }
 ],
 "metadata": {
  "interpreter": {
   "hash": "d421f7e0be82773f79ff071f6681b3a26ad583fa2b319fe248c43945bdde9151"
  },
  "kernelspec": {
   "display_name": "Python 3.8.5 64-bit (conda)",
   "name": "python3"
  },
  "language_info": {
   "codemirror_mode": {
    "name": "ipython",
    "version": 3
   },
   "file_extension": ".py",
   "mimetype": "text/x-python",
   "name": "python",
   "nbconvert_exporter": "python",
   "pygments_lexer": "ipython3",
   "version": "3.8.5"
  },
  "orig_nbformat": 4
 },
 "nbformat": 4,
 "nbformat_minor": 2
}
