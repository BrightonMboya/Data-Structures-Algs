{
 "cells": [
  {
   "cell_type": "markdown",
   "source": [
    "### Search\r\n",
    "Let's try to find an element in a certain list and return True if the element is present and false if otherwise\r\n",
    "\r\n",
    "\r\n",
    "This algorithm will use O(n) time-complexity since each element will be accessed in a worst case scenario"
   ],
   "metadata": {}
  },
  {
   "cell_type": "markdown",
   "source": [
    "When the sequence is unsorted, the standard approach to search for a target\r\n",
    "value is to use a loop to examine every element, until either finding the target or\r\n",
    "exhausting the data set. This is known as the sequential search algorithm. This\r\n",
    "algorithm runs in O(n) time (i.e., linear time) since every element is inspected in\r\n",
    "the worst case."
   ],
   "metadata": {}
  },
  {
   "cell_type": "code",
   "execution_count": 19,
   "source": [
    "number = list(range(1, 100, 2))\r\n",
    "print(number)"
   ],
   "outputs": [
    {
     "output_type": "stream",
     "name": "stdout",
     "text": [
      "[1, 3, 5, 7, 9, 11, 13, 15, 17, 19, 21, 23, 25, 27, 29, 31, 33, 35, 37, 39, 41, 43, 45, 47, 49, 51, 53, 55, 57, 59, 61, 63, 65, 67, 69, 71, 73, 75, 77, 79, 81, 83, 85, 87, 89, 91, 93, 95, 97, 99]\n"
     ]
    }
   ],
   "metadata": {}
  },
  {
   "cell_type": "code",
   "execution_count": 20,
   "source": [
    "len(number)"
   ],
   "outputs": [
    {
     "output_type": "execute_result",
     "data": {
      "text/plain": [
       "50"
      ]
     },
     "metadata": {},
     "execution_count": 20
    }
   ],
   "metadata": {}
  },
  {
   "cell_type": "code",
   "execution_count": 26,
   "source": [
    "def search(nu):\r\n",
    "    if nu in number:\r\n",
    "        return True\r\n",
    "    else:\r\n",
    "        return False"
   ],
   "outputs": [],
   "metadata": {}
  },
  {
   "cell_type": "code",
   "execution_count": 27,
   "source": [
    "search(7)"
   ],
   "outputs": [
    {
     "output_type": "execute_result",
     "data": {
      "text/plain": [
       "True"
      ]
     },
     "metadata": {},
     "execution_count": 27
    }
   ],
   "metadata": {}
  },
  {
   "cell_type": "code",
   "execution_count": 28,
   "source": [
    "search(100)"
   ],
   "outputs": [
    {
     "output_type": "execute_result",
     "data": {
      "text/plain": [
       "False"
      ]
     },
     "metadata": {},
     "execution_count": 28
    }
   ],
   "metadata": {}
  },
  {
   "cell_type": "markdown",
   "source": [
    "## Binary Search\r\n",
    "When the sequence is sorted and indexable, there is a much more efficient\r\n",
    "algorithm. (For intuition, think about how you would accomplish this task by\r\n",
    "hand!) For any index j, we know that all the values stored at indices 0, . . . , j−1\r\n",
    "are less than or equal to the value at index j, and all the values stored at indices\r\n",
    "j+1, . . . ,n−1 are greater than or equal to that at index j. This observation allows\r\n",
    "us to quickly “home in” on a search target using a variant of the children’s game\r\n",
    "“high-low.” We call an element of the sequence a candidate if, at the current stage\r\n",
    "of the search, we cannot rule out that this item matches the target. The algorithm\r\n",
    "maintains two parameters, low and high, such that all the candidate entries have\r\n",
    "index at least low and at most high. Initially, low = 0 and high = n−1. We then\r\n",
    "compare the target value to the median candidate, that is, the item data[mid] with\r\n",
    "index\r\n",
    "mid = \u0010(low+high)/2\u0011 .\r\n",
    "\r\n",
    "\r\n",
    "We consider three cases:\r\n",
    "* If the target equals data[mid], then we have found the item we are looking\r\n",
    "for, and the search terminates successfully.\r\n",
    "* If target < data[mid], then we recur on the first half of the sequence, that is,\r\n",
    "on the interval of indices from low to mid−1.\r\n",
    "* If target > data[mid], then we recur on the second half of the sequence, that\r\n",
    "is, on the interval of indices from mid+1 to high.\r\n",
    "An unsuccessful search occurs if low > high, as the interval [low,high] is empty."
   ],
   "metadata": {}
  },
  {
   "cell_type": "code",
   "execution_count": 69,
   "source": [
    "def binary_search(data, target, low, high):\r\n",
    "    if high >= low:        \r\n",
    "        mid = (low + high) // 2\r\n",
    "        if data[mid] == target:\r\n",
    "            return True\r\n",
    "        elif target < data[mid]:\r\n",
    "            return binary_search(data, target, low, mid - 1)\r\n",
    "        elif target > data[mid]:\r\n",
    "            return binary_search(data, target, mid + 1, high)\r\n",
    "        else:\r\n",
    "            msg = 'Data not found'\r\n",
    "            return msg\r\n",
    "    else:\r\n",
    "        return 'element not found in the list'"
   ],
   "outputs": [],
   "metadata": {}
  },
  {
   "cell_type": "code",
   "execution_count": 70,
   "source": [
    "numb = [1, 3, 5, 6, 7, 8]\r\n",
    "binary_search(numb, 4, 0, len(numb)-1)"
   ],
   "outputs": [
    {
     "output_type": "execute_result",
     "data": {
      "text/plain": [
       "'element not found in the list'"
      ]
     },
     "metadata": {},
     "execution_count": 70
    }
   ],
   "metadata": {}
  },
  {
   "cell_type": "markdown",
   "source": [
    "This algorithm is known as binary search. We give a Python implementation.\r\n",
    "\r\n",
    " Whereas sequential search runs in O(n) time, the more efficient binary\r\n",
    "search runs in O(logn) time. This is a significant improvement, given that if n\r\n",
    "is one billion, logn is only 30."
   ],
   "metadata": {}
  },
  {
   "cell_type": "markdown",
   "source": [],
   "metadata": {}
  }
 ],
 "metadata": {
  "orig_nbformat": 4,
  "language_info": {
   "name": "python",
   "version": "3.8.5",
   "mimetype": "text/x-python",
   "codemirror_mode": {
    "name": "ipython",
    "version": 3
   },
   "pygments_lexer": "ipython3",
   "nbconvert_exporter": "python",
   "file_extension": ".py"
  },
  "kernelspec": {
   "name": "python3",
   "display_name": "Python 3.8.5 64-bit ('base': conda)"
  },
  "interpreter": {
   "hash": "d421f7e0be82773f79ff071f6681b3a26ad583fa2b319fe248c43945bdde9151"
  }
 },
 "nbformat": 4,
 "nbformat_minor": 2
}