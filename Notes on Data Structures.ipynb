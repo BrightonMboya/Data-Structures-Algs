{
 "cells": [
  {
   "cell_type": "markdown",
   "source": [
    "## Notes on Data Structures and Algs\r\n",
    "\r\n",
    "This notebook has only brief notes concerning the topic. Just as a refresher when prepping for the coding interview.\r\n",
    "\r\n",
    "### 3 Key Terms\r\n",
    "1. Complexity Analysis:\r\n",
    "The process of determining how efficient an algorithm is. Complexity Analysis usually involves finding both the time complexity and the space complexity of an algorithm. Complexity Analysis is effectively used to determine how 'good' an algorithm is and whether it's 'better' than another one.\r\n",
    "\r\n",
    "2. Time complexity\r\n",
    "A measure of how fast an algorithm runs, time complexity is a central concept in the field of algorithms and in coding interviews. It's expressed using `*Big O*` Notation.\r\n",
    "\r\n",
    "3. Space Complexity\r\n",
    "A measure of how much auxiliary memory an algorithm takes up, complexity is a central concepts in the field of algorithms and in coding interviews. It's expressed using `*Big O*` Notation."
   ],
   "metadata": {}
  },
  {
   "cell_type": "markdown",
   "source": [
    "## Memory\r\n",
    "\r\n",
    "Whenever you execute any simple program like declaring a variable, that variable is stored in memory in which you can retreive later. Now you can think of memory as a canvas (just a grid, with different slots in your machine) where you can store this information.\r\n",
    "* Each grid has numbers in it (expressed as binary numbers) in which they are reffered as memory adresses.\r\n",
    "\r\n",
    "* Each memory slot can take only 8 bits (now known as bytes). And one memory slot can represent up to 2**8 = 256 number. So if we have data which has more value than 256 we then increase the number of bits from 8 bits to let's say 32 bits, or 64 bits and so on. Note: As we increase the number of bits, we also increase the number of memory slots we can accomodate on our data\r\n",
    "\r\n",
    "* And data is stored in this memory slots in terms of binary numbers also.\r\n",
    "\r\n",
    "* For the case of strings, we map the ASCII values of the strings to base ten numbers and then to base 2 (binary numbers)\r\n",
    "\r\n",
    "`Fixed-Width-Integer` -> An integer represented by a fixed amount of bits. For example, a 32-bit integer is an integer represented by 32 bits (4 bytes), and a 64-bit integer is an integer represented by 64 bits (8 bytes). Regardless of how large an integer is, its fixed-width-representation is, by defn, made up of a constant number of bits. It follows that, regardless of how large an integer is, an operation perfomed on its fixed width-integer representation consists of a constant number of bit manipulations, since the integer is made up of a fixed number of bits"
   ],
   "metadata": {}
  },
  {
   "cell_type": "markdown",
   "source": [
    "## Big O Notation:"
   ],
   "metadata": {}
  }
 ],
 "metadata": {
  "orig_nbformat": 4,
  "language_info": {
   "name": "python",
   "version": "3.8.10",
   "mimetype": "text/x-python",
   "codemirror_mode": {
    "name": "ipython",
    "version": 3
   },
   "pygments_lexer": "ipython3",
   "nbconvert_exporter": "python",
   "file_extension": ".py"
  },
  "kernelspec": {
   "name": "python3",
   "display_name": "Python 3.8.10 64-bit ('Tony_ml': conda)"
  },
  "interpreter": {
   "hash": "3cda1abfc2264e5aafed419a9d1c945a6bcbd7c77187ca59a7878bb80eaea557"
  }
 },
 "nbformat": 4,
 "nbformat_minor": 2
}